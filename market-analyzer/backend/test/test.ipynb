{
 "cells": [
  {
   "cell_type": "markdown",
   "metadata": {},
   "source": [
    "## Yahoo Fundamental"
   ]
  },
  {
   "cell_type": "code",
   "execution_count": null,
   "metadata": {},
   "outputs": [],
   "source": [
    "# def get_yahoo_economic_calendar(table_class: str = None) -> pd.DataFrame:\n",
    "#     \"\"\"\n",
    "#     Extrat data from trading economics callendar.\n",
    "\n",
    "#     Parameters:\n",
    "#         classe_tabela (str): Class CSS from table to scrap (optional).\n",
    "\n",
    "#     Returns:\n",
    "#         pd.DataFrame: DataFrame with table content.\n",
    "#     \"\"\"\n",
    "\n",
    "#     headers = {\n",
    "#         \"User-Agent\": \"Mozilla/5.0 (Windows NT 10.0; Win64; x64) AppleWebKit/537.36 (KHTML, like Gecko) Chrome/91.0.4472.124 Safari/537.36\"\n",
    "#     }\n",
    "\n",
    "#     try:\n",
    "#         response = requests.get(\"https://tradingeconomics.com/calendar\", headers=headers)\n",
    "#         response.raise_for_status()\n",
    "\n",
    "#         soup = BeautifulSoup(response.text, 'html.parser')\n",
    "\n",
    "#         if table_class:\n",
    "#             tabela = soup.find('table', {'class': table_class})\n",
    "#         else:\n",
    "#             tabela = soup.find('table')\n",
    "        \n",
    "#         headers = [th.text.strip() for th in tabela.find_all('th')]\n",
    "#         print(headers)\n",
    "#         rows = []\n",
    "#         for row in tabela.find_all('tr')[1:]:\n",
    "#             cols = [td.text.strip() for td in row.find_all('td')]\n",
    "#             if cols: \n",
    "#                 rows.append(cols)\n",
    "\n",
    "#         df = pd.DataFrame(rows, columns=headers if headers else None)\n",
    "        \n",
    "\n",
    "#     except requests.exceptions.RequestException as e:\n",
    "#         print(f\"Error accessing URL: {e}\")\n",
    "#     except Exception as e:\n",
    "#         print(f\"Error processing data: {e}\")\n",
    "\n",
    "#     return df\n"
   ]
  },
  {
   "cell_type": "code",
   "execution_count": null,
   "metadata": {},
   "outputs": [],
   "source": [
    "# def get_whalewisdom(ticker: str) -> pd.DataFrame:\n",
    "#     \"\"\"\n",
    "#     Extracts data from WhaleWisdom for a given stock ticker.\n",
    "\n",
    "#     Parameters:\n",
    "#         ticker (str): Stock ticker symbol.\n",
    "\n",
    "#     Returns:\n",
    "#         pd.DataFrame: DataFrame with table content.\n",
    "#     \"\"\"\n",
    "\n",
    "#     headers = {\n",
    "#         \"User-Agent\": \"Mozilla/5.0 (Windows NT 10.0; Win64; x64) AppleWebKit/537.36 (KHTML, like Gecko) Chrome/91.0.4472.124 Safari/537.36\"\n",
    "#     }\n",
    "\n",
    "#     try:\n",
    "#         response = requests.get(f\"https://whalewisdom.com/stock/{ticker}\", headers=headers)\n",
    "#         response.raise_for_status()\n",
    "\n",
    "#         soup = BeautifulSoup(response.text, 'html.parser')\n",
    "        \n",
    "#         # Encontrar a div com a classe \"v-data-table__wrapper\"\n",
    "#         div_wrapper = soup.find('div', {'class': 'v-window__container'})\n",
    "       \n",
    "#         if not div_wrapper:\n",
    "#             raise ValueError(\"Div com a classe 'v-window__container' não encontrada.\")\n",
    "\n",
    "#         # Buscar a primeira tabela dentro desta div\n",
    "#         tabela = div_wrapper.find('table')\n",
    "#         if not tabela:\n",
    "#             raise ValueError(\"Nenhuma tabela encontrada dentro da div especificada.\")\n",
    "        \n",
    "#         # Coletar os cabeçalhos da tabela ignorando ícones\n",
    "#         headers = [th.find('span').text.strip() for th in tabela.find_all('th') if th.find('span')]\n",
    "#         # print(headers)\n",
    "\n",
    "#         # Encontrando todas as linhas dentro da tabela (tbody > tr)\n",
    "#         rows = tabela.find(\"tbody\").find_all(\"tr\")\n",
    "#         print(rows)\n",
    "#         # Extraindo os dados de cada linha\n",
    "#         data = []\n",
    "#         for row in rows:\n",
    "#             columns = row.find_all(\"td\")\n",
    "\n",
    "#             # Pegando os valores correspondentes\n",
    "#             institution_name = columns[0].text.strip()\n",
    "#             shares_held = columns[2].text.strip()\n",
    "#             portfolio_value = columns[3].text.strip()\n",
    "#             percentage_ownership = columns[4].text.strip()\n",
    "#             last_report_date = columns[-1].text.strip()\n",
    "\n",
    "#             data.append({\n",
    "#                 \"Instituição\": institution_name,\n",
    "#                 \"Ações Detidas\": shares_held,\n",
    "#                 \"Valor do Portfólio\": portfolio_value,\n",
    "#                 \"Percentual de Participação\": percentage_ownership,\n",
    "#                 \"Última Atualização\": last_report_date\n",
    "#             })\n",
    "#         #print(data)\n",
    "    \n",
    "#     except requests.exceptions.RequestException as e:\n",
    "#         print(f\"Erro ao acessar a URL: {e}\")\n",
    "#     except ValueError as e:\n",
    "#         print(f\"Erro na extração de dados: {e}\")\n",
    "#     except Exception as e:\n",
    "#         print(f\"Erro inesperado: {e}\")\n",
    "    \n",
    "#     return pd.DataFrame()"
   ]
  },
  {
   "cell_type": "code",
   "execution_count": null,
   "metadata": {},
   "outputs": [
    {
     "ename": "NameError",
     "evalue": "name 'requests' is not defined",
     "output_type": "error",
     "traceback": [
      "\u001b[1;31m---------------------------------------------------------------------------\u001b[0m",
      "\u001b[1;31mNameError\u001b[0m                                 Traceback (most recent call last)",
      "Cell \u001b[1;32mIn[6], line 17\u001b[0m, in \u001b[0;36mget_whalewisdom\u001b[1;34m(ticker)\u001b[0m\n\u001b[0;32m     16\u001b[0m \u001b[38;5;28;01mtry\u001b[39;00m:\n\u001b[1;32m---> 17\u001b[0m     response \u001b[38;5;241m=\u001b[39m \u001b[43mrequests\u001b[49m\u001b[38;5;241m.\u001b[39mget(\u001b[38;5;124mf\u001b[39m\u001b[38;5;124m\"\u001b[39m\u001b[38;5;124mhttps://whalewisdom.com/stock/\u001b[39m\u001b[38;5;132;01m{\u001b[39;00mticker\u001b[38;5;132;01m}\u001b[39;00m\u001b[38;5;124m\"\u001b[39m, headers\u001b[38;5;241m=\u001b[39mheaders)\n\u001b[0;32m     18\u001b[0m     response\u001b[38;5;241m.\u001b[39mraise_for_status()\n",
      "\u001b[1;31mNameError\u001b[0m: name 'requests' is not defined",
      "\nDuring handling of the above exception, another exception occurred:\n",
      "\u001b[1;31mNameError\u001b[0m                                 Traceback (most recent call last)",
      "Cell \u001b[1;32mIn[7], line 1\u001b[0m\n\u001b[1;32m----> 1\u001b[0m df_whale_s \u001b[38;5;241m=\u001b[39m \u001b[43mget_whalewisdom\u001b[49m\u001b[43m(\u001b[49m\u001b[43mticker\u001b[49m\u001b[43m \u001b[49m\u001b[38;5;241;43m=\u001b[39;49m\u001b[43m \u001b[49m\u001b[38;5;124;43m\"\u001b[39;49m\u001b[38;5;124;43mctre\u001b[39;49m\u001b[38;5;124;43m\"\u001b[39;49m\u001b[43m)\u001b[49m\n\u001b[0;32m      2\u001b[0m df_whale_s\n",
      "Cell \u001b[1;32mIn[6], line 61\u001b[0m, in \u001b[0;36mget_whalewisdom\u001b[1;34m(ticker)\u001b[0m\n\u001b[0;32m     52\u001b[0m         data\u001b[38;5;241m.\u001b[39mappend({\n\u001b[0;32m     53\u001b[0m             \u001b[38;5;124m\"\u001b[39m\u001b[38;5;124mInstituição\u001b[39m\u001b[38;5;124m\"\u001b[39m: institution_name,\n\u001b[0;32m     54\u001b[0m             \u001b[38;5;124m\"\u001b[39m\u001b[38;5;124mAções Detidas\u001b[39m\u001b[38;5;124m\"\u001b[39m: shares_held,\n\u001b[1;32m   (...)\u001b[0m\n\u001b[0;32m     57\u001b[0m             \u001b[38;5;124m\"\u001b[39m\u001b[38;5;124mÚltima Atualização\u001b[39m\u001b[38;5;124m\"\u001b[39m: last_report_date\n\u001b[0;32m     58\u001b[0m         })\n\u001b[0;32m     59\u001b[0m     \u001b[38;5;66;03m#print(data)\u001b[39;00m\n\u001b[1;32m---> 61\u001b[0m \u001b[38;5;28;01mexcept\u001b[39;00m \u001b[43mrequests\u001b[49m\u001b[38;5;241m.\u001b[39mexceptions\u001b[38;5;241m.\u001b[39mRequestException \u001b[38;5;28;01mas\u001b[39;00m e:\n\u001b[0;32m     62\u001b[0m     \u001b[38;5;28mprint\u001b[39m(\u001b[38;5;124mf\u001b[39m\u001b[38;5;124m\"\u001b[39m\u001b[38;5;124mErro ao acessar a URL: \u001b[39m\u001b[38;5;132;01m{\u001b[39;00me\u001b[38;5;132;01m}\u001b[39;00m\u001b[38;5;124m\"\u001b[39m)\n\u001b[0;32m     63\u001b[0m \u001b[38;5;28;01mexcept\u001b[39;00m \u001b[38;5;167;01mValueError\u001b[39;00m \u001b[38;5;28;01mas\u001b[39;00m e:\n",
      "\u001b[1;31mNameError\u001b[0m: name 'requests' is not defined"
     ]
    }
   ],
   "source": [
    "# df_whale_s = get_whalewisdom(ticker = \"ctre\")\n",
    "# df_whale_s"
   ]
  },
  {
   "cell_type": "code",
   "execution_count": null,
   "metadata": {},
   "outputs": [
    {
     "data": {
      "text/plain": [
       "'<!DOCTYPE html>\\n<html lang=\"en\">\\n  <head>\\n    <meta charset=\"utf-8\">\\n    <title>Track Hedge Funds Using 13F Filings </title>\\n    <meta name=\"viewport\" content=\"width=device-width, initial-scale=1, maximum-scale=1, user-scalable=no, minimal-ui\">\\n            <meta name=\"description\" content=\"WhaleWisdom tracks 13F,  Schedule 13D, and 13G EDGAR filings by hedge funds. Hedge Fund Whale Backtesting and search tools \"/>\\n    <link rel=\"shortcut icon\" type=\"image/x-icon\" href=\"https://d27mjrcvcy56qq.cloudfront.net/images/favicon.ico\"/>\\n    <link rel=\"apple-touch-icon\" sizes=\"57x57\" href=\"https://d27mjrcvcy56qq.cloudfront.net/images/apple-touch-icon-57x57.png\">\\n    <link rel=\"apple-touch-icon\" sizes=\"60x60\" href=\"https://d27mjrcvcy56qq.cloudfront.net/images/apple-touch-icon-60x60.png\">\\n    <link rel=\"apple-touch-icon\" sizes=\"72x72\" href=\"https://d27mjrcvcy56qq.cloudfront.net/images/apple-touch-icon-72x72.png\">\\n    <link rel=\"apple-touch-icon\" sizes=\"76x76\" href=\"https://d27mjrcvcy56qq.cloudfront.net/images/apple-touch-icon-76x76.png\">\\n    <link rel=\"apple-touch-icon\" sizes=\"114x114\" href=\"https://d27mjrcvcy56qq.cloudfront.net/images/apple-touch-icon-114x114.png\">\\n    <link rel=\"apple-touch-icon\" sizes=\"120x120\" href=\"https://d27mjrcvcy56qq.cloudfront.net/images/apple-touch-icon-120x120.png\">\\n    <link rel=\"apple-touch-icon\" sizes=\"144x144\" href=\"https://d27mjrcvcy56qq.cloudfront.net/images/apple-touch-icon-144x144.png\">\\n    <link rel=\"apple-touch-icon\" sizes=\"152x152\" href=\"https://d27mjrcvcy56qq.cloudfront.net/images/apple-touch-icon-152x152.png\">\\n    <link rel=\"icon\" type=\"image/png\" href=\"https://d27mjrcvcy56qq.cloudfront.net/images/favicon-32x32.png\" sizes=\"32x32\">\\n    <link rel=\"icon\" type=\"image/png\" href=\"https://d27mjrcvcy56qq.cloudfront.net/images/favicon-96x96.png\" sizes=\"96x96\">\\n    <link rel=\"icon\" type=\"image/png\" href=\"https://d27mjrcvcy56qq.cloudfront.net/images/favicon-16x16.png\" sizes=\"16x16\">\\n    <link rel=\"manifest\" href=\"/android-chrome-manifest.json\">\\n    <meta name=\"msapplication-TileColor\" content=\"#da532c\">\\n    <meta name=\"msapplication-TileImage\" content=\"/mstile-144x144.png\">\\n    <meta name=\"google-site-verification\" content=\"r4hQnHlN2H-GtcIb06YHl49VSipApmfQQWIOvZzfnAU\" />\\n    <meta name=\"theme-color\" content=\"#ffffff\">\\n\\t<!--[if lt IE 9]>\\n\\t\\t<script src=\"https://html5shiv.googlecode.com/svn/trunk/html5.js\"></script>\\n\\t<![endif]-->\\n    <style>\\n        a, a:active, a:focus {\\n            text-decoration: none;\\n            font-weight: 400;\\n            color: #00a892;\\n        }\\n        @font-face{font-display: swap;font-family:Cabin;font-style:normal;font-weight:400;font-stretch:100%;src:url(https://fonts.gstatic.com/s/cabin/v18/u-4i0qWljRw-PfU81xCKCpdpbgZJl6XvptnsBXw.woff2) format(\\'woff2\\');unicode-range:U+0102-0103,U+0110-0111,U+0128-0129,U+0168-0169,U+01A0-01A1,U+01AF-01B0,U+1EA0-1EF9,U+20AB}@font-face{font-display: swap;font-family:Cabin;font-style:normal;font-weight:400;font-stretch:100%;src:url(https://fonts.gstatic.com/s/cabin/v18/u-4i0qWljRw-PfU81xCKCpdpbgZJl6Xvp9nsBXw.woff2) format(\\'woff2\\');unicode-range:U+0100-024F,U+0259,U+1E00-1EFF,U+2020,U+20A0-20AB,U+20AD-20CF,U+2113,U+2C60-2C7F,U+A720-A7FF}@font-face{font-display: swap;font-family:Cabin;font-style:normal;font-weight:400;font-stretch:100%;src:url(https://fonts.gstatic.com/s/cabin/v18/u-4i0qWljRw-PfU81xCKCpdpbgZJl6Xvqdns.woff2) format(\\'woff2\\');unicode-range:U+0000-00FF,U+0131,U+0152-0153,U+02BB-02BC,U+02C6,U+02DA,U+02DC,U+2000-206F,U+2074,U+20AC,U+2122,U+2191,U+2193,U+2212,U+2215,U+FEFF,U+FFFD}@font-face{font-display: swap;font-family:Cabin;font-style:normal;font-weight:600;font-stretch:100%;src:url(https://fonts.gstatic.com/s/cabin/v18/u-4i0qWljRw-PfU81xCKCpdpbgZJl6XvptnsBXw.woff2) format(\\'woff2\\');unicode-range:U+0102-0103,U+0110-0111,U+0128-0129,U+0168-0169,U+01A0-01A1,U+01AF-01B0,U+1EA0-1EF9,U+20AB}@font-face{font-display: swap;font-family:Cabin;font-style:normal;font-weight:600;font-stretch:100%;src:url(https://fonts.gstatic.com/s/cabin/v18/u-4i0qWljRw-PfU81xCKCpdpbgZJl6Xvp9nsBXw.woff2) format(\\'woff2\\');unicode-range:U+0100-024F,U+0259,U+1E00-1EFF,U+2020,U+20A0-20AB,U+20AD-20CF,U+2113,U+2C60-2C7F,U+A720-A7FF}@font-face{font-display: swap;font-family:Cabin;font-style:normal;font-weight:600;font-stretch:100%;src:url(https://fonts.gstatic.com/s/cabin/v18/u-4i0qWljRw-PfU81xCKCpdpbgZJl6Xvqdns.woff2) format(\\'woff2\\');unicode-range:U+0000-00FF,U+0131,U+0152-0153,U+02BB-02BC,U+02C6,U+02DA,U+02DC,U+2000-206F,U+2074,U+20AC,U+2122,U+2191,U+2193,U+2212,U+2215,U+FEFF,U+FFFD}@font-face{font-display: swap;font-family:\\'Open Sans\\';font-style:normal;font-weight:400;font-stretch:100%;src:url(https://fonts.gstatic.com/s/opensans/v27/memSYaGs126MiZpBA-UvWbX2vVnXBbObj2OVZyOOSr4dVJWUgsjZ0B4taVIGxA.woff2) format(\\'woff2\\');unicode-range:U+0460-052F,U+1C80-1C88,U+20B4,U+2DE0-2DFF,U+A640-A69F,U+FE2E-FE2F}@font-face{font-display: swap;font-family:\\'Open Sans\\';font-style:normal;font-weight:400;font-stretch:100%;src:url(https://fonts.gstatic.com/s/opensans/v27/memSYaGs126MiZpBA-UvWbX2vVnXBbObj2OVZyOOSr4dVJWUgsjZ0B4kaVIGxA.woff2) format(\\'woff2\\');unicode-range:U+0400-045F,U+0490-0491,U+04B0-04B1,U+2116}@font-face{font-display: swap;font-family:\\'Open Sans\\';font-style:normal;font-weight:400;font-stretch:100%;src:url(https://fonts.gstatic.com/s/opensans/v27/memSYaGs126MiZpBA-UvWbX2vVnXBbObj2OVZyOOSr4dVJWUgsjZ0B4saVIGxA.woff2) format(\\'woff2\\');unicode-range:U+1F00-1FFF}@font-face{font-display: swap;font-family:\\'Open Sans\\';font-style:normal;font-weight:400;font-stretch:100%;src:url(https://fonts.gstatic.com/s/opensans/v27/memSYaGs126MiZpBA-UvWbX2vVnXBbObj2OVZyOOSr4dVJWUgsjZ0B4jaVIGxA.woff2) format(\\'woff2\\');unicode-range:U+0370-03FF}@font-face{font-display: swap;font-family:\\'Open Sans\\';font-style:normal;font-weight:400;font-stretch:100%;src:url(https://fonts.gstatic.com/s/opensans/v27/memSYaGs126MiZpBA-UvWbX2vVnXBbObj2OVZyOOSr4dVJWUgsjZ0B4iaVIGxA.woff2) format(\\'woff2\\');unicode-range:U+0590-05FF,U+20AA,U+25CC,U+FB1D-FB4F}@font-face{font-display: swap;font-family:\\'Open Sans\\';font-style:normal;font-weight:400;font-stretch:100%;src:url(https://fonts.gstatic.com/s/opensans/v27/memSYaGs126MiZpBA-UvWbX2vVnXBbObj2OVZyOOSr4dVJWUgsjZ0B4vaVIGxA.woff2) format(\\'woff2\\');unicode-range:U+0102-0103,U+0110-0111,U+0128-0129,U+0168-0169,U+01A0-01A1,U+01AF-01B0,U+1EA0-1EF9,U+20AB}@font-face{font-display: swap;font-family:\\'Open Sans\\';font-style:normal;font-weight:400;font-stretch:100%;src:url(https://fonts.gstatic.com/s/opensans/v27/memSYaGs126MiZpBA-UvWbX2vVnXBbObj2OVZyOOSr4dVJWUgsjZ0B4uaVIGxA.woff2) format(\\'woff2\\');unicode-range:U+0100-024F,U+0259,U+1E00-1EFF,U+2020,U+20A0-20AB,U+20AD-20CF,U+2113,U+2C60-2C7F,U+A720-A7FF}@font-face{font-display: swap;font-family:\\'Open Sans\\';font-style:normal;font-weight:400;font-stretch:100%;src:url(https://fonts.gstatic.com/s/opensans/v27/memSYaGs126MiZpBA-UvWbX2vVnXBbObj2OVZyOOSr4dVJWUgsjZ0B4gaVI.woff2) format(\\'woff2\\');unicode-range:U+0000-00FF,U+0131,U+0152-0153,U+02BB-02BC,U+02C6,U+02DA,U+02DC,U+2000-206F,U+2074,U+20AC,U+2122,U+2191,U+2193,U+2212,U+2215,U+FEFF,U+FFFD}@font-face{font-display: swap;font-family:Raleway;font-style:normal;font-weight:400;src:url(https://fonts.gstatic.com/s/raleway/v22/1Ptug8zYS_SKggPNyCAIT5lu.woff2) format(\\'woff2\\');unicode-range:U+0460-052F,U+1C80-1C88,U+20B4,U+2DE0-2DFF,U+A640-A69F,U+FE2E-FE2F}@font-face{font-display: swap;font-family:Raleway;font-style:normal;font-weight:400;src:url(https://fonts.gstatic.com/s/raleway/v22/1Ptug8zYS_SKggPNyCkIT5lu.woff2) format(\\'woff2\\');unicode-range:U+0400-045F,U+0490-0491,U+04B0-04B1,U+2116}@font-face{font-display: swap;font-family:Raleway;font-style:normal;font-weight:400;src:url(https://fonts.gstatic.com/s/raleway/v22/1Ptug8zYS_SKggPNyCIIT5lu.woff2) format(\\'woff2\\');unicode-range:U+0102-0103,U+0110-0111,U+0128-0129,U+0168-0169,U+01A0-01A1,U+01AF-01B0,U+1EA0-1EF9,U+20AB}@font-face{font-display: swap;font-family:Raleway;font-style:normal;font-weight:400;src:url(https://fonts.gstatic.com/s/raleway/v22/1Ptug8zYS_SKggPNyCMIT5lu.woff2) format(\\'woff2\\');unicode-range:U+0100-024F,U+0259,U+1E00-1EFF,U+2020,U+20A0-20AB,U+20AD-20CF,U+2113,U+2C60-2C7F,U+A720-A7FF}@font-face{font-display: swap;font-family:Raleway;font-style:normal;font-weight:400;src:url(https://fonts.gstatic.com/s/raleway/v22/1Ptug8zYS_SKggPNyC0ITw.woff2) format(\\'woff2\\');unicode-range:U+0000-00FF,U+0131,U+0152-0153,U+02BB-02BC,U+02C6,U+02DA,U+02DC,U+2000-206F,U+2074,U+20AC,U+2122,U+2191,U+2193,U+2212,U+2215,U+FEFF,U+FFFD}@font-face{font-display: swap;font-family:Raleway;font-style:normal;font-weight:700;src:url(https://fonts.gstatic.com/s/raleway/v22/1Ptug8zYS_SKggPNyCAIT5lu.woff2) format(\\'woff2\\');unicode-range:U+0460-052F,U+1C80-1C88,U+20B4,U+2DE0-2DFF,U+A640-A69F,U+FE2E-FE2F}@font-face{font-display: swap;font-family:Raleway;font-style:normal;font-weight:700;src:url(https://fonts.gstatic.com/s/raleway/v22/1Ptug8zYS_SKggPNyCkIT5lu.woff2) format(\\'woff2\\');unicode-range:U+0400-045F,U+0490-0491,U+04B0-04B1,U+2116}@font-face{font-display: swap;font-family:Raleway;font-style:normal;font-weight:700;src:url(https://fonts.gstatic.com/s/raleway/v22/1Ptug8zYS_SKggPNyCIIT5lu.woff2) format(\\'woff2\\');unicode-range:U+0102-0103,U+0110-0111,U+0128-0129,U+0168-0169,U+01A0-01A1,U+01AF-01B0,U+1EA0-1EF9,U+20AB}@font-face{font-display: swap;font-family:Raleway;font-style:normal;font-weight:700;src:url(https://fonts.gstatic.com/s/raleway/v22/1Ptug8zYS_SKggPNyCMIT5lu.woff2) format(\\'woff2\\');unicode-range:U+0100-024F,U+0259,U+1E00-1EFF,U+2020,U+20A0-20AB,U+20AD-20CF,U+2113,U+2C60-2C7F,U+A720-A7FF}@font-face{font-display: swap;font-family:Raleway;font-style:normal;font-weight:700;src:url(https://fonts.gstatic.com/s/raleway/v22/1Ptug8zYS_SKggPNyC0ITw.woff2) format(\\'woff2\\');unicode-range:U+0000-00FF,U+0131,U+0152-0153,U+02BB-02BC,U+02C6,U+02DA,U+02DC,U+2000-206F,U+2074,U+20AC,U+2122,U+2191,U+2193,U+2212,U+2215,U+FEFF,U+FFFD}@font-face{font-display: swap;font-family:Roboto;font-style:italic;font-weight:300;src:url(https://fonts.gstatic.com/s/roboto/v29/KFOjCnqEu92Fr1Mu51TjASc3CsTKlA.woff2) format(\\'woff2\\');unicode-range:U+0460-052F,U+1C80-1C88,U+20B4,U+2DE0-2DFF,U+A640-A69F,U+FE2E-FE2F}@font-face{font-display: swap;font-family:Roboto;font-style:italic;font-weight:300;src:url(https://fonts.gstatic.com/s/roboto/v29/KFOjCnqEu92Fr1Mu51TjASc-CsTKlA.woff2) format(\\'woff2\\');unicode-range:U+0400-045F,U+0490-0491,U+04B0-04B1,U+2116}@font-face{font-display: swap;font-family:Roboto;font-style:italic;font-weight:300;src:url(https://fonts.gstatic.com/s/roboto/v29/KFOjCnqEu92Fr1Mu51TjASc2CsTKlA.woff2) format(\\'woff2\\');unicode-range:U+1F00-1FFF}@font-face{font-display: swap;font-family:Roboto;font-style:italic;font-weight:300;src:url(https://fonts.gstatic.com/s/roboto/v29/KFOjCnqEu92Fr1Mu51TjASc5CsTKlA.woff2) format(\\'woff2\\');unicode-range:U+0370-03FF}@font-face{font-display: swap;font-family:Roboto;font-style:italic;font-weight:300;src:url(https://fonts.gstatic.com/s/roboto/v29/KFOjCnqEu92Fr1Mu51TjASc1CsTKlA.woff2) format(\\'woff2\\');unicode-range:U+0102-0103,U+0110-0111,U+0128-0129,U+0168-0169,U+01A0-01A1,U+01AF-01B0,U+1EA0-1EF9,U+20AB}@font-face{font-display: swap;font-family:Roboto;font-style:italic;font-weight:300;src:url(https://fonts.gstatic.com/s/roboto/v29/KFOjCnqEu92Fr1Mu51TjASc0CsTKlA.woff2) format(\\'woff2\\');unicode-range:U+0100-024F,U+0259,U+1E00-1EFF,U+2020,U+20A0-20AB,U+20AD-20CF,U+2113,U+2C60-2C7F,U+A720-A7FF}@font-face{font-display: swap;font-family:Roboto;font-style:italic;font-weight:300;src:url(https://fonts.gstatic.com/s/roboto/v29/KFOjCnqEu92Fr1Mu51TjASc6CsQ.woff2) format(\\'woff2\\');unicode-range:U+0000-00FF,U+0131,U+0152-0153,U+02BB-02BC,U+02C6,U+02DA,U+02DC,U+2000-206F,U+2074,U+20AC,U+2122,U+2191,U+2193,U+2212,U+2215,U+FEFF,U+FFFD}@font-face{font-display: swap;font-family:Roboto;font-style:italic;font-weight:400;src:url(https://fonts.gstatic.com/s/roboto/v29/KFOkCnqEu92Fr1Mu51xFIzIFKw.woff2) format(\\'woff2\\');unicode-range:U+0460-052F,U+1C80-1C88,U+20B4,U+2DE0-2DFF,U+A640-A69F,U+FE2E-FE2F}@font-face{font-display: swap;font-family:Roboto;font-style:italic;font-weight:400;src:url(https://fonts.gstatic.com/s/roboto/v29/KFOkCnqEu92Fr1Mu51xMIzIFKw.woff2) format(\\'woff2\\');unicode-range:U+0400-045F,U+0490-0491,U+04B0-04B1,U+2116}@font-face{font-display: swap;font-family:Roboto;font-style:italic;font-weight:400;src:url(https://fonts.gstatic.com/s/roboto/v29/KFOkCnqEu92Fr1Mu51xEIzIFKw.woff2) format(\\'woff2\\');unicode-range:U+1F00-1FFF}@font-face{font-display: swap;font-family:Roboto;font-style:italic;font-weight:400;src:url(https://fonts.gstatic.com/s/roboto/v29/KFOkCnqEu92Fr1Mu51xLIzIFKw.woff2) format(\\'woff2\\');unicode-range:U+0370-03FF}@font-face{font-display: swap;font-family:Roboto;font-style:italic;font-weight:400;src:url(https://fonts.gstatic.com/s/roboto/v29/KFOkCnqEu92Fr1Mu51xHIzIFKw.woff2) format(\\'woff2\\');unicode-range:U+0102-0103,U+0110-0111,U+0128-0129,U+0168-0169,U+01A0-01A1,U+01AF-01B0,U+1EA0-1EF9,U+20AB}@font-face{font-display: swap;font-family:Roboto;font-style:italic;font-weight:400;src:url(https://fonts.gstatic.com/s/roboto/v29/KFOkCnqEu92Fr1Mu51xGIzIFKw.woff2) format(\\'woff2\\');unicode-range:U+0100-024F,U+0259,U+1E00-1EFF,U+2020,U+20A0-20AB,U+20AD-20CF,U+2113,U+2C60-2C7F,U+A720-A7FF}@font-face{font-display: swap;font-family:Roboto;font-style:italic;font-weight:400;src:url(https://fonts.gstatic.com/s/roboto/v29/KFOkCnqEu92Fr1Mu51xIIzI.woff2) format(\\'woff2\\');unicode-range:U+0000-00FF,U+0131,U+0152-0153,U+02BB-02BC,U+02C6,U+02DA,U+02DC,U+2000-206F,U+2074,U+20AC,U+2122,U+2191,U+2193,U+2212,U+2215,U+FEFF,U+FFFD}@font-face{font-display: swap;font-family:Roboto;font-style:italic;font-weight:500;src:url(https://fonts.gstatic.com/s/roboto/v29/KFOjCnqEu92Fr1Mu51S7ACc3CsTKlA.woff2) format(\\'woff2\\');unicode-range:U+0460-052F,U+1C80-1C88,U+20B4,U+2DE0-2DFF,U+A640-A69F,U+FE2E-FE2F}@font-face{font-display: swap;font-family:Roboto;font-style:italic;font-weight:500;src:url(https://fonts.gstatic.com/s/roboto/v29/KFOjCnqEu92Fr1Mu51S7ACc-CsTKlA.woff2) format(\\'woff2\\');unicode-range:U+0400-045F,U+0490-0491,U+04B0-04B1,U+2116}@font-face{font-display: swap;font-family:Roboto;font-style:italic;font-weight:500;src:url(https://fonts.gstatic.com/s/roboto/v29/KFOjCnqEu92Fr1Mu51S7ACc2CsTKlA.woff2) format(\\'woff2\\');unicode-range:U+1F00-1FFF}@font-face{font-display: swap;font-family:Roboto;font-style:italic;font-weight:500;src:url(https://fonts.gstatic.com/s/roboto/v29/KFOjCnqEu92Fr1Mu51S7ACc5CsTKlA.woff2) format(\\'woff2\\');unicode-range:U+0370-03FF}@font-face{font-display: swap;font-family:Roboto;font-style:italic;font-weight:500;src:url(https://fonts.gstatic.com/s/roboto/v29/KFOjCnqEu92Fr1Mu51S7ACc1CsTKlA.woff2) format(\\'woff2\\');unicode-range:U+0102-0103,U+0110-0111,U+0128-0129,U+0168-0169,U+01A0-01A1,U+01AF-01B0,U+1EA0-1EF9,U+20AB}@font-face{font-display: swap;font-family:Roboto;font-style:italic;font-weight:500;src:url(https://fonts.gstatic.com/s/roboto/v29/KFOjCnqEu92Fr1Mu51S7ACc0CsTKlA.woff2) format(\\'woff2\\');unicode-range:U+0100-024F,U+0259,U+1E00-1EFF,U+2020,U+20A0-20AB,U+20AD-20CF,U+2113,U+2C60-2C7F,U+A720-A7FF}@font-face{font-display: swap;font-family:Roboto;font-style:italic;font-weight:500;src:url(https://fonts.gstatic.com/s/roboto/v29/KFOjCnqEu92Fr1Mu51S7ACc6CsQ.woff2) format(\\'woff2\\');unicode-range:U+0000-00FF,U+0131,U+0152-0153,U+02BB-02BC,U+02C6,U+02DA,U+02DC,U+2000-206F,U+2074,U+20AC,U+2122,U+2191,U+2193,U+2212,U+2215,U+FEFF,U+FFFD}@font-face{font-display: swap;font-family:Roboto;font-style:italic;font-weight:700;src:url(https://fonts.gstatic.com/s/roboto/v29/KFOjCnqEu92Fr1Mu51TzBic3CsTKlA.woff2) format(\\'woff2\\');unicode-range:U+0460-052F,U+1C80-1C88,U+20B4,U+2DE0-2DFF,U+A640-A69F,U+FE2E-FE2F}@font-face{font-display: swap;font-family:Roboto;font-style:italic;font-weight:700;src:url(https://fonts.gstatic.com/s/roboto/v29/KFOjCnqEu92Fr1Mu51TzBic-CsTKlA.woff2) format(\\'woff2\\');unicode-range:U+0400-045F,U+0490-0491,U+04B0-04B1,U+2116}@font-face{font-display: swap;font-family:Roboto;font-style:italic;font-weight:700;src:url(https://fonts.gstatic.com/s/roboto/v29/KFOjCnqEu92Fr1Mu51TzBic2CsTKlA.woff2) format(\\'woff2\\');unicode-range:U+1F00-1FFF}@font-face{font-display: swap;font-family:Roboto;font-style:italic;font-weight:700;src:url(https://fonts.gstatic.com/s/roboto/v29/KFOjCnqEu92Fr1Mu51TzBic5CsTKlA.woff2) format(\\'woff2\\');unicode-range:U+0370-03FF}@font-face{font-display: swap;font-family:Roboto;font-style:italic;font-weight:700;src:url(https://fonts.gstatic.com/s/roboto/v29/KFOjCnqEu92Fr1Mu51TzBic1CsTKlA.woff2) format(\\'woff2\\');unicode-range:U+0102-0103,U+0110-0111,U+0128-0129,U+0168-0169,U+01A0-01A1,U+01AF-01B0,U+1EA0-1EF9,U+20AB}@font-face{font-display: swap;font-family:Roboto;font-style:italic;font-weight:700;src:url(https://fonts.gstatic.com/s/roboto/v29/KFOjCnqEu92Fr1Mu51TzBic0CsTKlA.woff2) format(\\'woff2\\');unicode-range:U+0100-024F,U+0259,U+1E00-1EFF,U+2020,U+20A0-20AB,U+20AD-20CF,U+2113,U+2C60-2C7F,U+A720-A7FF}@font-face{font-display: swap;font-family:Roboto;font-style:italic;font-weight:700;src:url(https://fonts.gstatic.com/s/roboto/v29/KFOjCnqEu92Fr1Mu51TzBic6CsQ.woff2) format(\\'woff2\\');unicode-range:U+0000-00FF,U+0131,U+0152-0153,U+02BB-02BC,U+02C6,U+02DA,U+02DC,U+2000-206F,U+2074,U+20AC,U+2122,U+2191,U+2193,U+2212,U+2215,U+FEFF,U+FFFD}@font-face{font-display: swap;font-family:Roboto;font-style:normal;font-weight:300;src:url(https://fonts.gstatic.com/s/roboto/v29/KFOlCnqEu92Fr1MmSU5fCRc4EsA.woff2) format(\\'woff2\\');unicode-range:U+0460-052F,U+1C80-1C88,U+20B4,U+2DE0-2DFF,U+A640-A69F,U+FE2E-FE2F}@font-face{font-display: swap;font-family:Roboto;font-style:normal;font-weight:300;src:url(https://fonts.gstatic.com/s/roboto/v29/KFOlCnqEu92Fr1MmSU5fABc4EsA.woff2) format(\\'woff2\\');unicode-range:U+0400-045F,U+0490-0491,U+04B0-04B1,U+2116}@font-face{font-display: swap;font-family:Roboto;font-style:normal;font-weight:300;src:url(https://fonts.gstatic.com/s/roboto/v29/KFOlCnqEu92Fr1MmSU5fCBc4EsA.woff2) format(\\'woff2\\');unicode-range:U+1F00-1FFF}@font-face{font-display: swap;font-family:Roboto;font-style:normal;font-weight:300;src:url(https://fonts.gstatic.com/s/roboto/v29/KFOlCnqEu92Fr1MmSU5fBxc4EsA.woff2) format(\\'woff2\\');unicode-range:U+0370-03FF}@font-face{font-display: swap;font-family:Roboto;font-style:normal;font-weight:300;src:url(https://fonts.gstatic.com/s/roboto/v29/KFOlCnqEu92Fr1MmSU5fCxc4EsA.woff2) format(\\'woff2\\');unicode-range:U+0102-0103,U+0110-0111,U+0128-0129,U+0168-0169,U+01A0-01A1,U+01AF-01B0,U+1EA0-1EF9,U+20AB}@font-face{font-display: swap;font-family:Roboto;font-style:normal;font-weight:300;src:url(https://fonts.gstatic.com/s/roboto/v29/KFOlCnqEu92Fr1MmSU5fChc4EsA.woff2) format(\\'woff2\\');unicode-range:U+0100-024F,U+0259,U+1E00-1EFF,U+2020,U+20A0-20AB,U+20AD-20CF,U+2113,U+2C60-2C7F,U+A720-A7FF}@font-face{font-display: swap;font-family:Roboto;font-style:normal;font-weight:300;src:url(https://fonts.gstatic.com/s/roboto/v29/KFOlCnqEu92Fr1MmSU5fBBc4.woff2) format(\\'woff2\\');unicode-range:U+0000-00FF,U+0131,U+0152-0153,U+02BB-02BC,U+02C6,U+02DA,U+02DC,U+2000-206F,U+2074,U+20AC,U+2122,U+2191,U+2193,U+2212,U+2215,U+FEFF,U+FFFD}@font-face{font-display: swap;font-family:Roboto;font-style:normal;font-weight:400;src:url(https://fonts.gstatic.com/s/roboto/v29/KFOmCnqEu92Fr1Mu72xKOzY.woff2) format(\\'woff2\\');unicode-range:U+0460-052F,U+1C80-1C88,U+20B4,U+2DE0-2DFF,U+A640-A69F,U+FE2E-FE2F}@font-face{font-display: swap;font-family:Roboto;font-style:normal;font-weight:400;src:url(https://fonts.gstatic.com/s/roboto/v29/KFOmCnqEu92Fr1Mu5mxKOzY.woff2) format(\\'woff2\\');unicode-range:U+0400-045F,U+0490-0491,U+04B0-04B1,U+2116}@font-face{font-display: swap;font-family:Roboto;font-style:normal;font-weight:400;src:url(https://fonts.gstatic.com/s/roboto/v29/KFOmCnqEu92Fr1Mu7mxKOzY.woff2) format(\\'woff2\\');unicode-range:U+1F00-1FFF}@font-face{font-display: swap;font-family:Roboto;font-style:normal;font-weight:400;src:url(https://fonts.gstatic.com/s/roboto/v29/KFOmCnqEu92Fr1Mu4WxKOzY.woff2) format(\\'woff2\\');unicode-range:U+0370-03FF}@font-face{font-display: swap;font-family:Roboto;font-style:normal;font-weight:400;src:url(https://fonts.gstatic.com/s/roboto/v29/KFOmCnqEu92Fr1Mu7WxKOzY.woff2) format(\\'woff2\\');unicode-range:U+0102-0103,U+0110-0111,U+0128-0129,U+0168-0169,U+01A0-01A1,U+01AF-01B0,U+1EA0-1EF9,U+20AB}@font-face{font-display: swap;font-family:Roboto;font-style:normal;font-weight:400;src:url(https://fonts.gstatic.com/s/roboto/v29/KFOmCnqEu92Fr1Mu7GxKOzY.woff2) format(\\'woff2\\');unicode-range:U+0100-024F,U+0259,U+1E00-1EFF,U+2020,U+20A0-20AB,U+20AD-20CF,U+2113,U+2C60-2C7F,U+A720-A7FF}@font-face{font-display: swap;font-family:Roboto;font-style:normal;font-weight:400;src:url(https://fonts.gstatic.com/s/roboto/v29/KFOmCnqEu92Fr1Mu4mxK.woff2) format(\\'woff2\\');unicode-range:U+0000-00FF,U+0131,U+0152-0153,U+02BB-02BC,U+02C6,U+02DA,U+02DC,U+2000-206F,U+2074,U+20AC,U+2122,U+2191,U+2193,U+2212,U+2215,U+FEFF,U+FFFD}@font-face{font-display: swap;font-family:Roboto;font-style:normal;font-weight:500;src:url(https://fonts.gstatic.com/s/roboto/v29/KFOlCnqEu92Fr1MmEU9fCRc4EsA.woff2) format(\\'woff2\\');unicode-range:U+0460-052F,U+1C80-1C88,U+20B4,U+2DE0-2DFF,U+A640-A69F,U+FE2E-FE2F}@font-face{font-display: swap;font-family:Roboto;font-style:normal;font-weight:500;src:url(https://fonts.gstatic.com/s/roboto/v29/KFOlCnqEu92Fr1MmEU9fABc4EsA.woff2) format(\\'woff2\\');unicode-range:U+0400-045F,U+0490-0491,U+04B0-04B1,U+2116}@font-face{font-display: swap;font-family:Roboto;font-style:normal;font-weight:500;src:url(https://fonts.gstatic.com/s/roboto/v29/KFOlCnqEu92Fr1MmEU9fCBc4EsA.woff2) format(\\'woff2\\');unicode-range:U+1F00-1FFF}@font-face{font-display: swap;font-family:Roboto;font-style:normal;font-weight:500;src:url(https://fonts.gstatic.com/s/roboto/v29/KFOlCnqEu92Fr1MmEU9fBxc4EsA.woff2) format(\\'woff2\\');unicode-range:U+0370-03FF}@font-face{font-display: swap;font-family:Roboto;font-style:normal;font-weight:500;src:url(https://fonts.gstatic.com/s/roboto/v29/KFOlCnqEu92Fr1MmEU9fCxc4EsA.woff2) format(\\'woff2\\');unicode-range:U+0102-0103,U+0110-0111,U+0128-0129,U+0168-0169,U+01A0-01A1,U+01AF-01B0,U+1EA0-1EF9,U+20AB}@font-face{font-display: swap;font-family:Roboto;font-style:normal;font-weight:500;src:url(https://fonts.gstatic.com/s/roboto/v29/KFOlCnqEu92Fr1MmEU9fChc4EsA.woff2) format(\\'woff2\\');unicode-range:U+0100-024F,U+0259,U+1E00-1EFF,U+2020,U+20A0-20AB,U+20AD-20CF,U+2113,U+2C60-2C7F,U+A720-A7FF}@font-face{font-display: swap;font-family:Roboto;font-style:normal;font-weight:500;src:url(https://fonts.gstatic.com/s/roboto/v29/KFOlCnqEu92Fr1MmEU9fBBc4.woff2) format(\\'woff2\\');unicode-range:U+0000-00FF,U+0131,U+0152-0153,U+02BB-02BC,U+02C6,U+02DA,U+02DC,U+2000-206F,U+2074,U+20AC,U+2122,U+2191,U+2193,U+2212,U+2215,U+FEFF,U+FFFD}@font-face{font-display: swap;font-family:Roboto;font-style:normal;font-weight:700;src:url(https://fonts.gstatic.com/s/roboto/v29/KFOlCnqEu92Fr1MmWUlfCRc4EsA.woff2) format(\\'woff2\\');unicode-range:U+0460-052F,U+1C80-1C88,U+20B4,U+2DE0-2DFF,U+A640-A69F,U+FE2E-FE2F}@font-face{font-display: swap;font-family:Roboto;font-style:normal;font-weight:700;src:url(https://fonts.gstatic.com/s/roboto/v29/KFOlCnqEu92Fr1MmWUlfABc4EsA.woff2) format(\\'woff2\\');unicode-range:U+0400-045F,U+0490-0491,U+04B0-04B1,U+2116}@font-face{font-display: swap;font-family:Roboto;font-style:normal;font-weight:700;src:url(https://fonts.gstatic.com/s/roboto/v29/KFOlCnqEu92Fr1MmWUlfCBc4EsA.woff2) format(\\'woff2\\');unicode-range:U+1F00-1FFF}@font-face{font-display: swap;font-family:Roboto;font-style:normal;font-weight:700;src:url(https://fonts.gstatic.com/s/roboto/v29/KFOlCnqEu92Fr1MmWUlfBxc4EsA.woff2) format(\\'woff2\\');unicode-range:U+0370-03FF}@font-face{font-display: swap;font-family:Roboto;font-style:normal;font-weight:700;src:url(https://fonts.gstatic.com/s/roboto/v29/KFOlCnqEu92Fr1MmWUlfCxc4EsA.woff2) format(\\'woff2\\');unicode-range:U+0102-0103,U+0110-0111,U+0128-0129,U+0168-0169,U+01A0-01A1,U+01AF-01B0,U+1EA0-1EF9,U+20AB}@font-face{font-display: swap;font-family:Roboto;font-style:normal;font-weight:700;src:url(https://fonts.gstatic.com/s/roboto/v29/KFOlCnqEu92Fr1MmWUlfChc4EsA.woff2) format(\\'woff2\\');unicode-range:U+0100-024F,U+0259,U+1E00-1EFF,U+2020,U+20A0-20AB,U+20AD-20CF,U+2113,U+2C60-2C7F,U+A720-A7FF}@font-face{font-display: swap;font-family:Roboto;font-style:normal;font-weight:700;src:url(https://fonts.gstatic.com/s/roboto/v29/KFOlCnqEu92Fr1MmWUlfBBc4.woff2) format(\\'woff2\\');unicode-range:U+0000-00FF,U+0131,U+0152-0153,U+02BB-02BC,U+02C6,U+02DA,U+02DC,U+2000-206F,U+2074,U+20AC,U+2122,U+2191,U+2193,U+2212,U+2215,U+FEFF,U+FFFD}@font-face{font-display: swap;font-family:\\'Roboto Slab\\';font-style:normal;font-weight:300;src:url(https://fonts.gstatic.com/s/robotoslab/v16/BngMUXZYTXPIvIBgJJSb6ufA5qW54A.woff2) format(\\'woff2\\');unicode-range:U+0460-052F,U+1C80-1C88,U+20B4,U+2DE0-2DFF,U+A640-A69F,U+FE2E-FE2F}@font-face{font-display: swap;font-family:\\'Roboto Slab\\';font-style:normal;font-weight:300;src:url(https://fonts.gstatic.com/s/robotoslab/v16/BngMUXZYTXPIvIBgJJSb6ufJ5qW54A.woff2) format(\\'woff2\\');unicode-range:U+0400-045F,U+0490-0491,U+04B0-04B1,U+2116}@font-face{font-display: swap;font-family:\\'Roboto Slab\\';font-style:normal;font-weight:300;src:url(https://fonts.gstatic.com/s/robotoslab/v16/BngMUXZYTXPIvIBgJJSb6ufB5qW54A.woff2) format(\\'woff2\\');unicode-range:U+1F00-1FFF}@font-face{font-display: swap;font-family:\\'Roboto Slab\\';font-style:normal;font-weight:300;src:url(https://fonts.gstatic.com/s/robotoslab/v16/BngMUXZYTXPIvIBgJJSb6ufO5qW54A.woff2) format(\\'woff2\\');unicode-range:U+0370-03FF}@font-face{font-display: swap;font-family:\\'Roboto Slab\\';font-style:normal;font-weight:300;src:url(https://fonts.gstatic.com/s/robotoslab/v16/BngMUXZYTXPIvIBgJJSb6ufC5qW54A.woff2) format(\\'woff2\\');unicode-range:U+0102-0103,U+0110-0111,U+0128-0129,U+0168-0169,U+01A0-01A1,U+01AF-01B0,U+1EA0-1EF9,U+20AB}@font-face{font-display: swap;font-family:\\'Roboto Slab\\';font-style:normal;font-weight:300;src:url(https://fonts.gstatic.com/s/robotoslab/v16/BngMUXZYTXPIvIBgJJSb6ufD5qW54A.woff2) format(\\'woff2\\');unicode-range:U+0100-024F,U+0259,U+1E00-1EFF,U+2020,U+20A0-20AB,U+20AD-20CF,U+2113,U+2C60-2C7F,U+A720-A7FF}@font-face{font-display: swap;font-family:\\'Roboto Slab\\';font-style:normal;font-weight:300;src:url(https://fonts.gstatic.com/s/robotoslab/v16/BngMUXZYTXPIvIBgJJSb6ufN5qU.woff2) format(\\'woff2\\');unicode-range:U+0000-00FF,U+0131,U+0152-0153,U+02BB-02BC,U+02C6,U+02DA,U+02DC,U+2000-206F,U+2074,U+20AC,U+2122,U+2191,U+2193,U+2212,U+2215,U+FEFF,U+FFFD}@font-face{font-display: swap;font-family:\\'Roboto Slab\\';font-style:normal;font-weight:400;src:url(https://fonts.gstatic.com/s/robotoslab/v16/BngMUXZYTXPIvIBgJJSb6ufA5qW54A.woff2) format(\\'woff2\\');unicode-range:U+0460-052F,U+1C80-1C88,U+20B4,U+2DE0-2DFF,U+A640-A69F,U+FE2E-FE2F}@font-face{font-display: swap;font-family:\\'Roboto Slab\\';font-style:normal;font-weight:400;src:url(https://fonts.gstatic.com/s/robotoslab/v16/BngMUXZYTXPIvIBgJJSb6ufJ5qW54A.woff2) format(\\'woff2\\');unicode-range:U+0400-045F,U+0490-0491,U+04B0-04B1,U+2116}@font-face{font-display: swap;font-family:\\'Roboto Slab\\';font-style:normal;font-weight:400;src:url(https://fonts.gstatic.com/s/robotoslab/v16/BngMUXZYTXPIvIBgJJSb6ufB5qW54A.woff2) format(\\'woff2\\');unicode-range:U+1F00-1FFF}@font-face{font-display: swap;font-family:\\'Roboto Slab\\';font-style:normal;font-weight:400;src:url(https://fonts.gstatic.com/s/robotoslab/v16/BngMUXZYTXPIvIBgJJSb6ufO5qW54A.woff2) format(\\'woff2\\');unicode-range:U+0370-03FF}@font-face{font-display: swap;font-family:\\'Roboto Slab\\';font-style:normal;font-weight:400;src:url(https://fonts.gstatic.com/s/robotoslab/v16/BngMUXZYTXPIvIBgJJSb6ufC5qW54A.woff2) format(\\'woff2\\');unicode-range:U+0102-0103,U+0110-0111,U+0128-0129,U+0168-0169,U+01A0-01A1,U+01AF-01B0,U+1EA0-1EF9,U+20AB}@font-face{font-display: swap;font-family:\\'Roboto Slab\\';font-style:normal;font-weight:400;src:url(https://fonts.gstatic.com/s/robotoslab/v16/BngMUXZYTXPIvIBgJJSb6ufD5qW54A.woff2) format(\\'woff2\\');unicode-range:U+0100-024F,U+0259,U+1E00-1EFF,U+2020,U+20A0-20AB,U+20AD-20CF,U+2113,U+2C60-2C7F,U+A720-A7FF}@font-face{font-display: swap;font-family:\\'Roboto Slab\\';font-style:normal;font-weight:400;src:url(https://fonts.gstatic.com/s/robotoslab/v16/BngMUXZYTXPIvIBgJJSb6ufN5qU.woff2) format(\\'woff2\\');unicode-range:U+0000-00FF,U+0131,U+0152-0153,U+02BB-02BC,U+02C6,U+02DA,U+02DC,U+2000-206F,U+2074,U+20AC,U+2122,U+2191,U+2193,U+2212,U+2215,U+FEFF,U+FFFD}@font-face{font-display: swap;font-family:\\'Roboto Slab\\';font-style:normal;font-weight:700;src:url(https://fonts.gstatic.com/s/robotoslab/v16/BngMUXZYTXPIvIBgJJSb6ufA5qW54A.woff2) format(\\'woff2\\');unicode-range:U+0460-052F,U+1C80-1C88,U+20B4,U+2DE0-2DFF,U+A640-A69F,U+FE2E-FE2F}@font-face{font-display: swap;font-family:\\'Roboto Slab\\';font-style:normal;font-weight:700;src:url(https://fonts.gstatic.com/s/robotoslab/v16/BngMUXZYTXPIvIBgJJSb6ufJ5qW54A.woff2) format(\\'woff2\\');unicode-range:U+0400-045F,U+0490-0491,U+04B0-04B1,U+2116}@font-face{font-display: swap;font-family:\\'Roboto Slab\\';font-style:normal;font-weight:700;src:url(https://fonts.gstatic.com/s/robotoslab/v16/BngMUXZYTXPIvIBgJJSb6ufB5qW54A.woff2) format(\\'woff2\\');unicode-range:U+1F00-1FFF}@font-face{font-display: swap;font-family:\\'Roboto Slab\\';font-style:normal;font-weight:700;src:url(https://fonts.gstatic.com/s/robotoslab/v16/BngMUXZYTXPIvIBgJJSb6ufO5qW54A.woff2) format(\\'woff2\\');unicode-range:U+0370-03FF}@font-face{font-display: swap;font-family:\\'Roboto Slab\\';font-style:normal;font-weight:700;src:url(https://fonts.gstatic.com/s/robotoslab/v16/BngMUXZYTXPIvIBgJJSb6ufC5qW54A.woff2) format(\\'woff2\\');unicode-range:U+0102-0103,U+0110-0111,U+0128-0129,U+0168-0169,U+01A0-01A1,U+01AF-01B0,U+1EA0-1EF9,U+20AB}@font-face{font-display: swap;font-family:\\'Roboto Slab\\';font-style:normal;font-weight:700;src:url(https://fonts.gstatic.com/s/robotoslab/v16/BngMUXZYTXPIvIBgJJSb6ufD5qW54A.woff2) format(\\'woff2\\');unicode-range:U+0100-024F,U+0259,U+1E00-1EFF,U+2020,U+20A0-20AB,U+20AD-20CF,U+2113,U+2C60-2C7F,U+A720-A7FF}@font-face{font-display: swap;font-family:\\'Roboto Slab\\';font-style:normal;font-weight:700;src:url(https://fonts.gstatic.com/s/robotoslab/v16/BngMUXZYTXPIvIBgJJSb6ufN5qU.woff2) format(\\'woff2\\');unicode-range:U+0000-00FF,U+0131,U+0152-0153,U+02BB-02BC,U+02C6,U+02DA,U+02DC,U+2000-206F,U+2074,U+20AC,U+2122,U+2191,U+2193,U+2212,U+2215,U+FEFF,U+FFFD}\\n    </style>\\n\\n    <link rel=\"stylesheet\" href=\"https://d27mjrcvcy56qq.cloudfront.net/packs/common.css\" />\\n\\n\\n            \\n          <link href=\"/feed/latest_filings\" rel=\"alternate\" title=\"Latest Filings\" type=\"application/rss+xml\" />\\n    <meta name=\"csrf-param\" content=\"authenticity_token\" />\\n<meta name=\"csrf-token\" content=\"yXutyMNiqqOg_uQEs-7K_vXR_kgHK6ISTU8bJwk6RvHNC1RghASXiq1VIQAW01wVgV2ri0cqI9QjlbR4KpYduQ\" />\\n  </head>\\n\\n  <body class=\"with-3d-shadow with-transitions\">\\n\\n  <section class=\"main-banenr\" style=\"min-height:114px;\">\\n<header id=\"header\" class=\"navbar clearfix \" style=\"border-radius:0;\">\\n\\n\\n  <div class=\"hold navbar\" style=\"z-index:9999;\">\\n    <div class=\"container-fluid\">\\n\\n      <div class=\"navbar-header\">\\n        \\t\\t\\t<a href=\"/\" id=\"logo\" title=\"WhaleWisdom home\">WhaleWisdom</a>\\n        <button class=\"menu-trigger navbar-toggle collapsed\" data-toggle=\"collapse\" data-target=\"#topnavbar\"></button>\\n        <button class=\"search-trigger navbar-toggle collapsed\" data-toggle=\"collapse\" data-target=\"#search-navbar\" id=\"search-toggle-top\"></button>\\n\\n      </div>\\n      <div class=\"collapse navbar-collapse\" id=\"topnavbar\">\\n        <div class=\"search\" id=\"search-navbar\">\\n          <form style=\"background:none;padding:0;\" action=\"\">\\n            <input type=\"text\" class=\"search-query form-control ac_filer_stock_name\"\\n                   placeholder=\"fund/stock lookup\" style=\"width:190px;background:#fff;color:#000;font-size:1.2em;line-height:1.2em;\" id=\"ac_filer_stock_name_top\"\\n                   data-select-id=\"search-filer-restrictions-top\"\\n                   title=\"Start typing the name of a stock or fund\"\\n            />\\n            <div class=\"dropdown select-wrapper\" style=\"width:120px;float:left;\">\\n              <select id=\"search-filer-restrictions-top\" class=\"search-filer-restrictions hidden\">\\n                <option value=\"0\">Search All</option>\\n                <option value=\"1\">Search 13F Filers Only</option>\\n                <option value=\"2\">Search SEC Filer</option>\\n                <option value=\"3\">Search Stocks Only</option>\\n                <option value=\"4\">Search Mgmt Inv. Cos Only</option>\\n                <option value=\"5\">ETFs Only</option>\\n                <option selected=\"selected\" value=\"6\">Search Active</option>\\n              </select>\\n\\n\\n            </div>\\n          </form>\\n\\n\\n        </div>\\n\\n\\n        <nav id=\"menu\" class=\"nav navbar-nav\">\\n          <ul class=\"navbar-nav nav\">\\n            <li class=\"dropdown\">\\n\\n              <a href=\"#\" class=\"dropdown-toggle\" data-toggle=\"dropdown\">13F <span class=\"hidden-md hidden-sm hidden-lg\">Data</span>\\n                <span class=\"caret mobile-only\" style=\"float:right;\"></span></a>\\n              <ul class=\"dropdown-menu\" id=\"top_menu_13f\">\\n                <li class=\"dropdown-header\"></li>\\n                <li><a class=\"user\" href=\"/filing/latest_filings\">Latest 13F Filings</a></li>\\n                <li><a class=\"user\" href=\"/HeatMap\">13F Heat Map</a></li>\\n                <li><a href=\"/statistics/trends\">13F Trend Charts</a></li>\\n                <li><a href=\"/statistics/quarterly_stats\">13F Stats</a></li>\\n                <li><a href=\"/statistics/stock_statistics\">Stock 13F Stats</a></li>\\n                <li><a class=\"user\" href=\"/upcoming/events\">Stock Earnings and Events Calendar</a></li>\\n                <li><a href=\"/filings/important_dates\">Important Filing Dates and Holidays</a></li>\\n\\n\\n                <li class=\"divider\"></li>\\n                <li class=\"dropdown-header\">13F Searching</li>\\n                <li><a href=\"/info/excel_add_in\">Excel Add-in</a></li>\\n                <li><a href=\"/dashboard2/search/fund_performance_search\">13F Fund Performance Search</a></li>\\n                <li><a href=\"/dashboard2/search/stock_screener\">13F Stock Screener</a></li>\\n                <li><a href=\"/dashboard2/search/sector_search\">13F Sector Search</a></li>\\n                <li class=\"divider\"></li>\\n                <li class=\"dropdown-header\">13F Interactive Reports</li>\\n                <li><a class=\"user\" href=\"/dashboard2\">Dashboard Home</a></li>\\n                <li><a class=\"user\" href=\"/dashboard2/groups\">Filer Groups and Reports</a></li>\\n                <li><a class=\"user\" href=\"/dashboard2/watchlists\">Stock Watchlists</a></li>\\n                <li><a href=\"/dashboard2/whale_trader\">WhaleTrader</a></li>\\n                    <li><a href=\"/dashboard2/analytics/backtester\">Backtester</a></li>\\n                    <li><a href=\"/dashboard2/analytics/consensus\">Consensus Holdings</a></li>\\n                    <li><a href=\"/dashboard2/analytics/combined\">Combined Holdings</a></li>\\n                <li><a href=\"/dashboard2/analytics/double_down\">Double-Down</a></li>\\n                <li><a href=\"/dashboard2/analytics/overlapping_matrix\">Overlap Matrix</a></li>\\n                <li><a href=\"/dashboard2/search/options_search\">Options Search</a></li>\\n                <li class=\"hidden-lg\"><a href=\"/whaleindex/index_2_0\">WhaleIndex 100 v2.0</a></li>\\n                <li class=\"hidden-lg\"><a href=\"/whaleindex/portfolio_2_0\">Whale Index v2.0 Portfolios</a></li>\\n                <li class=\"hidden-lg\"><a href=\"/whaleindex/index_2_0/micro_small_mid\">WhaleIndex Mid/Small/Micro v2.0</a></li>\\n              </ul>\\n            </li>\\n            <li class=\"dropdown hidden-sm hidden-md\">\\n              <a href=\"/pricing\" style=\"    background: transparent;\">Pricing</a>\\n\\n            </li>\\n\\n            <li class=\"dropdown\"><a href=\"#\" class=\"dropdown-toggle\" data-toggle=\"dropdown\">13D and More\\n              <span class=\"caret mobile-only\" style=\"float:right;\"></span></a>\\n              <ul class=\"dropdown-menu\" id=\"top_menu_other\">\\n                <li><a href=\"/dashboard2/search/fund_search\">Fund Targeting Search</a></li>\\n                <li><a href=\"/dashboard2/other/schedule13\">Schedule 13D/G Search</a></li>\\n\\n                <li><a href=\"/dashboard2/global/global_search\">Global Holdings Search</a></li>\\n\\n\\n                <li class=\"dropdown-header\">Other SEC Forms</li>\\n                <li><a href=\"/dashboard2/other/form_adv_search\">Investment Advisor (Form ADV) Search</a></li>\\n                <li><a href=\"/dashboard2/other/form_d_search\">Form D Search</a></li>\\n                <li><a href=\"/dashboard2/other/form144_search\">Form 144 Search</a></li>\\n                <li><a href=\"/dashboard2/other/ncen_search\">Mutual Fund (N-CEN) Search</a></li>\\n                <li><a href=\"/dashboard2/insider_dashboard\">Insider Dashboard</a></li>\\n                <li><a href=\"/dashboard2/other/form4_search\">Insider Transaction Search</a></li>\\n                <li class=\"divider\"></li>\\n                <li class=\"dropdown-header\">API</li>\\n                <li><a href=\"/shell/api_help\">Getting Started</a></li>\\n                <li><a href=\"/shell/index\">Interactive Testing Shell</a></li>\\n                <li class=\"divider\"></li>\\n                <li class=\"dropdown-header\">Other Tools</li>\\n                <li><a href=\"/dashboard2/short/short_dashboard\">Intl. Shorting</a></li>\\n                <li>\\n                      <a href=\"/info/email_alert\">\\n                        Email Alerts\\n                      </a>\\n                </li>\\n\\n              </ul>\\n            </li>\\n            <li class=\"hidden-sm hidden-md dropdown\">\\n              <a href=\"#\" class=\"dropdown-toggle\" data-toggle=\"dropdown\">WhaleIndex\\n                <span class=\"caret mobile-only\" style=\"float:right;\"></span>\\n              </a>\\n\\n              <ul class=\"dropdown-menu\">\\n                <li><a href=\"/whaleindex/index_2_0\">WhaleIndex 100 v2.0</a></li>\\n                <li><a href=\"/whaleindex/portfolio_2_0\">Whale Index v2.0 Portfolios</a></li>\\n                <li><a href=\"/whaleindex/index_2_0/micro_small_mid\">WhaleIndex Mid/Small/Micro v2.0</a></li>\\n                <li class=\"divider\"></li>\\n                <li><a href=\"/whaleindex/other\">Other WhaleIndex Strategies</a></li>\\n\\n              </ul>\\n            </li>\\n            <li class=\"dropdown\">\\n              <a href=\"#\" class=\"dropdown-toggle\" data-toggle=\"dropdown\">Help\\n                <span class=\"caret mobile-only\" style=\"float:right;\"></span>\\n              </a>\\n\\n              <ul class=\"dropdown-menu\">\\n                <li><a href=\"/pricing\" class=\"visible-md visible-sm\">Subscription Pricing</a></li>\\n                <li><a href=\"/help/how_can_whalewisdom_help\">How Can WhaleWisdom Help You?</a></li>\\n                <li><a href=\"/help/backtesting_whitepaper\">Backtesting White Paper</a></li>\\n                <li><a href=\"/help/getting_started\">Getting Started</a></li>\\n                <li><a href=\"/info/tutorial_videos\">Video Tutorials</a></li>\\n                <li><a href=\"/faq\">FAQ</a></li>\\n                <li><a href=\"/help/whale_university\">Whale University</a></li>\\n                <li><a href=\"/about\">About WhaleWisdom</a></li>\\n                <li><a href=\"/whale_watching\">Whale Watching Community</a></li>\\n                <li><a href=\"/articles\">Analysis and News</a></li>\\n                <li><a href=\"https://whalewisdomalpha.com\">WhaleWisdomAlpha</a></li>\\n                <li><a href=\"/contact\">Contact Us</a></li>\\n\\n              </ul>\\n            </li>\\n          </ul>\\n          <!-- / navigation -->\\n\\n        </nav>\\n        <div class=\"head-btns user-login-box nav-right\">\\n\\n        </div>\\n      </div>\\n    </div>\\n  </div>\\n\\n  <!-- / container -->\\n</header>\\n<!-- / header -->\\n\\n  </section>\\n\\n\\n  <div id=\"user_container\">\\n  <form action=\"/session\" accept-charset=\"UTF-8\" method=\"post\"><input type=\"hidden\" name=\"authenticity_token\" value=\"O72QwpXuHhTLpS4cfwTLIJ7JWpbzrZOjbVXGRdXlHURqp2GK1z7xI0pfAXlyCEFsNZUvXBN6oxazMVBKG_suLw\" autocomplete=\"off\" />      <div class=\"alert alert-warning\">You must login first</div>\\n\\n      \\n<div class=\"container\">\\n  <div class=\"row\">\\n    <div class=\"col-md-4 col-md-offset-4\">\\n      <div class=\"panel panel-default\">\\n        <div class=\"panel-heading\">\\n          <h3 class=\"panel-title\">Sign in</h3>\\n        </div>\\n        <div class=\"panel-body\">\\n          <form accept-charset=\"UTF-8\" role=\"form\">\\n            <fieldset>\\n              <div class=\"form-group\">\\n                <input type=\"text\" name=\"login\" id=\"login\" autocomplete=\"username\" />\\n              </div>\\n              <div class=\"form-group\">\\n                <input type=\"password\" name=\"password\" id=\"password\" autocomplete=\"current-password\" />\\n              </div>\\n              <div class=\"checkbox\">\\n                <label>\\n                  <input id=\"remember_me\" name=\"remember_me\" type=\"checkbox\" value=\"1\" class=\"checkbox-inline\"/>\\n                   Remember Me\\n                </label>\\n              </div>\\n                <script src=\"https://www.recaptcha.net/recaptcha/api.js?render=6LfHWdoUAAAAAMAqpubAaMDSNO20QDM8sbxb05Hf\"   ></script>\\n        <script>\\n          // Define function so that we can call it again later if we need to reset it\\n          // This executes reCAPTCHA and then calls our callback.\\n          function executeRecaptchaForLogin() {\\n            grecaptcha.ready(function() {\\n              grecaptcha.execute(\\'6LfHWdoUAAAAAMAqpubAaMDSNO20QDM8sbxb05Hf\\', {action: \\'login\\'}).then(function(token) {\\n                setInputWithRecaptchaResponseTokenForLogin(\\'g-recaptcha-response-data-login\\', token)\\n              });\\n            });\\n          };\\n          // Invoke immediately\\n          executeRecaptchaForLogin()\\n\\n          // Async variant so you can await this function from another async function (no need for\\n          // an explicit callback function then!)\\n          // Returns a Promise that resolves with the response token.\\n          async function executeRecaptchaForLoginAsync() {\\n            return new Promise((resolve, reject) => {\\n             grecaptcha.ready(async function() {\\n                resolve(await grecaptcha.execute(\\'6LfHWdoUAAAAAMAqpubAaMDSNO20QDM8sbxb05Hf\\', {action: \\'login\\'}))\\n              });\\n            })\\n          };\\n\\n                  var setInputWithRecaptchaResponseTokenForLogin = function(id, token) {\\n          var element = document.getElementById(id);\\n          if (element !== null) element.value = token;\\n        }\\n\\n        </script>\\n<input type=\"hidden\" name=\"g-recaptcha-response-data[login]\" id=\"g-recaptcha-response-data-login\" data-sitekey=\"6LfHWdoUAAAAAMAqpubAaMDSNO20QDM8sbxb05Hf\" class=\"g-recaptcha g-recaptcha-response \"/>\\n\\n              <input type=\"submit\" name=\"commit\" value=\"Log In\" class=\"btn btn-primary\" data-disable-with=\"Log In\" />\\n              <br/>\\n              or New Users\\n              <a href=\"/users/new\">Click Here to Sign-up</a>\\n            </fieldset>\\n            <div style=\"margin-top:20px;\"><a href=\"/forgot_password\">Forgot Your Password?</a></div>\\n          </form>\\n        </div>\\n      </div>\\n    </div>\\n  </div>\\n</div>\\n\\n\\n</form>\\n  </div>\\n\\n\\n  \\n<section class=\"investments\">\\n\\t<div class=\"container\">\\n\\t\\t<div class=\"row\">\\n\\t\\t  <div class=\"col-xs-12 col-sm-12 col-md-12\">\\n        <img alt=\"WhaleWisdom Logo\" width=\"88\" height=\"54\" src=\"https://d27mjrcvcy56qq.cloudfront.net/images/home/white-logo.png\" />\\n\\t\\t  \\t<h2>Elevate your investments</h2>\\n\\t\\t  \\t<a href=\"javascript:void(0);\" class=\"btn btn-default lnk-login-home btn-lg\">Try it for free</a>\\n\\n\\t\\t  </div>\\n\\t\\t</div>\\n\\t</div>\\n</section>\\n\\n<!-- FOOTER STARTS FROM HERE -->\\n<footer id=\"footer\">\\n\\t<div class=\"container\">\\n\\t\\t<section>\\n\\t\\t\\t<article class=\"col-sm-5 col-md-4 no-padding\">\\n\\t\\t\\t\\t<p>We give you the access and tools to invest like a Wall Street money manager &ndash; at a Main Street price.</p>\\n        <ul class=\"social\">\\n        \\t\\t\\t\\t\\t\\t<li class=\"twitter\"><a href=\"http://www.twitter.com/whalewisdom\">17818</a></li>\\n          <li class=\"instagram\">\\n            <a style=\"padding-left:10px;\" href=\"https://www.instagram.com/whalewisdom13f/\">\\n              <svg xmlns=\"http://www.w3.org/2000/svg\" width=\"16\" height=\"16\" fill=\"currentColor\" class=\"bi bi-instagram\" viewBox=\"0 0 16 16\">\\n                <path d=\"M8 0C5.829 0 5.556.01 4.703.048 3.85.088 3.269.222 2.76.42a3.917 3.917 0 0 0-1.417.923A3.927 3.927 0 0 0 .42 2.76C.222 3.268.087 3.85.048 4.7.01 5.555 0 5.827 0 8.001c0 2.172.01 2.444.048 3.297.04.852.174 1.433.372 1.942.205.526.478.972.923 1.417.444.445.89.719 1.416.923.51.198 1.09.333 1.942.372C5.555 15.99 5.827 16 8 16s2.444-.01 3.298-.048c.851-.04 1.434-.174 1.943-.372a3.916 3.916 0 0 0 1.416-.923c.445-.445.718-.891.923-1.417.197-.509.332-1.09.372-1.942C15.99 10.445 16 10.173 16 8s-.01-2.445-.048-3.299c-.04-.851-.175-1.433-.372-1.941a3.926 3.926 0 0 0-.923-1.417A3.911 3.911 0 0 0 13.24.42c-.51-.198-1.092-.333-1.943-.372C10.443.01 10.172 0 7.998 0h.003zm-.717 1.442h.718c2.136 0 2.389.007 3.232.046.78.035 1.204.166 1.486.275.373.145.64.319.92.599.28.28.453.546.598.92.11.281.24.705.275 1.485.039.843.047 1.096.047 3.231s-.008 2.389-.047 3.232c-.035.78-.166 1.203-.275 1.485a2.47 2.47 0 0 1-.599.919c-.28.28-.546.453-.92.598-.28.11-.704.24-1.485.276-.843.038-1.096.047-3.232.047s-2.39-.009-3.233-.047c-.78-.036-1.203-.166-1.485-.276a2.478 2.478 0 0 1-.92-.598 2.48 2.48 0 0 1-.6-.92c-.109-.281-.24-.705-.275-1.485-.038-.843-.046-1.096-.046-3.233 0-2.136.008-2.388.046-3.231.036-.78.166-1.204.276-1.486.145-.373.319-.64.599-.92.28-.28.546-.453.92-.598.282-.11.705-.24 1.485-.276.738-.034 1.024-.044 2.515-.045v.002zm4.988 1.328a.96.96 0 1 0 0 1.92.96.96 0 0 0 0-1.92zm-4.27 1.122a4.109 4.109 0 1 0 0 8.217 4.109 4.109 0 0 0 0-8.217zm0 1.441a2.667 2.667 0 1 1 0 5.334 2.667 2.667 0 0 1 0-5.334z\"/>\\n              </svg>\\n            </a>\\n          </li>\\n        \\t\\t\\t\\t\\t\\t<!--<li class=\"linked-in\"><a href=\"#\">13</a></li>-->\\n\\n        \\t\\t\\t\\t\\t</ul>\\n\\n\\t\\t\\t\\t<div class=\"links\">\\n\\t\\t\\t\\t\\t<a href=\"/legal/disclaimer\">Disclaimer</a>\\n\\t\\t\\t\\t\\t<a href=\"/legal/privacy_policy\">Privacy Policy</a>\\n          <a href=\"/legal/trademarks\">Trademarks</a>\\n          <a href=\"/legal/terms_of_use\" title=\"Terms of Service\">TOS</a>\\n          <a href=\"/legal/ccpa_notice\" title=\"Do Not Sell My Personal Information\">LIMIT THE USE OF MY SENSITIVE PERSONAL INFORMATION</a>\\n\\t\\t\\t\\t</div>\\n\\t\\t\\t</article>\\n\\n\\t\\t\\t<article class=\"col-sm-4 col-xs-6 col-md-offset-1\">\\n\\t\\t\\t\\t<h4>Key Features</h4>\\n\\t\\t\\t\\t<ul>\\n\\t\\t\\t\\t\\t<li><a href=\"/dashboard2/analytics/backtester\">Backtester</a></li>\\n\\t\\t\\t\\t\\t<li><a href=\"/dashboard2/analytics/combined\">Combined Holdings</a></li>\\n          <li><a href=\"/info/excel_add_in\">Excel Add-in</a></li>\\n\\t\\t\\t\\t\\t<li><a href=\"/dashboard2/search/fund_performance_search\">13F Fund Performance Evaluator</a></li>\\n          <li><a href=\"/shell/api_help\">Developer API</a></li>\\n\\t\\t\\t\\t\\t<li><a href=\"/dashboard2/search/stock_screener\">13F Stock Screener</a></li>\\n\\t\\t\\t\\t\\t<li><a href=\"/report/heat_map\">13F Heat Map</a></li>\\n\\t\\t\\t\\t</ul>\\n\\t\\t\\t</article>\\n\\n\\t\\t\\t<article class=\"col-sm-3 col-xs-6 \">\\n\\t\\t\\t\\t<h4>About Us</h4>\\n\\t\\t\\t\\t<ul>\\n\\t\\t\\t\\t\\t<li><a title=\"getting started\" href=\"/info/getting_started\">Getting Started</a></li>\\n          <li><a href=\"/whitepapers/whalewisdom\">How WhaleWisdom Can Help</a></li>\\n\\t\\t\\t\\t\\t<li><a href=\"/info/faq\">FAQ</a></li>\\n\\t\\t\\t\\t\\t<li><a href=\"/info/about\">About WhaleWisdom</a></li>\\n\\t\\t\\t\\t\\t<li><a href=\"/contact\">Contact Us</a></li>\\n\\t\\t\\t\\t\\t<li><a href=\"/pricing\">Premium Subscriptions</a></li>\\n          <li><a href=\"/articles\">News and Articles</a></li>\\n\\n\\t\\t\\t\\t</ul>\\n\\t\\t\\t</article>\\n\\t\\t</section>\\n\\t</div>\\n\\t<!-- / container -->\\n\\t<p class=\"copy\">All text and design is copyright &copy; 2020 WhaleWisdom.com. All rights reserved. </p>\\n</footer>\\n\\n\\n\\n\\n\\n                       <script src=\"https://cdnjs.cloudflare.com/ajax/libs/jquery/3.6.0/jquery.min.js\" type=\"text/javascript\" defer></script>\\n                       <script src=\"https://ajax.googleapis.com/ajax/libs/jqueryui/1.13.2/jquery-ui.min.js\" type=\"text/javascript\" defer></script>\\n\\n                       <script src=\"//twemoji.maxcdn.com/2/twemoji.min.js?11.2\" defer></script>\\n                       <script src=\"https://d27mjrcvcy56qq.cloudfront.net/packs/js/common-969c24005276d41a575d.js\" defer=\"defer\"></script>\\n\\n                       <script async src=\"https://www.googletagmanager.com/gtag/js?id=G-W3YC81ZC30\"></script>\\n                       <script>\\n                          window.dataLayer = window.dataLayer || [];\\n                          function gtag(){dataLayer.push(arguments);}\\n                          gtag(\\'js\\', new Date());\\n\\n                          gtag(\\'config\\', \\'G-W3YC81ZC30\\');\\n                        </script>\\n    <script>InvestingChannelQueue = window.InvestingChannelQueue || [];</script>\\n    <script defer src=\"https://u5.investingchannel.com/static/uat.js\"></script>\\n\\n    <script type=\"text/javascript\">\\n        var page;\\n        InvestingChannelQueue.push(function() {\\n            page = InvestingChannel.UAT.Run(\"eb033e36-f527-46c7-b805-92c1fb0f90cc\");\\n        });\\n        InvestingChannelQueue.push(function () {\\n          page.setKval({ isloggedin: \\'false\\' });\\n        });\\n    </script>\\n\\n\\n          \\n\\n\\n  </body>\\n</html>'"
      ]
     },
     "execution_count": 67,
     "metadata": {},
     "output_type": "execute_result"
    }
   ],
   "source": [
    "# base_url = 'https://whalewisdom.com/shell/command.html?args=%7B%22command%22:%22filer_lookup%22,%20%22name%22:%22berkshire%22%7D'\n",
    "# headers = {\n",
    "#     \"User-Agent\": \"Mozilla/5.0 (Windows NT 10.0; Win64; x64) AppleWebKit/537.36 (KHTML, like Gecko) Chrome/91.0.4472.124 Safari/537.36\",\n",
    "#     \"Accept\": \"application/json\"\n",
    "# }\n",
    "\n",
    "# response = requests.get(base_url, headers=headers)\n",
    "# response.raise_for_status()\n",
    "\n",
    "# response.text"
   ]
  },
  {
   "cell_type": "code",
   "execution_count": null,
   "metadata": {},
   "outputs": [
    {
     "data": {
      "text/plain": [
       "167941"
      ]
     },
     "execution_count": 25,
     "metadata": {},
     "output_type": "execute_result"
    }
   ],
   "source": [
    "# import hashlib\n",
    "# import hmac\n",
    "# import base64\n",
    "# import json\n",
    "# import time\n",
    "# import urllib.parse\n",
    "# import requests\n",
    "\n",
    "# class WhaleWisdom:\n",
    "#     def __init__(self, secret_key, shared_key):\n",
    "#         self.secret_key = secret_key\n",
    "#         self.shared_key = shared_key\n",
    "#         self.timestamp = self.get_timestamp()\n",
    "\n",
    "#     def get_timestamp(self):\n",
    "#         \"\"\"Gera o timestamp no formato UTC\"\"\"\n",
    "#         return time.strftime('%Y-%m-%dT%H:%M:%SZ', time.gmtime())\n",
    "\n",
    "#     def signature(self, args):\n",
    "#         \"\"\"Gera a assinatura HMAC-SHA1 em Base64\"\"\"\n",
    "#         message = f\"{args}\\n{self.timestamp}\".encode('utf-8')\n",
    "#         hmac_digest = hmac.new(self.secret_key.encode('utf-8'), message, hashlib.sha1).digest()\n",
    "#         return base64.b64encode(hmac_digest).decode('utf-8')\n",
    "\n",
    "#     def encode(self, string):\n",
    "#         \"\"\"Codifica a string para URL\"\"\"\n",
    "#         return urllib.parse.quote(string, safe='')\n",
    "\n",
    "#     def endpoint(self, args):\n",
    "#         \"\"\"Constrói a URL da API do WhaleWisdom\"\"\"\n",
    "#         encoded_args = self.encode(json.dumps(args))\n",
    "#         api_sig = self.signature(json.dumps(args))\n",
    "#         encoded_timestamp = self.encode(self.timestamp)\n",
    "\n",
    "#         return f\"https://whalewisdom.com/shell/command.json?args={encoded_args}&api_shared_key={self.shared_key}&api_sig={api_sig}&timestamp={encoded_timestamp}\"\n",
    "\n",
    "#     def request(self, args):\n",
    "#         \"\"\"Faz a requisição à API\"\"\"\n",
    "#         url = self.endpoint(args)\n",
    "#         response = requests.get(url)\n",
    "\n",
    "#         if response.status_code == 200:\n",
    "#             return response.text\n",
    "#         else:\n",
    "#             print(f\"Erro {response.status_code}: {response.text}\")\n",
    "#             return None\n",
    "\n",
    "\n",
    "# # **Exemplo de Uso**\n",
    "# WW_SHARED_KEY = \"aTWxWrcILEOGqkAPZtAL\"\n",
    "# WW_SECRET_KEY = \"JGlAleUrGy1bWaLoiWwESNIbTHaovA0ocKOnr4MW\"\n",
    "\n",
    "# ww = WhaleWisdom(secret_key=WW_SECRET_KEY, shared_key=WW_SHARED_KEY)\n",
    "\n",
    "# # Obter as participações (holdings) de um gestor específico\n",
    "# response = ww.request({\n",
    "#     \"command\": \"stock_lookup\",\n",
    "#     \"symbol\": \"ctre\"\n",
    "# })\n",
    "\n",
    "# data = json.loads(response)\n",
    "\n",
    "# stock_id = data[\"stocks\"][0][\"id\"]\n",
    "# name = data[\"stocks\"][0][\"name\"]\n",
    "# status = data[\"stocks\"][0][\"status\"]\n",
    "# link = data[\"stocks\"][0][\"link\"]\n",
    "\n",
    "# stock_id"
   ]
  },
  {
   "cell_type": "code",
   "execution_count": null,
   "metadata": {},
   "outputs": [
    {
     "data": {
      "text/plain": [
       "'{\"errors\":[\"Subscription limit has been reached for current period\"]}'"
      ]
     },
     "execution_count": 36,
     "metadata": {},
     "output_type": "execute_result"
    }
   ],
   "source": [
    "# response = ww.request(\n",
    "# {\"command\":\"holdings\",\"stock_ids\":[167941],\"filer_ids\":[373], \"limit\": 10, \"all_quarters\":0})\n",
    "# response\n"
   ]
  },
  {
   "cell_type": "code",
   "execution_count": null,
   "metadata": {},
   "outputs": [
    {
     "data": {
      "text/plain": [
       "'{\"errors\":[\"Subscription limit has been reached for current period\"]}'"
      ]
     },
     "execution_count": 19,
     "metadata": {},
     "output_type": "execute_result"
    }
   ],
   "source": [
    "# response"
   ]
  },
  {
   "cell_type": "markdown",
   "metadata": {},
   "source": [
    "## STOCKS\n",
    "\n"
   ]
  },
  {
   "cell_type": "code",
   "execution_count": 1,
   "metadata": {},
   "outputs": [],
   "source": [
    "import yfinance as yf\n",
    "import pandas as pd\n",
    "import talib\n",
    "from django.http import JsonResponse\n",
    "from datetime import datetime, timedelta\n",
    "\n",
    "# S&P 500 → ^GSPC\n",
    "# Dow Jones → ^DJI\n",
    "# Nasdaq 100 → ^NDX\n",
    "# Russell 2000 → ^RUT\n",
    "# DAX (Alemanha) → ^GDAXI\n",
    "# Definir o ticker da ação\n",
    "symbol = \"AAPL\"  # Apple Inc.\n",
    "# symbol = \"^GSPC\"  # Apple Inc.\n",
    "# symbol = \"XLK\"  # Apple Inc.\n",
    "\n",
    "# Definir período e intervalo\n",
    "period = \"1y\"       # Período de 1 mês\n",
    "interval = \"1d\"      # Dados diários\n",
    "\n",
    "yahoo_symbol_info = yf.Ticker(symbol).info"
   ]
  },
  {
   "cell_type": "code",
   "execution_count": 2,
   "metadata": {},
   "outputs": [],
   "source": [
    "def get_sector_etf_info(sector_name, search_value: str = \"info\" ):\n",
    "    \"\"\"\n",
    "    Return information about symbol ETF sector.\n",
    "    \"\"\"\n",
    "    sector_map = {\n",
    "        \"Technology\": \"XLK\",\n",
    "        \"Financial Services\": \"XLF\",\n",
    "        \"Consumer Cyclical\": \"XLY\",\n",
    "        \"Healthcare\": \"XLV\",\n",
    "        \"Communication Services\": \"XLC\",\n",
    "        \"Industrials\": \"XLI\",\n",
    "        \"Consumer Defensive\": \"XLP\",\n",
    "        \"Energy\": \"XLE\",\n",
    "        \"Real Estate\": \"XLRE\",\n",
    "        \"Basic Materials\": \"XLB\",\n",
    "        \"Utilities\": \"XLU\",\n",
    "    }\n",
    "\n",
    "    etf_symbol = sector_map.get(sector_name)\n",
    "    if not etf_symbol:\n",
    "        return \"N/A\"\n",
    "\n",
    "    ticker = yf.Ticker(etf_symbol)\n",
    "\n",
    "    if search_value == \"info\":\n",
    "        return ticker.info\n",
    "    else:\n",
    "        return ticker.info.get(search_value, \"N/A\")\n"
   ]
  },
  {
   "cell_type": "code",
   "execution_count": 4,
   "metadata": {},
   "outputs": [],
   "source": [
    "try:\n",
    "    yahoo_symbol_income = yf.Ticker(symbol).income_stmt\n",
    "except:\n",
    "    yahoo_symbol_income = pd.DataFrame()\n",
    "\n",
    "# Inicializar todas as variáveis com \"N/A\"\n",
    "net_income = \"N/A\"\n",
    "total_revenue = \"N/A\"\n",
    "cost_of_revenue = \"N/A\"\n",
    "gross_profit = \"N/A\"\n",
    "\n",
    "# net_income\n",
    "if 'Net Income' in yahoo_symbol_income.index:\n",
    "    net_income = yahoo_symbol_income.loc['Net Income']\n",
    "    if pd.isna(net_income).all():\n",
    "        net_income = \"N/A\"\n",
    "\n",
    "# total_revenue\n",
    "if 'Total Revenue' in yahoo_symbol_income.index:\n",
    "    total_revenue = yahoo_symbol_income.loc['Total Revenue']\n",
    "    if pd.isna(total_revenue).all():\n",
    "        total_revenue = \"N/A\"\n",
    "\n",
    "# cost_of_revenue\n",
    "if 'Cost Of Revenue' in yahoo_symbol_income.index:\n",
    "    cost_of_revenue = yahoo_symbol_income.loc['Cost Of Revenue']\n",
    "    if pd.isna(cost_of_revenue).all():\n",
    "        cost_of_revenue = \"N/A\"\n",
    "\n",
    "# gross_profit\n",
    "if 'Gross Profit' in yahoo_symbol_income.index:\n",
    "    gross_profit = yahoo_symbol_income.loc['Gross Profit']\n",
    "    if pd.isna(gross_profit).all():\n",
    "        gross_profit = \"N/A\""
   ]
  },
  {
   "cell_type": "code",
   "execution_count": 5,
   "metadata": {},
   "outputs": [],
   "source": [
    "def get_yoy_metric(series):\n",
    "    if isinstance(series, pd.Series):\n",
    "        yoy_growth = ((series - series.shift(-1)) / series.shift(-1)) * 100\n",
    "        yoy_growth = yoy_growth.dropna()\n",
    "        \n",
    "    return yoy_growth\n",
    "\n",
    "def get_cagr_metric(series):\n",
    "    series = series.dropna()\n",
    "    if len(series) >= 2:\n",
    "        start_value = series.iloc[-1]\n",
    "        end_value = series.iloc[0]\n",
    "        num_years = len(series) - 1\n",
    "        cagr = ((end_value / start_value) ** (1 / num_years)) - 1\n",
    "\n",
    "    cagr_percent = cagr * 100 if cagr != \"N/A\" else \"N/A\"\n",
    "\n",
    "    return cagr_percent"
   ]
  },
  {
   "cell_type": "code",
   "execution_count": 18,
   "metadata": {},
   "outputs": [
    {
     "data": {
      "text/plain": [
       "Index(['Free Cash Flow', 'Repurchase Of Capital Stock', 'Repayment Of Debt',\n",
       "       'Issuance Of Debt', 'Issuance Of Capital Stock', 'Capital Expenditure',\n",
       "       'Interest Paid Supplemental Data', 'Income Tax Paid Supplemental Data',\n",
       "       'End Cash Position', 'Beginning Cash Position', 'Changes In Cash',\n",
       "       'Financing Cash Flow', 'Cash Flow From Continuing Financing Activities',\n",
       "       'Net Other Financing Charges', 'Cash Dividends Paid',\n",
       "       'Common Stock Dividend Paid', 'Net Common Stock Issuance',\n",
       "       'Common Stock Payments', 'Common Stock Issuance',\n",
       "       'Net Issuance Payments Of Debt', 'Net Short Term Debt Issuance',\n",
       "       'Net Long Term Debt Issuance', 'Long Term Debt Payments',\n",
       "       'Long Term Debt Issuance', 'Investing Cash Flow',\n",
       "       'Cash Flow From Continuing Investing Activities',\n",
       "       'Net Other Investing Changes', 'Net Investment Purchase And Sale',\n",
       "       'Sale Of Investment', 'Purchase Of Investment',\n",
       "       'Net Business Purchase And Sale', 'Purchase Of Business',\n",
       "       'Net PPE Purchase And Sale', 'Purchase Of PPE', 'Operating Cash Flow',\n",
       "       'Cash Flow From Continuing Operating Activities',\n",
       "       'Change In Working Capital', 'Change In Other Working Capital',\n",
       "       'Change In Other Current Liabilities', 'Change In Other Current Assets',\n",
       "       'Change In Payables And Accrued Expense', 'Change In Payable',\n",
       "       'Change In Account Payable', 'Change In Inventory',\n",
       "       'Change In Receivables', 'Changes In Account Receivables',\n",
       "       'Other Non Cash Items', 'Stock Based Compensation', 'Deferred Tax',\n",
       "       'Deferred Income Tax', 'Depreciation Amortization Depletion',\n",
       "       'Depreciation And Amortization',\n",
       "       'Net Income From Continuing Operations'],\n",
       "      dtype='object')"
      ]
     },
     "execution_count": 18,
     "metadata": {},
     "output_type": "execute_result"
    }
   ],
   "source": [
    "yahoo_symbol_cashflow = yf.Ticker(symbol).cash_flow\n",
    "yahoo_symbol_cashflow.index"
   ]
  },
  {
   "cell_type": "code",
   "execution_count": 26,
   "metadata": {},
   "outputs": [],
   "source": [
    "free_cashflow = yahoo_symbol_cashflow.loc['Free Cash Flow']\n",
    "get_cagr_metric(free_cashflow)\n",
    "\n",
    "operating_cashflow = yahoo_symbol_cashflow.loc['Operating Cash Flow']\n",
    "capital_expenditure = yahoo_symbol_cashflow.loc['Capital Expenditure']"
   ]
  },
  {
   "cell_type": "code",
   "execution_count": 28,
   "metadata": {},
   "outputs": [
    {
     "data": {
      "text/plain": [
       "(108807000000.0, 118254000000.0, -9447000000.0, 108807000000.0)"
      ]
     },
     "execution_count": 28,
     "metadata": {},
     "output_type": "execute_result"
    }
   ],
   "source": [
    "free_cashflow.iloc[0]\n",
    "operating_cashflow.iloc[0]\n",
    "capital_expenditure.iloc[0]\n",
    "\n",
    "result = operating_cashflow.iloc[0]-abs(capital_expenditure.iloc[0]) \n",
    "\n",
    "free_cashflow.iloc[0], operating_cashflow.iloc[0], capital_expenditure.iloc[0], result"
   ]
  },
  {
   "cell_type": "code",
   "execution_count": 9,
   "metadata": {},
   "outputs": [],
   "source": [
    "# yahoo_symbol_cashflow = yf.Ticker(symbol).cash_flow\n",
    "# yahoo_symbol_cashflow.index"
   ]
  },
  {
   "cell_type": "code",
   "execution_count": 10,
   "metadata": {},
   "outputs": [],
   "source": [
    "# revenue_history = yahoo_symbol_info.get(\"netIncomeToCommon\")\n",
    "# revenue_history"
   ]
  },
  {
   "cell_type": "code",
   "execution_count": null,
   "metadata": {},
   "outputs": [],
   "source": []
  },
  {
   "cell_type": "code",
   "execution_count": 11,
   "metadata": {},
   "outputs": [],
   "source": [
    "# https://medium.com/towards-data-science/pivot-points-calculation-in-python-for-day-trading-659c1e92d323\n",
    "\n",
    "\n",
    "# ### ZONAS PIVOT! ###"
   ]
  },
  {
   "cell_type": "markdown",
   "metadata": {},
   "source": [
    "## Data Collection Binance\n"
   ]
  },
  {
   "cell_type": "code",
   "execution_count": null,
   "metadata": {},
   "outputs": [],
   "source": [
    "# import requests\n",
    "\n",
    "# url = \"https://api.binance.com/api/v3/ticker/price\"\n",
    "# params = {\"symbol\": \"BTCUSDT\"}\n",
    "\n",
    "# response = requests.get(url, params=params)\n",
    "\n",
    "# if response.status_code == 200:\n",
    "#     symbol = response.json()[\"symbol\"]\n",
    "#     price = response.json()[\"price\"]\n",
    "# else:\n",
    "#     error = response.status_code"
   ]
  },
  {
   "cell_type": "code",
   "execution_count": null,
   "metadata": {},
   "outputs": [],
   "source": [
    "# from decimal import Decimal\n",
    "# from datetime import datetime\n",
    "\n",
    "\n",
    "# def get_crypto_symbol_24h(symbol : str):\n",
    "\n",
    "#     url = \"https://api.binance.com/api/v3/ticker/24hr\"\n",
    "#     params = {\"symbol\": symbol}\n",
    "\n",
    "#     response = requests.get(url, params=params)\n",
    "\n",
    "#     if response.status_code == 200:\n",
    "#         priceChangePercent = Decimal(response.json()[\"priceChangePercent\"])\n",
    "#         weightedAvgPrice = Decimal(response.json()[\"weightedAvgPrice\"])\n",
    "#         prevClosePrice = Decimal(response.json()[\"prevClosePrice\"])\n",
    "#         priceChange = Decimal(response.json()[\"priceChange\"])\n",
    "#         lastPrice = Decimal(response.json()[\"lastPrice\"])\n",
    "#         lastQty = Decimal(response.json()[\"lastQty\"])\n",
    "#         bidPrice = Decimal(response.json()[\"bidPrice\"])\n",
    "#         bidQty = Decimal(response.json()[\"bidQty\"])\n",
    "#         askPrice = Decimal(response.json()[\"askPrice\"])\n",
    "#         askQty = Decimal(response.json()[\"askQty\"])\n",
    "#         openPrice = Decimal(response.json()[\"openPrice\"])\n",
    "#         highPrice = Decimal(response.json()[\"highPrice\"])\n",
    "#         lowPrice = Decimal(response.json()[\"lowPrice\"])\n",
    "#         volume = Decimal(response.json()[\"volume\"])\n",
    "#         quoteVolume = Decimal(response.json()[\"quoteVolume\"])\n",
    "#         openTime = datetime.fromtimestamp(response.json()[\"openTime\"] / 1000).strftime(\"%d-%m-%Y %H:%M:%S\")\n",
    "#         closeTime = datetime.fromtimestamp(response.json()[\"closeTime\"] / 1000).strftime(\"%d-%m-%Y %H:%M:%S\")\n",
    "#         firstId = response.json()[\"firstId\"]\n",
    "#         lastId = response.json()[\"lastId\"]\n",
    "#         count = response.json()[\"count\"]\n",
    "#     else:\n",
    "#         print(f\"Erro: {response.status_code} - {response.text}\")"
   ]
  },
  {
   "cell_type": "code",
   "execution_count": null,
   "metadata": {},
   "outputs": [],
   "source": [
    "# url = \"https://api.binance.com/api/v3/openOrders\"\n",
    "# params = {\"symbol\": \"BTCUSDT\"}\n",
    "\n",
    "# response = requests.get(url, params=params)\n",
    "# response.json()\n"
   ]
  }
 ],
 "metadata": {
  "kernelspec": {
   "display_name": "Python 3",
   "language": "python",
   "name": "python3"
  },
  "language_info": {
   "codemirror_mode": {
    "name": "ipython",
    "version": 3
   },
   "file_extension": ".py",
   "mimetype": "text/x-python",
   "name": "python",
   "nbconvert_exporter": "python",
   "pygments_lexer": "ipython3",
   "version": "3.11.4"
  }
 },
 "nbformat": 4,
 "nbformat_minor": 2
}
