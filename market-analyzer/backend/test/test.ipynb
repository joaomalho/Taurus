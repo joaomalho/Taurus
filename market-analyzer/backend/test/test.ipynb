{
 "cells": [
  {
   "cell_type": "code",
   "execution_count": 9,
   "metadata": {},
   "outputs": [],
   "source": [
    "import yfinance as yf\n",
    "from datetime import datetime\n",
    "import warnings\n",
    "\n",
    "# Suprimir avisos específicos\n",
    "warnings.filterwarnings(\"ignore\", category=FutureWarning, module=\"yfinance\")\n"
   ]
  },
  {
   "cell_type": "code",
   "execution_count": 2,
   "metadata": {},
   "outputs": [],
   "source": [
    "# Criar objeto do ticker\n",
    "ticker_data = yf.Ticker(\"MSFT\")"
   ]
  },
  {
   "cell_type": "code",
   "execution_count": null,
   "metadata": {},
   "outputs": [],
   "source": [
    "#### Não Funciona ####\n",
    "# # Acessar fast_info\n",
    "info = ticker_data.info"
   ]
  },
  {
   "cell_type": "code",
   "execution_count": 6,
   "metadata": {},
   "outputs": [],
   "source": [
    "yahoo_symbol_recommendations = ticker_data.recommendations\n",
    "# yahoo_symbol_recommendations"
   ]
  },
  {
   "cell_type": "code",
   "execution_count": 8,
   "metadata": {},
   "outputs": [],
   "source": [
    "# Dividendos\n",
    "cashflow = ticker_data.cashflow\n",
    "# cashflow"
   ]
  },
  {
   "cell_type": "code",
   "execution_count": 9,
   "metadata": {},
   "outputs": [],
   "source": [
    "# Notícias\n",
    "balance_sheet = ticker_data.balance_sheet\n",
    "# balance_sheet"
   ]
  },
  {
   "cell_type": "code",
   "execution_count": 10,
   "metadata": {},
   "outputs": [],
   "source": [
    "yahoo_symbol_sustainability = ticker_data.sustainability\n",
    "# yahoo_symbol_sustainability"
   ]
  },
  {
   "cell_type": "code",
   "execution_count": 9,
   "metadata": {},
   "outputs": [],
   "source": [
    "# Eventos corporativos\n",
    "calendar = ticker_data.calendar\n",
    "# calendar"
   ]
  },
  {
   "cell_type": "code",
   "execution_count": 10,
   "metadata": {},
   "outputs": [],
   "source": [
    "# # Datas disponíveis para opções\n",
    "# options_dates = ticker_data.options\n",
    "# print(\"Datas de opções:\", options_dates)\n",
    "\n",
    "# # Obter opções para uma data específica\n",
    "# options = ticker_data.option_chain(options_dates[0])\n",
    "# print(\"Opções de compra (calls):\", options.calls)\n",
    "# print(\"Opções de venda (puts):\", options.puts)"
   ]
  },
  {
   "cell_type": "code",
   "execution_count": 11,
   "metadata": {},
   "outputs": [],
   "source": [
    "# # Demonstrativo financeiro\n",
    "# financials = ticker_data.financials\n",
    "# print(\"Demonstrativo financeiro:\", financials)\n",
    "\n",
    "# # Balanço patrimonial\n",
    "# balance_sheet = ticker_data.balance_sheet\n",
    "# print(\"Balanço patrimonial:\", balance_sheet)\n",
    "\n",
    "# # Fluxo de caixa\n",
    "# cashflow = ticker_data.cashflow\n",
    "# print(\"Fluxo de caixa:\", cashflow)"
   ]
  },
  {
   "cell_type": "markdown",
   "metadata": {},
   "source": [
    "Informações financeiras mais detalhadas da empresa."
   ]
  },
  {
   "cell_type": "code",
   "execution_count": 12,
   "metadata": {},
   "outputs": [],
   "source": [
    "# # Dados de sustentabilidade\n",
    "# sustainability = ticker_data.sustainability\n",
    "# print(sustainability)"
   ]
  },
  {
   "cell_type": "markdown",
   "metadata": {},
   "source": [
    "Informações de ESG (Environmental, Social, Governance)."
   ]
  },
  {
   "cell_type": "code",
   "execution_count": 13,
   "metadata": {},
   "outputs": [],
   "source": [
    "# # Ações em circulação\n",
    "# shares = ticker_data.shares\n",
    "# print(\"Ações em circulação:\", shares)"
   ]
  },
  {
   "cell_type": "markdown",
   "metadata": {},
   "source": [
    "Obtenha informações sobre ações em circulação e histórico de splits."
   ]
  },
  {
   "cell_type": "code",
   "execution_count": 14,
   "metadata": {},
   "outputs": [],
   "source": [
    "# Principais investidores institucionais\n",
    "inst_holders = ticker_data.institutional_holders\n",
    "# inst_holders\n"
   ]
  },
  {
   "cell_type": "markdown",
   "metadata": {},
   "source": [
    "Dados sobre investidores institucionais e sua participação."
   ]
  },
  {
   "cell_type": "code",
   "execution_count": 15,
   "metadata": {},
   "outputs": [],
   "source": [
    "# Principais investidores institucionais\n",
    "holders = ticker_data.major_holders\n",
    "# holders\n"
   ]
  },
  {
   "cell_type": "code",
   "execution_count": 10,
   "metadata": {},
   "outputs": [],
   "source": [
    "def get_yahoo_data_history(symbol : str, period : str, interval: str, start = '1900-01-01', end = datetime.now(), prepost : bool = True):\n",
    "        '''\n",
    "        Data collection from yahoo\n",
    "\n",
    "        Parameters:\n",
    "        period : str\n",
    "            Valid periods: 1d,5d,1mo,3mo,6mo,1y,2y,5y,10y,ytd,max Either Use period parameter or use start and end\n",
    "        interval : str\n",
    "            Valid intervals: 1m,2m,5m,15m,30m,60m,90m,1h,1d,5d,1wk,1mo,3mo Intraday data cannot extend last 60 days\n",
    "        start: str\n",
    "            Download start date string (YYYY-MM-DD) or _datetime, inclusive. Default is 1900-01-01 E.g. for start=\"2020-01-01\", the first data point will be on \"2020-01-01\"\n",
    "        end: str\n",
    "            Download end date string (YYYY-MM-DD) or _datetime, exclusive. Default is now E.g. for end=\"2023-01-01\", the last data point will be on \"2022-12-31\"\n",
    "        prepost : bool\n",
    "            Include Pre and Post market data in results? Default is False\n",
    "        debug: bool\n",
    "            If passed as False, will suppress error message printing to console.\n",
    "        '''\n",
    "        yahoo_data_history = yf.Ticker(symbol).history(period=period, interval=interval, start=start, end=end, prepost=prepost)\n",
    "        return yahoo_data_history\n",
    "\n",
    "history = get_yahoo_data_history(symbol=\"MSFT\",period='1y', interval='1d', end = datetime.now(), prepost=True)"
   ]
  },
  {
   "cell_type": "code",
   "execution_count": 14,
   "metadata": {},
   "outputs": [
    {
     "name": "stdout",
     "output_type": "stream",
     "text": [
      "Returned Data: {'data': {'companies': []}}\n"
     ]
    }
   ],
   "source": [
    "import requests\n",
    "\n",
    "# Define the endpoint and your API key\n",
    "url = \"https://api.simplywall.st/graphql\"\n",
    "headers = {\n",
    "    \"Authorization\": \"Bearer sws:ZGE4YzBlNzItMTg2Ni00Y2Y5LWI3YTktYzAxODcyZGEwZjE3OmFjODUzODRhZDUzNGMwMzY=\",\n",
    "    \"Content-Type\": \"application/json\",  # Required for JSON body\n",
    "}\n",
    "\n",
    "# Define the GraphQL query and variables\n",
    "query = \"\"\"\n",
    "query Companies($exchange: String!, $offset: Int!, $limit: Int!) {\n",
    "  companies(exchange: $exchange, offset: $offset, limit: $limit) {\n",
    "    id\n",
    "    exchangeSymbol\n",
    "    tickerSymbol\n",
    "    name\n",
    "    marketCapUSD\n",
    "    primaryIndustry { name }\n",
    "    secondaryIndustry { name }\n",
    "    tertiaryIndustry { name }\n",
    "    market { name iso2 }\n",
    "    closingPrices\n",
    "    statements { name title area type value outcome description state severity outcomeName }\n",
    "    listings { id exchangeSymbol tickerSymbol name marketCapUSD primaryIndustry { name } secondaryIndustry { name } tertiaryIndustry { name } market { name iso2 } closingPrices }\n",
    "    owners { name type sharesHeld percentOfSharesOutstanding holdingDate periodStartDate periodEndDate }\n",
    "    insiderTransactions { type ownerName ownerType description tradeDateMin tradeDateMax shares priceMin priceMax transactionValue percentageSharesTraded }\n",
    "    members { age name title tenure compensation }\n",
    "    active classificationStatus\n",
    "  }\n",
    "}\n",
    "\"\"\"\n",
    "\n",
    "# Define the variables for the query\n",
    "variables = {\n",
    "    \"exchange\": \"NYSE\",  # Try changing to \"NYSE\" or another exchange\n",
    "    \"offset\": 20,         # Try adjusting this value (e.g., 10 or 20)\n",
    "    \"limit\": 100          # Adjust limit to fetch more results\n",
    "}\n",
    "\n",
    "# Create the request payload\n",
    "payload = {\n",
    "    \"query\": query,\n",
    "    \"variables\": variables\n",
    "}\n",
    "\n",
    "# Make the POST request\n",
    "response = requests.post(url, headers=headers, json=payload)\n",
    "\n",
    "# Check the response\n",
    "if response.status_code == 200:\n",
    "    data = response.json()\n",
    "    if not data:\n",
    "        print(\"No companies found with the given parameters.\")\n",
    "    else:\n",
    "        print(\"Returned Data:\", data)\n",
    "else:\n",
    "    print(f\"Error: {response.status_code}, {response.text}\")\n"
   ]
  },
  {
   "cell_type": "code",
   "execution_count": 1,
   "metadata": {},
   "outputs": [
    {
     "name": "stdout",
     "output_type": "stream",
     "text": [
      "Iniciando instalação do TA-Lib no Windows...\n",
      "O arquivo TA_Lib-0.5.1-cp311-cp311-win_amd64.whl já existe. Pulando o download.\n",
      "Instalando TA_Lib-0.5.1-cp311-cp311-win_amd64.whl...\n",
      "TA-Lib instalado com sucesso!\n",
      "Arquivo x:\\Taurus\\market-analyzer\\backend\\test\\TA_Lib-0.5.1-cp311-cp311-win_amd64.whl removido após a instalação.\n"
     ]
    }
   ],
   "source": [
    "import os\n",
    "import subprocess\n",
    "import requests\n",
    "\n",
    "class TALibInstaller:\n",
    "    def install_ta_lib_windows(self):\n",
    "        \"\"\"Automatiza a instalação do TA-Lib no Windows.\"\"\"\n",
    "        print(\"Iniciando instalação do TA-Lib no Windows...\")\n",
    "\n",
    "        # URL do arquivo .whl (atualize conforme necessário)\n",
    "        talib_url = \"https://github.com/cgohlke/talib-build/releases/download/v0.5.1/TA_Lib-0.5.1-cp311-cp311-win_amd64.whl\"\n",
    "        talib_whl = talib_url.split(\"/\")[-1]  # Nome do arquivo\n",
    "\n",
    "        # Caminho local para salvar o arquivo .whl\n",
    "        local_path = os.path.join(os.getcwd(), talib_whl)\n",
    "\n",
    "        # Fazer o download do arquivo .whl\n",
    "        if not os.path.exists(local_path):\n",
    "            print(f\"Baixando {talib_whl} de {talib_url}...\")\n",
    "            response = requests.get(talib_url, stream=True)\n",
    "            if response.status_code == 200:\n",
    "                with open(local_path, \"wb\") as f:\n",
    "                    for chunk in response.iter_content(chunk_size=1024):\n",
    "                        f.write(chunk)\n",
    "                print(f\"Download concluído: {local_path}\")\n",
    "            else:\n",
    "                print(f\"Erro ao baixar {talib_url}: {response.status_code}\")\n",
    "                return False\n",
    "        else:\n",
    "            print(f\"O arquivo {talib_whl} já existe. Pulando o download.\")\n",
    "\n",
    "        # Instalar o arquivo .whl com pip\n",
    "        print(f\"Instalando {talib_whl}...\")\n",
    "        try:\n",
    "            subprocess.check_call([\"pip\", \"install\", local_path])\n",
    "            print(\"TA-Lib instalado com sucesso!\")\n",
    "        except subprocess.CalledProcessError as e:\n",
    "            print(f\"Erro durante a instalação: {e}\")\n",
    "            return False\n",
    "\n",
    "        # Remover o arquivo .whl após a instalação (opcional)\n",
    "        if os.path.exists(local_path):\n",
    "            os.remove(local_path)\n",
    "            print(f\"Arquivo {local_path} removido após a instalação.\")\n",
    "        return True\n",
    "\n",
    "\n",
    "# Uso\n",
    "if __name__ == \"__main__\":\n",
    "    installer = TALibInstaller()\n",
    "    installer.install_ta_lib_windows()\n"
   ]
  },
  {
   "cell_type": "code",
   "execution_count": 37,
   "metadata": {},
   "outputs": [
    {
     "name": "stderr",
     "output_type": "stream",
     "text": [
      "[*********************100%***********************]  1 of 1 completed\n"
     ]
    }
   ],
   "source": [
    "import yfinance as yf\n",
    "import talib\n",
    "import numpy as np\n",
    "import matplotlib.pyplot as plt\n",
    "\n",
    "# Baixar dados históricos para um ativo (exemplo: ^GDAXI - DAX)\n",
    "start, end = '2019-01-01', '2024-07-05'\n",
    "prices = yf.download('^GDAXI', start=start, end=end)\n"
   ]
  },
  {
   "cell_type": "code",
   "execution_count": 40,
   "metadata": {},
   "outputs": [
    {
     "ename": "Exception",
     "evalue": "input array has wrong dimensions",
     "output_type": "error",
     "traceback": [
      "\u001b[1;31m---------------------------------------------------------------------------\u001b[0m",
      "\u001b[1;31mException\u001b[0m                                 Traceback (most recent call last)",
      "Cell \u001b[1;32mIn[40], line 2\u001b[0m\n\u001b[0;32m      1\u001b[0m \u001b[38;5;66;03m# pattern detction\u001b[39;00m\n\u001b[1;32m----> 2\u001b[0m harami \u001b[38;5;241m=\u001b[39m \u001b[43mtalib\u001b[49m\u001b[38;5;241;43m.\u001b[39;49m\u001b[43mCDLHARAMI\u001b[49m\u001b[43m(\u001b[49m\u001b[43mprices\u001b[49m\u001b[43m[\u001b[49m\u001b[38;5;124;43m'\u001b[39;49m\u001b[38;5;124;43mOpen\u001b[39;49m\u001b[38;5;124;43m'\u001b[39;49m\u001b[43m]\u001b[49m\u001b[38;5;241;43m.\u001b[39;49m\u001b[43mvalues\u001b[49m\u001b[43m,\u001b[49m\u001b[43m \u001b[49m\u001b[43mprices\u001b[49m\u001b[43m[\u001b[49m\u001b[38;5;124;43m'\u001b[39;49m\u001b[38;5;124;43mHigh\u001b[39;49m\u001b[38;5;124;43m'\u001b[39;49m\u001b[43m]\u001b[49m\u001b[38;5;241;43m.\u001b[39;49m\u001b[43mvalues\u001b[49m\u001b[43m,\u001b[49m\u001b[43m \u001b[49m\u001b[43mprices\u001b[49m\u001b[43m[\u001b[49m\u001b[38;5;124;43m'\u001b[39;49m\u001b[38;5;124;43mLow\u001b[39;49m\u001b[38;5;124;43m'\u001b[39;49m\u001b[43m]\u001b[49m\u001b[38;5;241;43m.\u001b[39;49m\u001b[43mvalues\u001b[49m\u001b[43m,\u001b[49m\u001b[43m \u001b[49m\u001b[43mprices\u001b[49m\u001b[43m[\u001b[49m\u001b[38;5;124;43m'\u001b[39;49m\u001b[38;5;124;43mClose\u001b[39;49m\u001b[38;5;124;43m'\u001b[39;49m\u001b[43m]\u001b[49m\u001b[38;5;241;43m.\u001b[39;49m\u001b[43mvalues\u001b[49m\u001b[43m)\u001b[49m\n\u001b[0;32m      3\u001b[0m harami\n",
      "File \u001b[1;32mc:\\Users\\joaom\\AppData\\Local\\Programs\\Python\\Python311\\Lib\\site-packages\\talib\\__init__.py:80\u001b[0m, in \u001b[0;36m_wrapper.<locals>.wrapper\u001b[1;34m(*args, **kwds)\u001b[0m\n\u001b[0;32m     77\u001b[0m     _args \u001b[38;5;241m=\u001b[39m args\n\u001b[0;32m     78\u001b[0m     _kwds \u001b[38;5;241m=\u001b[39m kwds\n\u001b[1;32m---> 80\u001b[0m result \u001b[38;5;241m=\u001b[39m \u001b[43mfunc\u001b[49m\u001b[43m(\u001b[49m\u001b[38;5;241;43m*\u001b[39;49m\u001b[43m_args\u001b[49m\u001b[43m,\u001b[49m\u001b[43m \u001b[49m\u001b[38;5;241;43m*\u001b[39;49m\u001b[38;5;241;43m*\u001b[39;49m\u001b[43m_kwds\u001b[49m\u001b[43m)\u001b[49m\n\u001b[0;32m     82\u001b[0m \u001b[38;5;66;03m# check to see if we got a streaming result\u001b[39;00m\n\u001b[0;32m     83\u001b[0m first_result \u001b[38;5;241m=\u001b[39m result[\u001b[38;5;241m0\u001b[39m] \u001b[38;5;28;01mif\u001b[39;00m \u001b[38;5;28misinstance\u001b[39m(result, \u001b[38;5;28mtuple\u001b[39m) \u001b[38;5;28;01melse\u001b[39;00m result\n",
      "File \u001b[1;32mc:\\Users\\joaom\\AppData\\Local\\Programs\\Python\\Python311\\Lib\\site-packages\\talib\\_func.pxi:1523\u001b[0m, in \u001b[0;36mtalib._ta_lib.CDLHARAMI\u001b[1;34m()\u001b[0m\n",
      "File \u001b[1;32mc:\\Users\\joaom\\AppData\\Local\\Programs\\Python\\Python311\\Lib\\site-packages\\talib\\_func.pxi:24\u001b[0m, in \u001b[0;36mtalib._ta_lib.check_array\u001b[1;34m()\u001b[0m\n",
      "\u001b[1;31mException\u001b[0m: input array has wrong dimensions"
     ]
    }
   ],
   "source": [
    "# pattern detction\n",
    "harami = talib.CDLHARAMI(prices['Open'].values, prices['High'].values, prices['Low'].values, prices['Close'].values)\n",
    "harami"
   ]
  },
  {
   "cell_type": "code",
   "execution_count": null,
   "metadata": {},
   "outputs": [],
   "source": [
    "# data preparation for plotting\n",
    "bull_harami_plot = np.where(harami>0, prices.Close,np.nan)\n",
    "bear_harami_plot = np.where(harami<0, prices.Close,np.nan)"
   ]
  },
  {
   "cell_type": "code",
   "execution_count": null,
   "metadata": {},
   "outputs": [],
   "source": [
    "# PLotting of Data\n",
    "title = f'DAX between {start} to {end}'\n",
    "\n",
    "# plotting\n",
    "fig = go.Figure()\n",
    "fig.add_trace(go.Candlestick(x=prices.index, open=prices['Open'], high=prices['High'], \n",
    "                             low=prices['Low'], close=prices['Close']))\n",
    "fig.add_trace(go.Scatter(x=prices.index, y=bull_harami_plot, mode='markers', \n",
    "                         name='bull_harami', marker_symbol='triangle-up', marker_color='yellow', marker_size=15)) \n",
    "fig.add_trace(go.Scatter(x=prices.index, y=bear_harami_plot, mode='markers', \n",
    "                         name='bear_harami', marker_symbol='triangle-down', marker_color='lightskyblue', marker_size=15))\n",
    "\n",
    "fig.update_layout(template='plotly_dark', autosize=False, width=1200, height=600)\n",
    "fig.update_layout(title=title, xaxis_title='date', yaxis_title='prices')\n",
    "fig.update_layout(xaxis_rangeslider_visible=False)\n",
    "fig.show()"
   ]
  }
 ],
 "metadata": {
  "kernelspec": {
   "display_name": "Python 3",
   "language": "python",
   "name": "python3"
  },
  "language_info": {
   "codemirror_mode": {
    "name": "ipython",
    "version": 3
   },
   "file_extension": ".py",
   "mimetype": "text/x-python",
   "name": "python",
   "nbconvert_exporter": "python",
   "pygments_lexer": "ipython3",
   "version": "3.11.4"
  }
 },
 "nbformat": 4,
 "nbformat_minor": 2
}
