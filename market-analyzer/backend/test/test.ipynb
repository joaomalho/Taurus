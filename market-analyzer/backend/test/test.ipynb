{
 "cells": [
  {
   "cell_type": "code",
   "execution_count": 1,
   "metadata": {},
   "outputs": [],
   "source": [
    "import yfinance as yf\n",
    "from datetime import datetime\n",
    "import warnings\n",
    "\n",
    "# Suprimir avisos específicos\n",
    "warnings.filterwarnings(\"ignore\", category=FutureWarning, module=\"yfinance\")\n"
   ]
  },
  {
   "cell_type": "code",
   "execution_count": 2,
   "metadata": {},
   "outputs": [],
   "source": [
    "# Criar objeto do ticker\n",
    "ticker_data = yf.Ticker(\"MSFT\")"
   ]
  },
  {
   "cell_type": "code",
   "execution_count": null,
   "metadata": {},
   "outputs": [],
   "source": [
    "#### Não Funciona ####\n",
    "# # Acessar fast_info\n",
    "info = ticker_data.info"
   ]
  },
  {
   "cell_type": "code",
   "execution_count": 6,
   "metadata": {},
   "outputs": [],
   "source": [
    "yahoo_symbol_recommendations = ticker_data.recommendations\n",
    "# yahoo_symbol_recommendations"
   ]
  },
  {
   "cell_type": "code",
   "execution_count": 8,
   "metadata": {},
   "outputs": [],
   "source": [
    "# Dividendos\n",
    "cashflow = ticker_data.cashflow\n",
    "# cashflow"
   ]
  },
  {
   "cell_type": "code",
   "execution_count": 9,
   "metadata": {},
   "outputs": [],
   "source": [
    "# Notícias\n",
    "balance_sheet = ticker_data.balance_sheet\n",
    "# balance_sheet"
   ]
  },
  {
   "cell_type": "code",
   "execution_count": 10,
   "metadata": {},
   "outputs": [],
   "source": [
    "yahoo_symbol_sustainability = ticker_data.sustainability\n",
    "# yahoo_symbol_sustainability"
   ]
  },
  {
   "cell_type": "code",
   "execution_count": 9,
   "metadata": {},
   "outputs": [],
   "source": [
    "# Eventos corporativos\n",
    "calendar = ticker_data.calendar\n",
    "# calendar"
   ]
  },
  {
   "cell_type": "code",
   "execution_count": 10,
   "metadata": {},
   "outputs": [],
   "source": [
    "# # Datas disponíveis para opções\n",
    "# options_dates = ticker_data.options\n",
    "# print(\"Datas de opções:\", options_dates)\n",
    "\n",
    "# # Obter opções para uma data específica\n",
    "# options = ticker_data.option_chain(options_dates[0])\n",
    "# print(\"Opções de compra (calls):\", options.calls)\n",
    "# print(\"Opções de venda (puts):\", options.puts)"
   ]
  },
  {
   "cell_type": "code",
   "execution_count": 11,
   "metadata": {},
   "outputs": [],
   "source": [
    "# # Demonstrativo financeiro\n",
    "# financials = ticker_data.financials\n",
    "# print(\"Demonstrativo financeiro:\", financials)\n",
    "\n",
    "# # Balanço patrimonial\n",
    "# balance_sheet = ticker_data.balance_sheet\n",
    "# print(\"Balanço patrimonial:\", balance_sheet)\n",
    "\n",
    "# # Fluxo de caixa\n",
    "# cashflow = ticker_data.cashflow\n",
    "# print(\"Fluxo de caixa:\", cashflow)"
   ]
  },
  {
   "cell_type": "markdown",
   "metadata": {},
   "source": [
    "Informações financeiras mais detalhadas da empresa."
   ]
  },
  {
   "cell_type": "code",
   "execution_count": 12,
   "metadata": {},
   "outputs": [],
   "source": [
    "# # Dados de sustentabilidade\n",
    "# sustainability = ticker_data.sustainability\n",
    "# print(sustainability)"
   ]
  },
  {
   "cell_type": "markdown",
   "metadata": {},
   "source": [
    "Informações de ESG (Environmental, Social, Governance)."
   ]
  },
  {
   "cell_type": "code",
   "execution_count": 13,
   "metadata": {},
   "outputs": [],
   "source": [
    "# # Ações em circulação\n",
    "# shares = ticker_data.shares\n",
    "# print(\"Ações em circulação:\", shares)"
   ]
  },
  {
   "cell_type": "markdown",
   "metadata": {},
   "source": [
    "Obtenha informações sobre ações em circulação e histórico de splits."
   ]
  },
  {
   "cell_type": "code",
   "execution_count": 14,
   "metadata": {},
   "outputs": [],
   "source": [
    "# Principais investidores institucionais\n",
    "inst_holders = ticker_data.institutional_holders\n",
    "# inst_holders\n"
   ]
  },
  {
   "cell_type": "markdown",
   "metadata": {},
   "source": [
    "Dados sobre investidores institucionais e sua participação."
   ]
  },
  {
   "cell_type": "code",
   "execution_count": 15,
   "metadata": {},
   "outputs": [],
   "source": [
    "# Principais investidores institucionais\n",
    "holders = ticker_data.major_holders\n",
    "# holders\n"
   ]
  },
  {
   "cell_type": "code",
   "execution_count": 23,
   "metadata": {},
   "outputs": [],
   "source": [
    "def get_yahoo_data_history(symbol : str, period : str, interval: str, start = '1900-01-01', end = datetime.now(), prepost : bool = True):\n",
    "        '''\n",
    "        Data collection from yahoo\n",
    "\n",
    "        Parameters:\n",
    "        period : str\n",
    "            Valid periods: 1d,5d,1mo,3mo,6mo,1y,2y,5y,10y,ytd,max Either Use period parameter or use start and end\n",
    "        interval : str\n",
    "            Valid intervals: 1m,2m,5m,15m,30m,60m,90m,1h,1d,5d,1wk,1mo,3mo Intraday data cannot extend last 60 days\n",
    "        start: str\n",
    "            Download start date string (YYYY-MM-DD) or _datetime, inclusive. Default is 1900-01-01 E.g. for start=\"2020-01-01\", the first data point will be on \"2020-01-01\"\n",
    "        end: str\n",
    "            Download end date string (YYYY-MM-DD) or _datetime, exclusive. Default is now E.g. for end=\"2023-01-01\", the last data point will be on \"2022-12-31\"\n",
    "        prepost : bool\n",
    "            Include Pre and Post market data in results? Default is False\n",
    "        debug: bool\n",
    "            If passed as False, will suppress error message printing to console.\n",
    "        '''\n",
    "        yahoo_data_history = yf.Ticker(symbol).history(period=period, interval=interval, start=start, end=end, prepost=prepost)\n",
    "        return yahoo_data_history\n",
    "\n",
    "history = get_yahoo_data_history(symbol=\"MSFT\",period='1y', interval='1d', end = datetime.now(), prepost=True)"
   ]
  },
  {
   "cell_type": "code",
   "execution_count": 24,
   "metadata": {},
   "outputs": [
    {
     "ename": "ModuleNotFoundError",
     "evalue": "No module named 'talib'",
     "output_type": "error",
     "traceback": [
      "\u001b[1;31m---------------------------------------------------------------------------\u001b[0m",
      "\u001b[1;31mModuleNotFoundError\u001b[0m                       Traceback (most recent call last)",
      "Cell \u001b[1;32mIn[24], line 1\u001b[0m\n\u001b[1;32m----> 1\u001b[0m \u001b[38;5;28;01mimport\u001b[39;00m \u001b[38;5;21;01mtalib\u001b[39;00m\n\u001b[0;32m      2\u001b[0m \u001b[38;5;28;01mimport\u001b[39;00m \u001b[38;5;21;01mitertools\u001b[39;00m\n\u001b[0;32m      3\u001b[0m \u001b[38;5;28;01mimport\u001b[39;00m \u001b[38;5;21;01mnumpy\u001b[39;00m \u001b[38;5;28;01mas\u001b[39;00m \u001b[38;5;21;01mnp\u001b[39;00m\n",
      "\u001b[1;31mModuleNotFoundError\u001b[0m: No module named 'talib'"
     ]
    }
   ],
   "source": [
    "import talib\n",
    "import itertools\n",
    "import numpy as np\n",
    "import pandas as pd\n",
    "from tqdm import tqdm\n",
    "from joblib import Parallel, delayed\n",
    "\n",
    "\n",
    "class ParamsOptimization:\n",
    "    \"\"\"\n",
    "    A class for optimizing technical indicators' parameters and evaluating strategy performance.\n",
    "    \"\"\"\n",
    "\n",
    "    def __init__(self, ticker, timeframe):\n",
    "        self.ticker = ticker\n",
    "        self.timeframe = timeframe\n",
    "        self.best_params = pd.DataFrame()\n",
    "\n",
    "\n",
    "    def optimize_crossover(self, data, ticker):\n",
    "        \"\"\"\n",
    "        Optimize EMA crossover strategy.\n",
    "        \"\"\"\n",
    "        ema1_periods = [10, 15, 20]\n",
    "        ema2_periods = [25, 30, 50]\n",
    "        ema3_periods = [100, 150, 200]\n",
    "\n",
    "        combinations = list(itertools.product(ema1_periods, ema2_periods, ema3_periods))\n",
    "\n",
    "        # Parallel execution for speed\n",
    "        results = Parallel(n_jobs=-1)(delayed(self.simulate_crossover)(\n",
    "            data, ticker, l1, l2, l3) for l1, l2, l3 in tqdm(combinations, desc=\"Optimizing EMA Crossover\"))\n",
    "\n",
    "        # Combine results into a DataFrame\n",
    "        results_df = pd.DataFrame(results)\n",
    "        best_result = results_df.loc[results_df['Expectancy'].idxmax()]\n",
    "\n",
    "        return best_result\n",
    "\n",
    "    def simulate_crossover(self, data, ticker, l1, l2, l3):\n",
    "        \"\"\"\n",
    "        Simulate crossover strategy and calculate metrics.\n",
    "        \"\"\"\n",
    "        # Calculate EMAs\n",
    "        data['ema1'] = talib.EMA(data['close'], timeperiod=l1)\n",
    "        data['ema2'] = talib.EMA(data['close'], timeperiod=l2)\n",
    "        data['ema3'] = talib.EMA(data['close'], timeperiod=l3)\n",
    "\n",
    "        # Generate signals\n",
    "        data['signal'] = np.where((data['ema1'] > data['ema2']) & (data['ema2'] > data['ema3']), 1,\n",
    "                                  np.where((data['ema1'] < data['ema2']) & (data['ema2'] < data['ema3']), -1, 0))\n",
    "        data['returns'] = data['close'].pct_change() * data['signal'].shift(1)\n",
    "\n",
    "        # Calculate metrics\n",
    "        sharpe = self.calculate_sharpe(data['returns'])\n",
    "        max_drawdown = self.calculate_max_drawdown(data['returns'])\n",
    "        expectancy = self.calculate_expectancy(data['returns'])\n",
    "\n",
    "        return {\n",
    "            'Ticker': ticker,\n",
    "            'Best_EMA1': l1,\n",
    "            'Best_EMA2': l2,\n",
    "            'Best_EMA3': l3,\n",
    "            'Sharpe': sharpe,\n",
    "            'Max_Drawdown': max_drawdown,\n",
    "            'Expectancy': expectancy\n",
    "        }\n",
    "\n",
    "    def optimize_bbands(self, data, ticker):\n",
    "        \"\"\"\n",
    "        Optimize Bollinger Bands strategy.\n",
    "        \"\"\"\n",
    "        sma_periods = [10, 15, 20]\n",
    "        std_devs = [1, 2, 3]\n",
    "\n",
    "        combinations = list(itertools.product(sma_periods, std_devs))\n",
    "\n",
    "        # Parallel execution for speed\n",
    "        results = Parallel(n_jobs=-1)(delayed(self.simulate_bbands)(\n",
    "            data, ticker, period, std) for period, std in tqdm(combinations, desc=\"Optimizing Bollinger Bands\"))\n",
    "\n",
    "        # Combine results into a DataFrame\n",
    "        results_df = pd.DataFrame(results)\n",
    "        best_result = results_df.loc[results_df['Expectancy'].idxmax()]\n",
    "\n",
    "        return best_result\n",
    "\n",
    "    def simulate_bbands(self, data, ticker, period, std):\n",
    "        \"\"\"\n",
    "        Simulate Bollinger Bands strategy and calculate metrics.\n",
    "        \"\"\"\n",
    "        # Calculate Bollinger Bands\n",
    "        upperband, middleband, lowerband = talib.BBANDS(\n",
    "            data['close'], timeperiod=period, nbdevup=std, nbdevdn=std, matype=0\n",
    "        )\n",
    "\n",
    "        # Generate signals\n",
    "        data['signal'] = np.where(data['close'] < lowerband, 1,\n",
    "                                  np.where(data['close'] > upperband, -1, 0))\n",
    "        data['returns'] = data['close'].pct_change() * data['signal'].shift(1)\n",
    "\n",
    "        # Calculate metrics\n",
    "        sharpe = self.calculate_sharpe(data['returns'])\n",
    "        max_drawdown = self.calculate_max_drawdown(data['returns'])\n",
    "        expectancy = self.calculate_expectancy(data['returns'])\n",
    "\n",
    "        return {\n",
    "            'Ticker': ticker,\n",
    "            'Best_Period': period,\n",
    "            'Best_Std': std,\n",
    "            'Sharpe': sharpe,\n",
    "            'Max_Drawdown': max_drawdown,\n",
    "            'Expectancy': expectancy\n",
    "        }\n",
    "\n",
    "    @staticmethod\n",
    "    def calculate_sharpe(returns, risk_free_rate=0.025):\n",
    "        \"\"\"\n",
    "        Calculate Sharpe Ratio.\n",
    "        \"\"\"\n",
    "        mean_return = returns.mean()\n",
    "        std_dev = returns.std()\n",
    "        if std_dev == 0:\n",
    "            return 0\n",
    "        return (mean_return - risk_free_rate) / std_dev\n",
    "\n",
    "    @staticmethod\n",
    "    def calculate_max_drawdown(returns):\n",
    "        \"\"\"\n",
    "        Calculate Max Drawdown.\n",
    "        \"\"\"\n",
    "        cumulative = (1 + returns).cumprod()\n",
    "        running_max = cumulative.cummax()\n",
    "        drawdown = running_max - cumulative\n",
    "        return drawdown.max()\n",
    "\n",
    "    @staticmethod\n",
    "    def calculate_expectancy(returns):\n",
    "        \"\"\"\n",
    "        Calculate Expectancy.\n",
    "        \"\"\"\n",
    "        wins = returns[returns > 0]\n",
    "        losses = returns[returns < 0]\n",
    "        win_rate = len(wins) / len(returns) if len(returns) > 0 else 0\n",
    "        loss_rate = 1 - win_rate\n",
    "        avg_win = wins.mean() if len(wins) > 0 else 0\n",
    "        avg_loss = losses.mean() if len(losses) > 0 else 0\n",
    "        return (win_rate * avg_win) - (loss_rate * avg_loss)\n",
    "\n",
    "\n",
    "\n",
    "# # Instanciar e otimizar\n",
    "# optimizer = ParamsOptimization(ticker=[\"AAPL\", \"GOOG\"], market_type=\"stocks\", timeframe=\"1d\")\n",
    "# best_params = optimizer.optimize()\n",
    "\n",
    "# # Exibir resultados\n",
    "# print(best_params)"
   ]
  }
 ],
 "metadata": {
  "kernelspec": {
   "display_name": "Python 3",
   "language": "python",
   "name": "python3"
  },
  "language_info": {
   "codemirror_mode": {
    "name": "ipython",
    "version": 3
   },
   "file_extension": ".py",
   "mimetype": "text/x-python",
   "name": "python",
   "nbconvert_exporter": "python",
   "pygments_lexer": "ipython3",
   "version": "3.11.4"
  }
 },
 "nbformat": 4,
 "nbformat_minor": 2
}
