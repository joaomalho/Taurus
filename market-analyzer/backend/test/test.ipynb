{
 "cells": [
  {
   "cell_type": "code",
   "execution_count": 9,
   "metadata": {},
   "outputs": [],
   "source": [
    "import yfinance as yf\n",
    "from datetime import datetime\n",
    "import warnings\n",
    "\n",
    "# Suprimir avisos específicos\n",
    "warnings.filterwarnings(\"ignore\", category=FutureWarning, module=\"yfinance\")\n"
   ]
  },
  {
   "cell_type": "code",
   "execution_count": 2,
   "metadata": {},
   "outputs": [],
   "source": [
    "# Criar objeto do ticker\n",
    "ticker_data = yf.Ticker(\"MSFT\")"
   ]
  },
  {
   "cell_type": "code",
   "execution_count": null,
   "metadata": {},
   "outputs": [],
   "source": [
    "#### Não Funciona ####\n",
    "# # Acessar fast_info\n",
    "info = ticker_data.info"
   ]
  },
  {
   "cell_type": "code",
   "execution_count": 6,
   "metadata": {},
   "outputs": [],
   "source": [
    "yahoo_symbol_recommendations = ticker_data.recommendations\n",
    "# yahoo_symbol_recommendations"
   ]
  },
  {
   "cell_type": "code",
   "execution_count": 8,
   "metadata": {},
   "outputs": [],
   "source": [
    "# Dividendos\n",
    "cashflow = ticker_data.cashflow\n",
    "# cashflow"
   ]
  },
  {
   "cell_type": "code",
   "execution_count": 9,
   "metadata": {},
   "outputs": [],
   "source": [
    "# Notícias\n",
    "balance_sheet = ticker_data.balance_sheet\n",
    "# balance_sheet"
   ]
  },
  {
   "cell_type": "code",
   "execution_count": 10,
   "metadata": {},
   "outputs": [],
   "source": [
    "yahoo_symbol_sustainability = ticker_data.sustainability\n",
    "# yahoo_symbol_sustainability"
   ]
  },
  {
   "cell_type": "code",
   "execution_count": 9,
   "metadata": {},
   "outputs": [],
   "source": [
    "# Eventos corporativos\n",
    "calendar = ticker_data.calendar\n",
    "# calendar"
   ]
  },
  {
   "cell_type": "code",
   "execution_count": 10,
   "metadata": {},
   "outputs": [],
   "source": [
    "# # Datas disponíveis para opções\n",
    "# options_dates = ticker_data.options\n",
    "# print(\"Datas de opções:\", options_dates)\n",
    "\n",
    "# # Obter opções para uma data específica\n",
    "# options = ticker_data.option_chain(options_dates[0])\n",
    "# print(\"Opções de compra (calls):\", options.calls)\n",
    "# print(\"Opções de venda (puts):\", options.puts)"
   ]
  },
  {
   "cell_type": "code",
   "execution_count": 11,
   "metadata": {},
   "outputs": [],
   "source": [
    "# # Demonstrativo financeiro\n",
    "# financials = ticker_data.financials\n",
    "# print(\"Demonstrativo financeiro:\", financials)\n",
    "\n",
    "# # Balanço patrimonial\n",
    "# balance_sheet = ticker_data.balance_sheet\n",
    "# print(\"Balanço patrimonial:\", balance_sheet)\n",
    "\n",
    "# # Fluxo de caixa\n",
    "# cashflow = ticker_data.cashflow\n",
    "# print(\"Fluxo de caixa:\", cashflow)"
   ]
  },
  {
   "cell_type": "markdown",
   "metadata": {},
   "source": [
    "Informações financeiras mais detalhadas da empresa."
   ]
  },
  {
   "cell_type": "code",
   "execution_count": 12,
   "metadata": {},
   "outputs": [],
   "source": [
    "# # Dados de sustentabilidade\n",
    "# sustainability = ticker_data.sustainability\n",
    "# print(sustainability)"
   ]
  },
  {
   "cell_type": "markdown",
   "metadata": {},
   "source": [
    "Informações de ESG (Environmental, Social, Governance)."
   ]
  },
  {
   "cell_type": "code",
   "execution_count": 13,
   "metadata": {},
   "outputs": [],
   "source": [
    "# # Ações em circulação\n",
    "# shares = ticker_data.shares\n",
    "# print(\"Ações em circulação:\", shares)"
   ]
  },
  {
   "cell_type": "markdown",
   "metadata": {},
   "source": [
    "Obtenha informações sobre ações em circulação e histórico de splits."
   ]
  },
  {
   "cell_type": "code",
   "execution_count": 14,
   "metadata": {},
   "outputs": [],
   "source": [
    "# Principais investidores institucionais\n",
    "inst_holders = ticker_data.institutional_holders\n",
    "# inst_holders\n"
   ]
  },
  {
   "cell_type": "markdown",
   "metadata": {},
   "source": [
    "Dados sobre investidores institucionais e sua participação."
   ]
  },
  {
   "cell_type": "code",
   "execution_count": 15,
   "metadata": {},
   "outputs": [],
   "source": [
    "# Principais investidores institucionais\n",
    "holders = ticker_data.major_holders\n",
    "# holders\n"
   ]
  },
  {
   "cell_type": "code",
   "execution_count": 10,
   "metadata": {},
   "outputs": [],
   "source": [
    "def get_yahoo_data_history(symbol : str, period : str, interval: str, start = '1900-01-01', end = datetime.now(), prepost : bool = True):\n",
    "        '''\n",
    "        Data collection from yahoo\n",
    "\n",
    "        Parameters:\n",
    "        period : str\n",
    "            Valid periods: 1d,5d,1mo,3mo,6mo,1y,2y,5y,10y,ytd,max Either Use period parameter or use start and end\n",
    "        interval : str\n",
    "            Valid intervals: 1m,2m,5m,15m,30m,60m,90m,1h,1d,5d,1wk,1mo,3mo Intraday data cannot extend last 60 days\n",
    "        start: str\n",
    "            Download start date string (YYYY-MM-DD) or _datetime, inclusive. Default is 1900-01-01 E.g. for start=\"2020-01-01\", the first data point will be on \"2020-01-01\"\n",
    "        end: str\n",
    "            Download end date string (YYYY-MM-DD) or _datetime, exclusive. Default is now E.g. for end=\"2023-01-01\", the last data point will be on \"2022-12-31\"\n",
    "        prepost : bool\n",
    "            Include Pre and Post market data in results? Default is False\n",
    "        debug: bool\n",
    "            If passed as False, will suppress error message printing to console.\n",
    "        '''\n",
    "        yahoo_data_history = yf.Ticker(symbol).history(period=period, interval=interval, start=start, end=end, prepost=prepost)\n",
    "        return yahoo_data_history\n",
    "\n",
    "history = get_yahoo_data_history(symbol=\"MSFT\",period='1y', interval='1d', end = datetime.now(), prepost=True)"
   ]
  },
  {
   "cell_type": "code",
   "execution_count": 14,
   "metadata": {},
   "outputs": [
    {
     "name": "stdout",
     "output_type": "stream",
     "text": [
      "Returned Data: {'data': {'companies': []}}\n"
     ]
    }
   ],
   "source": [
    "import requests\n",
    "\n",
    "# Define the endpoint and your API key\n",
    "url = \"https://api.simplywall.st/graphql\"\n",
    "headers = {\n",
    "    \"Authorization\": \"Bearer sws:ZGE4YzBlNzItMTg2Ni00Y2Y5LWI3YTktYzAxODcyZGEwZjE3OmFjODUzODRhZDUzNGMwMzY=\",\n",
    "    \"Content-Type\": \"application/json\",  # Required for JSON body\n",
    "}\n",
    "\n",
    "# Define the GraphQL query and variables\n",
    "query = \"\"\"\n",
    "query Companies($exchange: String!, $offset: Int!, $limit: Int!) {\n",
    "  companies(exchange: $exchange, offset: $offset, limit: $limit) {\n",
    "    id\n",
    "    exchangeSymbol\n",
    "    tickerSymbol\n",
    "    name\n",
    "    marketCapUSD\n",
    "    primaryIndustry { name }\n",
    "    secondaryIndustry { name }\n",
    "    tertiaryIndustry { name }\n",
    "    market { name iso2 }\n",
    "    closingPrices\n",
    "    statements { name title area type value outcome description state severity outcomeName }\n",
    "    listings { id exchangeSymbol tickerSymbol name marketCapUSD primaryIndustry { name } secondaryIndustry { name } tertiaryIndustry { name } market { name iso2 } closingPrices }\n",
    "    owners { name type sharesHeld percentOfSharesOutstanding holdingDate periodStartDate periodEndDate }\n",
    "    insiderTransactions { type ownerName ownerType description tradeDateMin tradeDateMax shares priceMin priceMax transactionValue percentageSharesTraded }\n",
    "    members { age name title tenure compensation }\n",
    "    active classificationStatus\n",
    "  }\n",
    "}\n",
    "\"\"\"\n",
    "\n",
    "# Define the variables for the query\n",
    "variables = {\n",
    "    \"exchange\": \"NYSE\",  # Try changing to \"NYSE\" or another exchange\n",
    "    \"offset\": 20,         # Try adjusting this value (e.g., 10 or 20)\n",
    "    \"limit\": 100          # Adjust limit to fetch more results\n",
    "}\n",
    "\n",
    "# Create the request payload\n",
    "payload = {\n",
    "    \"query\": query,\n",
    "    \"variables\": variables\n",
    "}\n",
    "\n",
    "# Make the POST request\n",
    "response = requests.post(url, headers=headers, json=payload)\n",
    "\n",
    "# Check the response\n",
    "if response.status_code == 200:\n",
    "    data = response.json()\n",
    "    if not data:\n",
    "        print(\"No companies found with the given parameters.\")\n",
    "    else:\n",
    "        print(\"Returned Data:\", data)\n",
    "else:\n",
    "    print(f\"Error: {response.status_code}, {response.text}\")\n"
   ]
  },
  {
   "cell_type": "code",
   "execution_count": 1,
   "metadata": {},
   "outputs": [
    {
     "name": "stdout",
     "output_type": "stream",
     "text": [
      "Iniciando instalação do TA-Lib no Windows...\n",
      "O arquivo TA_Lib-0.5.1-cp311-cp311-win_amd64.whl já existe. Pulando o download.\n",
      "Instalando TA_Lib-0.5.1-cp311-cp311-win_amd64.whl...\n",
      "TA-Lib instalado com sucesso!\n",
      "Arquivo x:\\Taurus\\market-analyzer\\backend\\test\\TA_Lib-0.5.1-cp311-cp311-win_amd64.whl removido após a instalação.\n"
     ]
    }
   ],
   "source": [
    "import os\n",
    "import subprocess\n",
    "import requests\n",
    "\n",
    "class TALibInstaller:\n",
    "    def install_ta_lib_windows(self):\n",
    "        \"\"\"Automatiza a instalação do TA-Lib no Windows.\"\"\"\n",
    "        print(\"Iniciando instalação do TA-Lib no Windows...\")\n",
    "\n",
    "        # URL do arquivo .whl (atualize conforme necessário)\n",
    "        talib_url = \"https://github.com/cgohlke/talib-build/releases/download/v0.5.1/TA_Lib-0.5.1-cp311-cp311-win_amd64.whl\"\n",
    "        talib_whl = talib_url.split(\"/\")[-1]  # Nome do arquivo\n",
    "\n",
    "        # Caminho local para salvar o arquivo .whl\n",
    "        local_path = os.path.join(os.getcwd(), talib_whl)\n",
    "\n",
    "        # Fazer o download do arquivo .whl\n",
    "        if not os.path.exists(local_path):\n",
    "            print(f\"Baixando {talib_whl} de {talib_url}...\")\n",
    "            response = requests.get(talib_url, stream=True)\n",
    "            if response.status_code == 200:\n",
    "                with open(local_path, \"wb\") as f:\n",
    "                    for chunk in response.iter_content(chunk_size=1024):\n",
    "                        f.write(chunk)\n",
    "                print(f\"Download concluído: {local_path}\")\n",
    "            else:\n",
    "                print(f\"Erro ao baixar {talib_url}: {response.status_code}\")\n",
    "                return False\n",
    "        else:\n",
    "            print(f\"O arquivo {talib_whl} já existe. Pulando o download.\")\n",
    "\n",
    "        # Instalar o arquivo .whl com pip\n",
    "        print(f\"Instalando {talib_whl}...\")\n",
    "        try:\n",
    "            subprocess.check_call([\"pip\", \"install\", local_path])\n",
    "            print(\"TA-Lib instalado com sucesso!\")\n",
    "        except subprocess.CalledProcessError as e:\n",
    "            print(f\"Erro durante a instalação: {e}\")\n",
    "            return False\n",
    "\n",
    "        # Remover o arquivo .whl após a instalação (opcional)\n",
    "        if os.path.exists(local_path):\n",
    "            os.remove(local_path)\n",
    "            print(f\"Arquivo {local_path} removido após a instalação.\")\n",
    "        return True\n",
    "\n",
    "\n",
    "# Uso\n",
    "if __name__ == \"__main__\":\n",
    "    installer = TALibInstaller()\n",
    "    installer.install_ta_lib_windows()\n"
   ]
  },
  {
   "cell_type": "code",
   "execution_count": 21,
   "metadata": {},
   "outputs": [
    {
     "name": "stderr",
     "output_type": "stream",
     "text": [
      "[*********************100%***********************]  1 of 1 completed\n"
     ]
    }
   ],
   "source": [
    "import yfinance as yf\n",
    "import talib\n",
    "import numpy as np\n",
    "import matplotlib.pyplot as plt\n",
    "import pandas as pd\n",
    "\n",
    "# Baixar dados históricos para um ativo (exemplo: ^GDAXI - DAX)\n",
    "start, end = '2019-01-01', '2024-07-05'\n",
    "spy_data = yf.download('SPY', start=start, end=end)\n"
   ]
  },
  {
   "cell_type": "code",
   "execution_count": 25,
   "metadata": {},
   "outputs": [
    {
     "data": {
      "text/html": [
       "<div>\n",
       "<style scoped>\n",
       "    .dataframe tbody tr th:only-of-type {\n",
       "        vertical-align: middle;\n",
       "    }\n",
       "\n",
       "    .dataframe tbody tr th {\n",
       "        vertical-align: top;\n",
       "    }\n",
       "\n",
       "    .dataframe thead th {\n",
       "        text-align: right;\n",
       "    }\n",
       "</style>\n",
       "<table border=\"1\" class=\"dataframe\">\n",
       "  <thead>\n",
       "    <tr style=\"text-align: right;\">\n",
       "      <th></th>\n",
       "      <th>Open</th>\n",
       "      <th>High</th>\n",
       "      <th>Low</th>\n",
       "      <th>Close</th>\n",
       "      <th>Volume</th>\n",
       "      <th>Dividends</th>\n",
       "      <th>Stock Splits</th>\n",
       "      <th>Capital Gains</th>\n",
       "    </tr>\n",
       "    <tr>\n",
       "      <th>Date</th>\n",
       "      <th></th>\n",
       "      <th></th>\n",
       "      <th></th>\n",
       "      <th></th>\n",
       "      <th></th>\n",
       "      <th></th>\n",
       "      <th></th>\n",
       "      <th></th>\n",
       "    </tr>\n",
       "  </thead>\n",
       "  <tbody>\n",
       "    <tr>\n",
       "      <th>2019-01-02 00:00:00-05:00</th>\n",
       "      <td>223.815971</td>\n",
       "      <td>228.574732</td>\n",
       "      <td>223.788675</td>\n",
       "      <td>227.637527</td>\n",
       "      <td>126925200</td>\n",
       "      <td>0.0</td>\n",
       "      <td>0.0</td>\n",
       "      <td>0.0</td>\n",
       "    </tr>\n",
       "    <tr>\n",
       "      <th>2019-01-03 00:00:00-05:00</th>\n",
       "      <td>225.863150</td>\n",
       "      <td>226.172525</td>\n",
       "      <td>221.714032</td>\n",
       "      <td>222.205383</td>\n",
       "      <td>144140700</td>\n",
       "      <td>0.0</td>\n",
       "      <td>0.0</td>\n",
       "      <td>0.0</td>\n",
       "    </tr>\n",
       "    <tr>\n",
       "      <th>2019-01-04 00:00:00-05:00</th>\n",
       "      <td>225.280848</td>\n",
       "      <td>230.303471</td>\n",
       "      <td>224.898694</td>\n",
       "      <td>229.648346</td>\n",
       "      <td>142628800</td>\n",
       "      <td>0.0</td>\n",
       "      <td>0.0</td>\n",
       "      <td>0.0</td>\n",
       "    </tr>\n",
       "    <tr>\n",
       "      <th>2019-01-07 00:00:00-05:00</th>\n",
       "      <td>229.921306</td>\n",
       "      <td>232.887558</td>\n",
       "      <td>229.011411</td>\n",
       "      <td>231.459030</td>\n",
       "      <td>103139100</td>\n",
       "      <td>0.0</td>\n",
       "      <td>0.0</td>\n",
       "      <td>0.0</td>\n",
       "    </tr>\n",
       "    <tr>\n",
       "      <th>2019-01-08 00:00:00-05:00</th>\n",
       "      <td>233.679194</td>\n",
       "      <td>234.125033</td>\n",
       "      <td>231.113284</td>\n",
       "      <td>233.633682</td>\n",
       "      <td>102512600</td>\n",
       "      <td>0.0</td>\n",
       "      <td>0.0</td>\n",
       "      <td>0.0</td>\n",
       "    </tr>\n",
       "    <tr>\n",
       "      <th>...</th>\n",
       "      <td>...</td>\n",
       "      <td>...</td>\n",
       "      <td>...</td>\n",
       "      <td>...</td>\n",
       "      <td>...</td>\n",
       "      <td>...</td>\n",
       "      <td>...</td>\n",
       "      <td>...</td>\n",
       "    </tr>\n",
       "    <tr>\n",
       "      <th>2024-06-27 00:00:00-04:00</th>\n",
       "      <td>541.878533</td>\n",
       "      <td>543.458381</td>\n",
       "      <td>541.123389</td>\n",
       "      <td>542.872131</td>\n",
       "      <td>35041500</td>\n",
       "      <td>0.0</td>\n",
       "      <td>0.0</td>\n",
       "      <td>0.0</td>\n",
       "    </tr>\n",
       "    <tr>\n",
       "      <th>2024-06-28 00:00:00-04:00</th>\n",
       "      <td>543.657020</td>\n",
       "      <td>546.757102</td>\n",
       "      <td>539.474012</td>\n",
       "      <td>540.735840</td>\n",
       "      <td>76144500</td>\n",
       "      <td>0.0</td>\n",
       "      <td>0.0</td>\n",
       "      <td>0.0</td>\n",
       "    </tr>\n",
       "    <tr>\n",
       "      <th>2024-07-01 00:00:00-04:00</th>\n",
       "      <td>542.136876</td>\n",
       "      <td>542.385276</td>\n",
       "      <td>539.046801</td>\n",
       "      <td>541.848755</td>\n",
       "      <td>40297800</td>\n",
       "      <td>0.0</td>\n",
       "      <td>0.0</td>\n",
       "      <td>0.0</td>\n",
       "    </tr>\n",
       "    <tr>\n",
       "      <th>2024-07-02 00:00:00-04:00</th>\n",
       "      <td>540.219236</td>\n",
       "      <td>545.495239</td>\n",
       "      <td>540.169569</td>\n",
       "      <td>545.495239</td>\n",
       "      <td>40434800</td>\n",
       "      <td>0.0</td>\n",
       "      <td>0.0</td>\n",
       "      <td>0.0</td>\n",
       "    </tr>\n",
       "    <tr>\n",
       "      <th>2024-07-03 00:00:00-04:00</th>\n",
       "      <td>545.177340</td>\n",
       "      <td>548.297253</td>\n",
       "      <td>545.137618</td>\n",
       "      <td>547.929626</td>\n",
       "      <td>32789900</td>\n",
       "      <td>0.0</td>\n",
       "      <td>0.0</td>\n",
       "      <td>0.0</td>\n",
       "    </tr>\n",
       "  </tbody>\n",
       "</table>\n",
       "<p>1385 rows × 8 columns</p>\n",
       "</div>"
      ],
      "text/plain": [
       "                                 Open        High         Low       Close  \\\n",
       "Date                                                                        \n",
       "2019-01-02 00:00:00-05:00  223.815971  228.574732  223.788675  227.637527   \n",
       "2019-01-03 00:00:00-05:00  225.863150  226.172525  221.714032  222.205383   \n",
       "2019-01-04 00:00:00-05:00  225.280848  230.303471  224.898694  229.648346   \n",
       "2019-01-07 00:00:00-05:00  229.921306  232.887558  229.011411  231.459030   \n",
       "2019-01-08 00:00:00-05:00  233.679194  234.125033  231.113284  233.633682   \n",
       "...                               ...         ...         ...         ...   \n",
       "2024-06-27 00:00:00-04:00  541.878533  543.458381  541.123389  542.872131   \n",
       "2024-06-28 00:00:00-04:00  543.657020  546.757102  539.474012  540.735840   \n",
       "2024-07-01 00:00:00-04:00  542.136876  542.385276  539.046801  541.848755   \n",
       "2024-07-02 00:00:00-04:00  540.219236  545.495239  540.169569  545.495239   \n",
       "2024-07-03 00:00:00-04:00  545.177340  548.297253  545.137618  547.929626   \n",
       "\n",
       "                              Volume  Dividends  Stock Splits  Capital Gains  \n",
       "Date                                                                          \n",
       "2019-01-02 00:00:00-05:00  126925200        0.0           0.0            0.0  \n",
       "2019-01-03 00:00:00-05:00  144140700        0.0           0.0            0.0  \n",
       "2019-01-04 00:00:00-05:00  142628800        0.0           0.0            0.0  \n",
       "2019-01-07 00:00:00-05:00  103139100        0.0           0.0            0.0  \n",
       "2019-01-08 00:00:00-05:00  102512600        0.0           0.0            0.0  \n",
       "...                              ...        ...           ...            ...  \n",
       "2024-06-27 00:00:00-04:00   35041500        0.0           0.0            0.0  \n",
       "2024-06-28 00:00:00-04:00   76144500        0.0           0.0            0.0  \n",
       "2024-07-01 00:00:00-04:00   40297800        0.0           0.0            0.0  \n",
       "2024-07-02 00:00:00-04:00   40434800        0.0           0.0            0.0  \n",
       "2024-07-03 00:00:00-04:00   32789900        0.0           0.0            0.0  \n",
       "\n",
       "[1385 rows x 8 columns]"
      ]
     },
     "execution_count": 25,
     "metadata": {},
     "output_type": "execute_result"
    }
   ],
   "source": [
    "yahoo_data_history = yf.Ticker('SPY').history(period='1y', interval='1d', start=start, end=end)\n",
    "yahoo_data_history"
   ]
  },
  {
   "cell_type": "code",
   "execution_count": 26,
   "metadata": {},
   "outputs": [],
   "source": [
    "# # Reset the index to make 'Date' a regular column\n",
    "# prices = spy_data.reset_index()\n",
    "\n",
    "# # Flatten the MultiIndex columns into single-level columns\n",
    "# prices.columns = [f\"{col[0]}\" if col[1] == 'SPY' else f\"{col[0]}{col[1]}\" for col in prices.columns]\n",
    "\n",
    "# # View the corrected DataFrame\n",
    "# print(prices.head())\n",
    "\n",
    "# prices"
   ]
  },
  {
   "cell_type": "code",
   "execution_count": 27,
   "metadata": {},
   "outputs": [
    {
     "name": "stdout",
     "output_type": "stream",
     "text": [
      "Date\n",
      "2019-05-03 00:00:00-04:00    100\n",
      "2020-03-24 00:00:00-04:00    100\n",
      "2021-03-22 00:00:00-04:00    100\n",
      "2023-01-20 00:00:00-05:00    100\n",
      "2023-05-05 00:00:00-04:00    100\n",
      "2023-08-14 00:00:00-04:00    100\n",
      "2024-03-12 00:00:00-04:00    100\n",
      "dtype: int32\n"
     ]
    }
   ],
   "source": [
    "# pattern detction\n",
    "morningstar = talib.CDLMORNINGSTAR(yahoo_data_history['Open'], yahoo_data_history['High'], yahoo_data_history['Low'], yahoo_data_history['Close'])\n",
    "print(morningstar[morningstar != 0])"
   ]
  }
 ],
 "metadata": {
  "kernelspec": {
   "display_name": "Python 3",
   "language": "python",
   "name": "python3"
  },
  "language_info": {
   "codemirror_mode": {
    "name": "ipython",
    "version": 3
   },
   "file_extension": ".py",
   "mimetype": "text/x-python",
   "name": "python",
   "nbconvert_exporter": "python",
   "pygments_lexer": "ipython3",
   "version": "3.11.4"
  }
 },
 "nbformat": 4,
 "nbformat_minor": 2
}
