{
 "cells": [
  {
   "cell_type": "markdown",
   "metadata": {},
   "source": [
    "## Yahoo Fundamental"
   ]
  },
  {
   "cell_type": "markdown",
   "metadata": {},
   "source": [
    "## STOCKS\n",
    "\n"
   ]
  },
  {
   "cell_type": "code",
   "execution_count": 1,
   "metadata": {},
   "outputs": [],
   "source": [
    "import yfinance as yf\n",
    "import pandas as pd\n",
    "import numpy as np\n",
    "import talib\n",
    "import math\n",
    "from datetime import datetime, timedelta\n",
    "from tqdm import tqdm\n",
    "from sklearn.preprocessing import MinMaxScaler\n",
    "from bs4 import BeautifulSoup\n",
    "import requests\n",
    "from django.core.validators import RegexValidator\n",
    "from django.http import JsonResponse, Http404\n",
    "import pandas as pd\n",
    "import matplotlib.pyplot as plt\n",
    "\n",
    "# S&P 500 → ^GSPC\n",
    "# Dow Jones → ^DJI\n",
    "# Nasdaq 100 → ^NDX\n",
    "# Russell 2000 → ^RUT\n",
    "# DAX (Alemanha) → ^GDAXI\n",
    "# Definir o ticker da ação\n",
    "symbol = \"AAPL\"  # Apple Inc.\n",
    "# symbol = \"^GSPC\"  # Apple Inc.\n",
    "# symbol = \"XLK\"  # Apple Inc.\n",
    "\n",
    "# Definir período e intervalo\n",
    "period = \"1y\"       # Período de 1 mês\n",
    "interval = \"1d\"      # Dados diários\n"
   ]
  },
  {
   "cell_type": "code",
   "execution_count": 55,
   "metadata": {},
   "outputs": [],
   "source": [
    "yahoo_symbol_info = yf.Ticker(symbol).info\n",
    "yahoo_symbol_balancesheet = yf.Ticker(symbol).balance_sheet\n",
    "yahoo_symbol_balancesheet_quarter = yf.Ticker(symbol).quarterly_balance_sheet\n",
    "yahoo_symbol_income = yf.Ticker(symbol).income_stmt\n",
    "yahoo_symbol_income_quarter = yf.Ticker(symbol).quarterly_income_stmt\n",
    "yahoo_symbol_cashflow = yf.Ticker(symbol).cash_flow\n",
    "yahoo_symbol_cashflow_quarter = yf.Ticker(symbol).quarterly_cash_flow"
   ]
  },
  {
   "cell_type": "code",
   "execution_count": 57,
   "metadata": {},
   "outputs": [
    {
     "data": {
      "text/plain": [
       "1.109"
      ]
     },
     "execution_count": 57,
     "metadata": {},
     "output_type": "execute_result"
    }
   ],
   "source": [
    "yahoo_symbol_info.get(\"beta\")"
   ]
  },
  {
   "cell_type": "code",
   "execution_count": 60,
   "metadata": {},
   "outputs": [],
   "source": [
    "beta = yahoo_symbol_info.get(\"beta\")\n",
    "interest_expense_ttm = yahoo_symbol_income.loc[\"Interest Expense\"].dropna().iloc[0]\n",
    "total_debt = yahoo_symbol_balancesheet.loc[\"Total Debt\"].dropna().iloc[0]\n",
    "\n",
    "cd = interest_expense_ttm / total_debt\n",
    "\n",
    "tax_provisory_ttm = yahoo_symbol_income_quarter.loc['Tax Provision'].sum()\n",
    "pretax_income_ttm = yahoo_symbol_income_quarter.loc['Pretax Income'].sum()\n",
    "tax_efective = tax_provisory_ttm / pretax_income_ttm \n",
    "\n",
    "market_cap = yahoo_symbol_info.get('marketCap')\n",
    "\n",
    "us10y = yf.Ticker(\"^TNX\").info.get(\"previousClose\") / 100\n",
    "erp = 0.055\n",
    "\n",
    "ce = us10y + beta * erp\n",
    "\n",
    "wacc = ((market_cap / (market_cap + total_debt)) * ce) + ((total_debt / (total_debt + market_cap)) * cd * (1 - tax_efective))"
   ]
  },
  {
   "cell_type": "code",
   "execution_count": 61,
   "metadata": {},
   "outputs": [
    {
     "data": {
      "text/plain": [
       "np.float64(0.09949293484241893)"
      ]
     },
     "execution_count": 61,
     "metadata": {},
     "output_type": "execute_result"
    }
   ],
   "source": [
    "wacc"
   ]
  },
  {
   "cell_type": "code",
   "execution_count": null,
   "metadata": {},
   "outputs": [],
   "source": []
  },
  {
   "cell_type": "code",
   "execution_count": 36,
   "metadata": {},
   "outputs": [
    {
     "name": "stdout",
     "output_type": "stream",
     "text": [
      "<class 'pandas.core.frame.DataFrame'>\n",
      "DatetimeIndex: 6 entries, 2025-06-30 to 2024-03-31\n",
      "Data columns (total 46 columns):\n",
      " #   Column                                          Non-Null Count  Dtype  \n",
      "---  ------                                          --------------  -----  \n",
      " 0   Free Cash Flow                                  5 non-null      float64\n",
      " 1   Repurchase Of Capital Stock                     5 non-null      float64\n",
      " 2   Repayment Of Debt                               5 non-null      float64\n",
      " 3   Issuance Of Debt                                1 non-null      float64\n",
      " 4   Capital Expenditure                             5 non-null      float64\n",
      " 5   Income Tax Paid Supplemental Data               5 non-null      float64\n",
      " 6   End Cash Position                               5 non-null      float64\n",
      " 7   Beginning Cash Position                         5 non-null      float64\n",
      " 8   Changes In Cash                                 5 non-null      float64\n",
      " 9   Financing Cash Flow                             5 non-null      float64\n",
      " 10  Cash Flow From Continuing Financing Activities  5 non-null      float64\n",
      " 11  Net Other Financing Charges                     5 non-null      float64\n",
      " 12  Cash Dividends Paid                             5 non-null      float64\n",
      " 13  Common Stock Dividend Paid                      5 non-null      float64\n",
      " 14  Net Common Stock Issuance                       5 non-null      float64\n",
      " 15  Common Stock Payments                           5 non-null      float64\n",
      " 16  Net Issuance Payments Of Debt                   5 non-null      float64\n",
      " 17  Net Short Term Debt Issuance                    5 non-null      float64\n",
      " 18  Short Term Debt Payments                        5 non-null      float64\n",
      " 19  Net Long Term Debt Issuance                     5 non-null      float64\n",
      " 20  Long Term Debt Payments                         5 non-null      float64\n",
      " 21  Long Term Debt Issuance                         1 non-null      float64\n",
      " 22  Investing Cash Flow                             5 non-null      float64\n",
      " 23  Cash Flow From Continuing Investing Activities  5 non-null      float64\n",
      " 24  Net Other Investing Changes                     5 non-null      float64\n",
      " 25  Net Investment Purchase And Sale                5 non-null      float64\n",
      " 26  Sale Of Investment                              5 non-null      float64\n",
      " 27  Purchase Of Investment                          5 non-null      float64\n",
      " 28  Net PPE Purchase And Sale                       5 non-null      float64\n",
      " 29  Purchase Of PPE                                 5 non-null      float64\n",
      " 30  Operating Cash Flow                             5 non-null      float64\n",
      " 31  Cash Flow From Continuing Operating Activities  5 non-null      float64\n",
      " 32  Change In Working Capital                       5 non-null      float64\n",
      " 33  Change In Other Current Liabilities             5 non-null      float64\n",
      " 34  Change In Other Current Assets                  5 non-null      float64\n",
      " 35  Change In Payables And Accrued Expense          5 non-null      float64\n",
      " 36  Change In Payable                               5 non-null      float64\n",
      " 37  Change In Account Payable                       5 non-null      float64\n",
      " 38  Change In Inventory                             5 non-null      float64\n",
      " 39  Change In Receivables                           5 non-null      float64\n",
      " 40  Changes In Account Receivables                  5 non-null      float64\n",
      " 41  Other Non Cash Items                            5 non-null      float64\n",
      " 42  Stock Based Compensation                        5 non-null      float64\n",
      " 43  Depreciation Amortization Depletion             5 non-null      float64\n",
      " 44  Depreciation And Amortization                   5 non-null      float64\n",
      " 45  Net Income From Continuing Operations           5 non-null      float64\n",
      "dtypes: float64(46)\n",
      "memory usage: 2.2 KB\n"
     ]
    }
   ],
   "source": [
    "yahoo_symbol_cashflow_quarter.T.info()"
   ]
  },
  {
   "cell_type": "code",
   "execution_count": 44,
   "metadata": {},
   "outputs": [
    {
     "name": "stdout",
     "output_type": "stream",
     "text": [
      "<class 'pandas.core.frame.DataFrame'>\n",
      "DatetimeIndex: 5 entries, 2025-06-30 to 2024-06-30\n",
      "Data columns (total 33 columns):\n",
      " #   Column                                                      Non-Null Count  Dtype  \n",
      "---  ------                                                      --------------  -----  \n",
      " 0   Tax Effect Of Unusual Items                                 5 non-null      float64\n",
      " 1   Tax Rate For Calcs                                          5 non-null      float64\n",
      " 2   Normalized EBITDA                                           5 non-null      float64\n",
      " 3   Net Income From Continuing Operation Net Minority Interest  5 non-null      float64\n",
      " 4   Reconciled Depreciation                                     5 non-null      float64\n",
      " 5   Reconciled Cost Of Revenue                                  5 non-null      float64\n",
      " 6   EBITDA                                                      5 non-null      float64\n",
      " 7   EBIT                                                        5 non-null      float64\n",
      " 8   Normalized Income                                           5 non-null      float64\n",
      " 9   Net Income From Continuing And Discontinued Operation       5 non-null      float64\n",
      " 10  Total Expenses                                              5 non-null      float64\n",
      " 11  Total Operating Income As Reported                          5 non-null      float64\n",
      " 12  Diluted Average Shares                                      5 non-null      float64\n",
      " 13  Basic Average Shares                                        5 non-null      float64\n",
      " 14  Diluted EPS                                                 5 non-null      float64\n",
      " 15  Basic EPS                                                   5 non-null      float64\n",
      " 16  Diluted NI Availto Com Stockholders                         5 non-null      float64\n",
      " 17  Net Income Common Stockholders                              5 non-null      float64\n",
      " 18  Net Income                                                  5 non-null      float64\n",
      " 19  Net Income Including Noncontrolling Interests               5 non-null      float64\n",
      " 20  Net Income Continuous Operations                            5 non-null      float64\n",
      " 21  Tax Provision                                               5 non-null      float64\n",
      " 22  Pretax Income                                               5 non-null      float64\n",
      " 23  Other Income Expense                                        5 non-null      float64\n",
      " 24  Other Non Operating Income Expenses                         5 non-null      float64\n",
      " 25  Operating Income                                            5 non-null      float64\n",
      " 26  Operating Expense                                           5 non-null      float64\n",
      " 27  Research And Development                                    5 non-null      float64\n",
      " 28  Selling General And Administration                          5 non-null      float64\n",
      " 29  Gross Profit                                                5 non-null      float64\n",
      " 30  Cost Of Revenue                                             5 non-null      float64\n",
      " 31  Total Revenue                                               5 non-null      float64\n",
      " 32  Operating Revenue                                           5 non-null      float64\n",
      "dtypes: float64(33)\n",
      "memory usage: 1.3 KB\n"
     ]
    }
   ],
   "source": [
    "yahoo_symbol_income_quarter.T.info()"
   ]
  },
  {
   "cell_type": "code",
   "execution_count": 38,
   "metadata": {},
   "outputs": [
    {
     "name": "stdout",
     "output_type": "stream",
     "text": [
      "<class 'pandas.core.frame.DataFrame'>\n",
      "DatetimeIndex: 6 entries, 2025-06-30 to 2023-12-31\n",
      "Data columns (total 65 columns):\n",
      " #   Column                                               Non-Null Count  Dtype  \n",
      "---  ------                                               --------------  -----  \n",
      " 0   Treasury Shares Number                               1 non-null      float64\n",
      " 1   Ordinary Shares Number                               5 non-null      float64\n",
      " 2   Share Issued                                         5 non-null      float64\n",
      " 3   Net Debt                                             5 non-null      float64\n",
      " 4   Total Debt                                           5 non-null      float64\n",
      " 5   Tangible Book Value                                  5 non-null      float64\n",
      " 6   Invested Capital                                     5 non-null      float64\n",
      " 7   Working Capital                                      5 non-null      float64\n",
      " 8   Net Tangible Assets                                  5 non-null      float64\n",
      " 9   Common Stock Equity                                  5 non-null      float64\n",
      " 10  Total Capitalization                                 5 non-null      float64\n",
      " 11  Total Equity Gross Minority Interest                 5 non-null      float64\n",
      " 12  Stockholders Equity                                  5 non-null      float64\n",
      " 13  Gains Losses Not Affecting Retained Earnings         5 non-null      float64\n",
      " 14  Other Equity Adjustments                             5 non-null      float64\n",
      " 15  Retained Earnings                                    5 non-null      float64\n",
      " 16  Capital Stock                                        5 non-null      float64\n",
      " 17  Common Stock                                         5 non-null      float64\n",
      " 18  Total Liabilities Net Minority Interest              5 non-null      float64\n",
      " 19  Total Non Current Liabilities Net Minority Interest  5 non-null      float64\n",
      " 20  Other Non Current Liabilities                        5 non-null      float64\n",
      " 21  Tradeand Other Payables Non Current                  1 non-null      float64\n",
      " 22  Long Term Debt And Capital Lease Obligation          5 non-null      float64\n",
      " 23  Long Term Debt                                       5 non-null      float64\n",
      " 24  Current Liabilities                                  5 non-null      float64\n",
      " 25  Other Current Liabilities                            5 non-null      float64\n",
      " 26  Current Deferred Liabilities                         5 non-null      float64\n",
      " 27  Current Deferred Revenue                             5 non-null      float64\n",
      " 28  Current Debt And Capital Lease Obligation            5 non-null      float64\n",
      " 29  Current Debt                                         5 non-null      float64\n",
      " 30  Other Current Borrowings                             5 non-null      float64\n",
      " 31  Commercial Paper                                     5 non-null      float64\n",
      " 32  Payables And Accrued Expenses                        5 non-null      float64\n",
      " 33  Payables                                             5 non-null      float64\n",
      " 34  Total Tax Payable                                    1 non-null      float64\n",
      " 35  Income Tax Payable                                   1 non-null      float64\n",
      " 36  Accounts Payable                                     5 non-null      float64\n",
      " 37  Total Assets                                         5 non-null      float64\n",
      " 38  Total Non Current Assets                             5 non-null      float64\n",
      " 39  Other Non Current Assets                             5 non-null      float64\n",
      " 40  Non Current Deferred Assets                          1 non-null      float64\n",
      " 41  Non Current Deferred Taxes Assets                    1 non-null      float64\n",
      " 42  Investments And Advances                             5 non-null      float64\n",
      " 43  Investmentin Financial Assets                        5 non-null      float64\n",
      " 44  Available For Sale Securities                        5 non-null      float64\n",
      " 45  Net PPE                                              5 non-null      float64\n",
      " 46  Accumulated Depreciation                             5 non-null      float64\n",
      " 47  Gross PPE                                            5 non-null      float64\n",
      " 48  Leases                                               1 non-null      float64\n",
      " 49  Machinery Furniture Equipment                        1 non-null      float64\n",
      " 50  Land And Improvements                                1 non-null      float64\n",
      " 51  Properties                                           1 non-null      float64\n",
      " 52  Current Assets                                       5 non-null      float64\n",
      " 53  Other Current Assets                                 5 non-null      float64\n",
      " 54  Inventory                                            5 non-null      float64\n",
      " 55  Finished Goods                                       3 non-null      float64\n",
      " 56  Raw Materials                                        3 non-null      float64\n",
      " 57  Receivables                                          5 non-null      float64\n",
      " 58  Other Receivables                                    5 non-null      float64\n",
      " 59  Accounts Receivable                                  5 non-null      float64\n",
      " 60  Cash Cash Equivalents And Short Term Investments     5 non-null      float64\n",
      " 61  Other Short Term Investments                         5 non-null      float64\n",
      " 62  Cash And Cash Equivalents                            5 non-null      float64\n",
      " 63  Cash Equivalents                                     5 non-null      float64\n",
      " 64  Cash Financial                                       5 non-null      float64\n",
      "dtypes: float64(65)\n",
      "memory usage: 3.3 KB\n"
     ]
    }
   ],
   "source": [
    "yahoo_symbol_balancesheet_quarter.T.info()"
   ]
  },
  {
   "cell_type": "code",
   "execution_count": 34,
   "metadata": {},
   "outputs": [
    {
     "data": {
      "text/plain": [
       "np.float64(494402000000.0)"
      ]
     },
     "execution_count": 34,
     "metadata": {},
     "output_type": "execute_result"
    }
   ],
   "source": [
    "total_revenue = yahoo_symbol_income_quarter.loc['Total Revenue']\n",
    "total_revenue.sum()"
   ]
  },
  {
   "cell_type": "code",
   "execution_count": 35,
   "metadata": {},
   "outputs": [
    {
     "data": {
      "text/plain": [
       "(np.float64(155566000000.0),\n",
       " np.float64(494402000000.0),\n",
       " np.float64(0.31465487599160197))"
      ]
     },
     "execution_count": 35,
     "metadata": {},
     "output_type": "execute_result"
    }
   ],
   "source": [
    "ebit_ttm = yahoo_symbol_income_quarter.loc[\"EBIT\"].sum()\n",
    "\n",
    "if 'Total Revenue' in yahoo_symbol_income_quarter.index:\n",
    "    total_revenue = yahoo_symbol_income_quarter.loc['Total Revenue']\n",
    "    if pd.isna(total_revenue).all():\n",
    "        total_revenue = None\n",
    "\n",
    "\n",
    "total_revenue_ttm = total_revenue.sum()\n",
    "\n",
    "operation_margin = ebit_ttm / total_revenue_ttm if total_revenue_ttm is not None and total_revenue_ttm > 0 else None\n",
    "ebit_ttm, total_revenue_ttm, operation_margin"
   ]
  },
  {
   "cell_type": "code",
   "execution_count": 27,
   "metadata": {},
   "outputs": [],
   "source": [
    "interest_coverage_ebit"
   ]
  },
  {
   "cell_type": "code",
   "execution_count": 4,
   "metadata": {},
   "outputs": [],
   "source": [
    "yahoo_data_earnings_history = yf.Ticker(symbol).earnings_history\n",
    "yahoo_data_earnings_estimate = yf.Ticker(symbol).earnings_estimate\n",
    "yahoo_data_earnings_dates = yf.Ticker(symbol).earnings_dates"
   ]
  },
  {
   "cell_type": "code",
   "execution_count": 5,
   "metadata": {},
   "outputs": [
    {
     "data": {
      "text/html": [
       "<div>\n",
       "<style scoped>\n",
       "    .dataframe tbody tr th:only-of-type {\n",
       "        vertical-align: middle;\n",
       "    }\n",
       "\n",
       "    .dataframe tbody tr th {\n",
       "        vertical-align: top;\n",
       "    }\n",
       "\n",
       "    .dataframe thead th {\n",
       "        text-align: right;\n",
       "    }\n",
       "</style>\n",
       "<table border=\"1\" class=\"dataframe\">\n",
       "  <thead>\n",
       "    <tr style=\"text-align: right;\">\n",
       "      <th></th>\n",
       "      <th>EPS Estimate</th>\n",
       "      <th>Reported EPS</th>\n",
       "      <th>Surprise(%)</th>\n",
       "      <th>Event Type</th>\n",
       "    </tr>\n",
       "    <tr>\n",
       "      <th>Earnings Date</th>\n",
       "      <th></th>\n",
       "      <th></th>\n",
       "      <th></th>\n",
       "      <th></th>\n",
       "    </tr>\n",
       "  </thead>\n",
       "  <tbody>\n",
       "    <tr>\n",
       "      <th>2025-05-01 16:30:00-04:00</th>\n",
       "      <td>1.63</td>\n",
       "      <td>1.65</td>\n",
       "      <td>1.41</td>\n",
       "      <td>Earnings</td>\n",
       "    </tr>\n",
       "    <tr>\n",
       "      <th>2025-02-27 12:00:00-05:00</th>\n",
       "      <td>NaN</td>\n",
       "      <td>NaN</td>\n",
       "      <td>NaN</td>\n",
       "      <td>Meeting</td>\n",
       "    </tr>\n",
       "    <tr>\n",
       "      <th>2025-01-30 16:31:00-05:00</th>\n",
       "      <td>2.35</td>\n",
       "      <td>2.40</td>\n",
       "      <td>2.15</td>\n",
       "      <td>Earnings</td>\n",
       "    </tr>\n",
       "    <tr>\n",
       "      <th>2024-10-31 16:31:00-04:00</th>\n",
       "      <td>1.60</td>\n",
       "      <td>1.64</td>\n",
       "      <td>2.35</td>\n",
       "      <td>Earnings</td>\n",
       "    </tr>\n",
       "    <tr>\n",
       "      <th>2024-08-01 16:30:00-04:00</th>\n",
       "      <td>1.35</td>\n",
       "      <td>1.40</td>\n",
       "      <td>3.99</td>\n",
       "      <td>Earnings</td>\n",
       "    </tr>\n",
       "    <tr>\n",
       "      <th>2024-05-02 16:31:00-04:00</th>\n",
       "      <td>1.50</td>\n",
       "      <td>1.53</td>\n",
       "      <td>1.97</td>\n",
       "      <td>Earnings</td>\n",
       "    </tr>\n",
       "    <tr>\n",
       "      <th>2024-02-01 16:00:00-05:00</th>\n",
       "      <td>2.10</td>\n",
       "      <td>2.18</td>\n",
       "      <td>3.90</td>\n",
       "      <td>Earnings</td>\n",
       "    </tr>\n",
       "    <tr>\n",
       "      <th>2023-11-02 16:30:00-04:00</th>\n",
       "      <td>1.39</td>\n",
       "      <td>1.46</td>\n",
       "      <td>4.92</td>\n",
       "      <td>Earnings</td>\n",
       "    </tr>\n",
       "    <tr>\n",
       "      <th>2023-08-03 16:30:00-04:00</th>\n",
       "      <td>1.19</td>\n",
       "      <td>1.26</td>\n",
       "      <td>5.49</td>\n",
       "      <td>Earnings</td>\n",
       "    </tr>\n",
       "    <tr>\n",
       "      <th>2023-05-04 16:30:00-04:00</th>\n",
       "      <td>1.43</td>\n",
       "      <td>1.52</td>\n",
       "      <td>6.03</td>\n",
       "      <td>Earnings</td>\n",
       "    </tr>\n",
       "    <tr>\n",
       "      <th>2023-02-02 16:30:00-05:00</th>\n",
       "      <td>1.94</td>\n",
       "      <td>1.88</td>\n",
       "      <td>-2.88</td>\n",
       "      <td>Earnings</td>\n",
       "    </tr>\n",
       "    <tr>\n",
       "      <th>2022-10-27 16:30:00-04:00</th>\n",
       "      <td>1.27</td>\n",
       "      <td>1.29</td>\n",
       "      <td>1.55</td>\n",
       "      <td>Earnings</td>\n",
       "    </tr>\n",
       "  </tbody>\n",
       "</table>\n",
       "</div>"
      ],
      "text/plain": [
       "                           EPS Estimate  Reported EPS  Surprise(%) Event Type\n",
       "Earnings Date                                                                \n",
       "2025-05-01 16:30:00-04:00          1.63          1.65         1.41   Earnings\n",
       "2025-02-27 12:00:00-05:00           NaN           NaN          NaN    Meeting\n",
       "2025-01-30 16:31:00-05:00          2.35          2.40         2.15   Earnings\n",
       "2024-10-31 16:31:00-04:00          1.60          1.64         2.35   Earnings\n",
       "2024-08-01 16:30:00-04:00          1.35          1.40         3.99   Earnings\n",
       "2024-05-02 16:31:00-04:00          1.50          1.53         1.97   Earnings\n",
       "2024-02-01 16:00:00-05:00          2.10          2.18         3.90   Earnings\n",
       "2023-11-02 16:30:00-04:00          1.39          1.46         4.92   Earnings\n",
       "2023-08-03 16:30:00-04:00          1.19          1.26         5.49   Earnings\n",
       "2023-05-04 16:30:00-04:00          1.43          1.52         6.03   Earnings\n",
       "2023-02-02 16:30:00-05:00          1.94          1.88        -2.88   Earnings\n",
       "2022-10-27 16:30:00-04:00          1.27          1.29         1.55   Earnings"
      ]
     },
     "execution_count": 5,
     "metadata": {},
     "output_type": "execute_result"
    }
   ],
   "source": [
    "yahoo_data_earnings_dates"
   ]
  },
  {
   "cell_type": "code",
   "execution_count": 9,
   "metadata": {},
   "outputs": [
    {
     "name": "stdout",
     "output_type": "stream",
     "text": [
      "<class 'pandas.core.frame.DataFrame'>\n",
      "DatetimeIndex: 12 entries, 2025-05-01 16:30:00-04:00 to 2022-10-27 16:30:00-04:00\n",
      "Data columns (total 4 columns):\n",
      " #   Column        Non-Null Count  Dtype  \n",
      "---  ------        --------------  -----  \n",
      " 0   EPS Estimate  11 non-null     float64\n",
      " 1   Reported EPS  11 non-null     float64\n",
      " 2   Surprise(%)   11 non-null     float64\n",
      " 3   Event Type    12 non-null     object \n",
      "dtypes: float64(3), object(1)\n",
      "memory usage: 480.0+ bytes\n"
     ]
    }
   ],
   "source": [
    "yahoo_data_earnings_dates.info()"
   ]
  },
  {
   "cell_type": "code",
   "execution_count": null,
   "metadata": {},
   "outputs": [
    {
     "data": {
      "image/png": "[encoded data removed]",
      "text/plain": [
       "<Figure size 640x480 with 2 Axes>"
      ]
     },
     "metadata": {},
     "output_type": "display_data"
    }
   ],
   "source": [
    "\n",
    "# --- assume que seu DataFrame já se chama df ---\n",
    "# Índice é DatetimeIndex (com ou sem timezone). Garanta a ordem cronológica:\n",
    "df_plot = yahoo_data_earnings_dates.sort_index()\n",
    "\n",
    "# Filtra apenas eventos de Earnings\n",
    "df_plot = df_plot[df_plot[\"Event Type\"] == \"Earnings\"].copy()\n",
    "\n",
    "# (opcional) se quiser nomes mais curtos no eixo X\n",
    "# df_plot.index = df_plot.index.tz_convert('UTC') if df_plot.index.tz is not None else df_plot.index\n",
    "\n",
    "fig, ax1 = plt.subplots()\n",
    "\n",
    "# Linhas de EPS\n",
    "ax1.plot(df_plot.index, df_plot[\"EPS Estimate\"], marker=\"o\", label=\"EPS Estimate\")\n",
    "ax1.plot(df_plot.index, df_plot[\"Reported EPS\"], marker=\"o\", label=\"Reported EPS\")\n",
    "ax1.set_xlabel(\"Data\")\n",
    "ax1.set_ylabel(\"EPS\")\n",
    "ax1.legend(loc=\"upper left\")\n",
    "\n",
    "# Barras de Surpresa (%) num eixo secundário\n",
    "ax2 = ax1.twinx()\n",
    "ax2.bar(df_plot.index, df_plot[\"Surprise(%)\"], alpha=0.35)\n",
    "ax2.set_ylabel(\"Surpresa (%)\")\n",
    "\n",
    "fig.autofmt_xdate()\n",
    "fig.tight_layout()\n",
    "plt.show()"
   ]
  },
  {
   "cell_type": "code",
   "execution_count": 12,
   "metadata": {},
   "outputs": [
    {
     "data": {
      "text/html": [
       "<div>\n",
       "<style scoped>\n",
       "    .dataframe tbody tr th:only-of-type {\n",
       "        vertical-align: middle;\n",
       "    }\n",
       "\n",
       "    .dataframe tbody tr th {\n",
       "        vertical-align: top;\n",
       "    }\n",
       "\n",
       "    .dataframe thead th {\n",
       "        text-align: right;\n",
       "    }\n",
       "</style>\n",
       "<table border=\"1\" class=\"dataframe\">\n",
       "  <thead>\n",
       "    <tr style=\"text-align: right;\">\n",
       "      <th></th>\n",
       "      <th>epsActual</th>\n",
       "      <th>epsEstimate</th>\n",
       "      <th>epsDifference</th>\n",
       "      <th>surprisePercent</th>\n",
       "    </tr>\n",
       "    <tr>\n",
       "      <th>quarter</th>\n",
       "      <th></th>\n",
       "      <th></th>\n",
       "      <th></th>\n",
       "      <th></th>\n",
       "    </tr>\n",
       "  </thead>\n",
       "  <tbody>\n",
       "    <tr>\n",
       "      <th>2024-09-30</th>\n",
       "      <td>0.97</td>\n",
       "      <td>0.94654</td>\n",
       "      <td>0.02</td>\n",
       "      <td>0.0248</td>\n",
       "    </tr>\n",
       "    <tr>\n",
       "      <th>2024-12-31</th>\n",
       "      <td>2.40</td>\n",
       "      <td>2.34102</td>\n",
       "      <td>0.06</td>\n",
       "      <td>0.0252</td>\n",
       "    </tr>\n",
       "    <tr>\n",
       "      <th>2025-03-31</th>\n",
       "      <td>1.65</td>\n",
       "      <td>1.62253</td>\n",
       "      <td>0.03</td>\n",
       "      <td>0.0169</td>\n",
       "    </tr>\n",
       "    <tr>\n",
       "      <th>2025-06-30</th>\n",
       "      <td>1.57</td>\n",
       "      <td>1.42572</td>\n",
       "      <td>0.14</td>\n",
       "      <td>0.1012</td>\n",
       "    </tr>\n",
       "  </tbody>\n",
       "</table>\n",
       "</div>"
      ],
      "text/plain": [
       "            epsActual  epsEstimate  epsDifference  surprisePercent\n",
       "quarter                                                           \n",
       "2024-09-30       0.97      0.94654           0.02           0.0248\n",
       "2024-12-31       2.40      2.34102           0.06           0.0252\n",
       "2025-03-31       1.65      1.62253           0.03           0.0169\n",
       "2025-06-30       1.57      1.42572           0.14           0.1012"
      ]
     },
     "execution_count": 12,
     "metadata": {},
     "output_type": "execute_result"
    }
   ],
   "source": [
    "yahoo_data_earnings_history"
   ]
  },
  {
   "cell_type": "code",
   "execution_count": 18,
   "metadata": {},
   "outputs": [
    {
     "name": "stdout",
     "output_type": "stream",
     "text": [
      "Requirement already satisfied: nbformat in d:\\taurus python\\.venv\\lib\\site-packages (5.10.4)\n",
      "Requirement already satisfied: fastjsonschema>=2.15 in d:\\taurus python\\.venv\\lib\\site-packages (from nbformat) (2.21.2)\n",
      "Requirement already satisfied: jsonschema>=2.6 in d:\\taurus python\\.venv\\lib\\site-packages (from nbformat) (4.25.1)\n",
      "Requirement already satisfied: jupyter-core!=5.0.*,>=4.12 in d:\\taurus python\\.venv\\lib\\site-packages (from nbformat) (5.8.1)\n",
      "Requirement already satisfied: traitlets>=5.1 in d:\\taurus python\\.venv\\lib\\site-packages (from nbformat) (5.14.3)\n",
      "Requirement already satisfied: attrs>=22.2.0 in d:\\taurus python\\.venv\\lib\\site-packages (from jsonschema>=2.6->nbformat) (25.3.0)\n",
      "Requirement already satisfied: jsonschema-specifications>=2023.03.6 in d:\\taurus python\\.venv\\lib\\site-packages (from jsonschema>=2.6->nbformat) (2025.4.1)\n",
      "Requirement already satisfied: referencing>=0.28.4 in d:\\taurus python\\.venv\\lib\\site-packages (from jsonschema>=2.6->nbformat) (0.36.2)\n",
      "Requirement already satisfied: rpds-py>=0.7.1 in d:\\taurus python\\.venv\\lib\\site-packages (from jsonschema>=2.6->nbformat) (0.27.1)\n",
      "Requirement already satisfied: platformdirs>=2.5 in d:\\taurus python\\.venv\\lib\\site-packages (from jupyter-core!=5.0.*,>=4.12->nbformat) (4.3.8)\n",
      "Requirement already satisfied: pywin32>=300 in d:\\taurus python\\.venv\\lib\\site-packages (from jupyter-core!=5.0.*,>=4.12->nbformat) (311)\n",
      "Requirement already satisfied: typing-extensions>=4.4.0 in d:\\taurus python\\.venv\\lib\\site-packages (from referencing>=0.28.4->jsonschema>=2.6->nbformat) (4.14.1)\n"
     ]
    }
   ],
   "source": [
    "!pip install nbformat\n"
   ]
  },
  {
   "cell_type": "code",
   "execution_count": 13,
   "metadata": {},
   "outputs": [
    {
     "data": {
      "text/html": [
       "<div>\n",
       "<style scoped>\n",
       "    .dataframe tbody tr th:only-of-type {\n",
       "        vertical-align: middle;\n",
       "    }\n",
       "\n",
       "    .dataframe tbody tr th {\n",
       "        vertical-align: top;\n",
       "    }\n",
       "\n",
       "    .dataframe thead th {\n",
       "        text-align: right;\n",
       "    }\n",
       "</style>\n",
       "<table border=\"1\" class=\"dataframe\">\n",
       "  <thead>\n",
       "    <tr style=\"text-align: right;\">\n",
       "      <th></th>\n",
       "      <th>avg</th>\n",
       "      <th>low</th>\n",
       "      <th>high</th>\n",
       "      <th>yearAgoEps</th>\n",
       "      <th>numberOfAnalysts</th>\n",
       "      <th>growth</th>\n",
       "    </tr>\n",
       "    <tr>\n",
       "      <th>period</th>\n",
       "      <th></th>\n",
       "      <th></th>\n",
       "      <th></th>\n",
       "      <th></th>\n",
       "      <th></th>\n",
       "      <th></th>\n",
       "    </tr>\n",
       "  </thead>\n",
       "  <tbody>\n",
       "    <tr>\n",
       "      <th>0q</th>\n",
       "      <td>1.75840</td>\n",
       "      <td>1.63</td>\n",
       "      <td>1.82</td>\n",
       "      <td>0.97000</td>\n",
       "      <td>26</td>\n",
       "      <td>0.8128</td>\n",
       "    </tr>\n",
       "    <tr>\n",
       "      <th>+1q</th>\n",
       "      <td>2.46401</td>\n",
       "      <td>2.29</td>\n",
       "      <td>2.67</td>\n",
       "      <td>2.40000</td>\n",
       "      <td>22</td>\n",
       "      <td>0.0267</td>\n",
       "    </tr>\n",
       "    <tr>\n",
       "      <th>0y</th>\n",
       "      <td>7.38321</td>\n",
       "      <td>7.25</td>\n",
       "      <td>7.47</td>\n",
       "      <td>6.08000</td>\n",
       "      <td>35</td>\n",
       "      <td>0.2143</td>\n",
       "    </tr>\n",
       "    <tr>\n",
       "      <th>+1y</th>\n",
       "      <td>7.94575</td>\n",
       "      <td>7.13</td>\n",
       "      <td>9.00</td>\n",
       "      <td>7.38321</td>\n",
       "      <td>38</td>\n",
       "      <td>0.0762</td>\n",
       "    </tr>\n",
       "  </tbody>\n",
       "</table>\n",
       "</div>"
      ],
      "text/plain": [
       "            avg   low  high  yearAgoEps  numberOfAnalysts  growth\n",
       "period                                                           \n",
       "0q      1.75840  1.63  1.82     0.97000                26  0.8128\n",
       "+1q     2.46401  2.29  2.67     2.40000                22  0.0267\n",
       "0y      7.38321  7.25  7.47     6.08000                35  0.2143\n",
       "+1y     7.94575  7.13  9.00     7.38321                38  0.0762"
      ]
     },
     "execution_count": 13,
     "metadata": {},
     "output_type": "execute_result"
    }
   ],
   "source": [
    "yahoo_data_earnings_estimate"
   ]
  },
  {
   "cell_type": "code",
   "execution_count": null,
   "metadata": {},
   "outputs": [],
   "source": []
  },
  {
   "cell_type": "code",
   "execution_count": 23,
   "metadata": {},
   "outputs": [],
   "source": [
    "def get_sector_etf_info(sector: str, search_value: str = \"info\"):\n",
    "        \"\"\"\n",
    "        Return information about symbol ETF sector.\n",
    "        \"\"\"\n",
    "        sector_map = {\n",
    "            \"Technology\": \"XLK\",\n",
    "            \"Financial Services\": \"XLF\",\n",
    "            \"Consumer Cyclical\": \"XLY\",\n",
    "            \"Healthcare\": \"XLV\",\n",
    "            \"Communication Services\": \"XLC\",\n",
    "            \"Industrials\": \"XLI\",\n",
    "            \"Consumer Defensive\": \"XLP\",\n",
    "            \"Energy\": \"XLE\",\n",
    "            \"Real Estate\": \"XLRE\",\n",
    "            \"Basic Materials\": \"XLB\",\n",
    "            \"Utilities\": \"XLU\",\n",
    "        }\n",
    "\n",
    "        etf_symbol = sector_map.get(sector)\n",
    "        if not etf_symbol:\n",
    "            return \"NaN\"\n",
    "\n",
    "        ticker = yf.Ticker(etf_symbol)\n",
    "\n",
    "        if search_value == \"info\":\n",
    "            return ticker.info\n",
    "        else:\n",
    "            return ticker.info.get(search_value, \"NaN\")"
   ]
  },
  {
   "cell_type": "code",
   "execution_count": 24,
   "metadata": {},
   "outputs": [],
   "source": [
    "# sector = get_sector_etf_info('Utilities')\n",
    "# sector"
   ]
  },
  {
   "cell_type": "code",
   "execution_count": null,
   "metadata": {},
   "outputs": [],
   "source": []
  }
 ],
 "metadata": {
  "kernelspec": {
   "display_name": ".venv",
   "language": "python",
   "name": "python3"
  },
  "language_info": {
   "codemirror_mode": {
    "name": "ipython",
    "version": 3
   },
   "file_extension": ".py",
   "mimetype": "text/x-python",
   "name": "python",
   "nbconvert_exporter": "python",
   "pygments_lexer": "ipython3",
   "version": "3.11.9"
  }
 },
 "nbformat": 4,
 "nbformat_minor": 2
}
