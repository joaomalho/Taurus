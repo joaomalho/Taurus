{
 "cells": [
  {
   "cell_type": "code",
   "execution_count": 2,
   "metadata": {},
   "outputs": [],
   "source": [
    "import yfinance as yf\n",
    "from datetime import datetime\n",
    "import warnings\n",
    "\n",
    "# Suprimir avisos específicos\n",
    "warnings.filterwarnings(\"ignore\", category=FutureWarning, module=\"yfinance\")\n",
    "\n",
    "def get_data_history_yahoo(symbol : str, period : str, interval, start = '1900-01-01', end = datetime.now(), prepost : bool = True, debug : bool = True):\n",
    "    '''\n",
    "    Data collection from yahoo\n",
    "\n",
    "    __Parameters:__\n",
    "    period : str\n",
    "        Valid periods: 1d,5d,1mo,3mo,6mo,1y,2y,5y,10y,ytd,max Either Use period parameter or use start and end\n",
    "    interval : str\n",
    "        Valid intervals: 1m,2m,5m,15m,30m,60m,90m,1h,1d,5d,1wk,1mo,3mo Intraday data cannot extend last 60 days\n",
    "    start: str\n",
    "        Download start date string (YYYY-MM-DD) or _datetime, inclusive. Default is 1900-01-01 E.g. for start=\"2020-01-01\", the first data point will be on \"2020-01-01\"\n",
    "    end: str\n",
    "        Download end date string (YYYY-MM-DD) or _datetime, exclusive. Default is now E.g. for end=\"2023-01-01\", the last data point will be on \"2022-12-31\"\n",
    "    prepost : bool\n",
    "        Include Pre and Post market data in results? Default is False\n",
    "    debug: bool\n",
    "        If passed as False, will suppress error message printing to console.\n",
    "    '''\n",
    "    dt = yf.Ticker(symbol).history(period=period, interval=interval, start=start, end=end, prepost=prepost, debug=debug)\n",
    "\n",
    "    return dt\n",
    "\n",
    "dt = get_data_history_yahoo(symbol=\"AAPL\", period= \"1d\", interval = \"1mo\", start = \"2024-10-01\", end = datetime.now(), prepost = True, debug = True)\n"
   ]
  },
  {
   "cell_type": "markdown",
   "metadata": {},
   "source": [
    "Exemplo de Informações Retornadas:\n",
    "\n",
    "longName: Nome completo do ativo.\n",
    "sector: Setor da empresa.\n",
    "industry: Indústria.\n",
    "country: País.\n",
    "currency: Moeda em que o ativo é negociado.\n",
    "marketCap: Capitalização de mercado.\n",
    "dividendYield: Rendimento por dividendo.\n",
    "trailingPE: P/E (Price/Earnings) histórico.\n",
    "forwardPE: P/E projetado.\n",
    "beta: Beta do ativo.\n",
    "52WeekChange: Mudança percentual em 52 semanas.\n",
    "website: Website da empresa."
   ]
  },
  {
   "cell_type": "code",
   "execution_count": null,
   "metadata": {},
   "outputs": [
    {
     "ename": "TypeError",
     "evalue": "'NoneType' object is not subscriptable",
     "output_type": "error",
     "traceback": [
      "\u001b[1;31m---------------------------------------------------------------------------\u001b[0m",
      "\u001b[1;31mTypeError\u001b[0m                                 Traceback (most recent call last)",
      "Cell \u001b[1;32mIn[32], line 2\u001b[0m\n\u001b[0;32m      1\u001b[0m \u001b[38;5;66;03m# Dividendos\u001b[39;00m\n\u001b[1;32m----> 2\u001b[0m dividends \u001b[38;5;241m=\u001b[39m \u001b[43mticker_data\u001b[49m\u001b[38;5;241;43m.\u001b[39;49m\u001b[43moption_chain\u001b[49m\u001b[43m(\u001b[49m\u001b[43m)\u001b[49m\n\u001b[0;32m      3\u001b[0m \u001b[38;5;28mprint\u001b[39m(\u001b[38;5;124m\"\u001b[39m\u001b[38;5;124mDividendos:\u001b[39m\u001b[38;5;124m\"\u001b[39m, dividends)\n",
      "File \u001b[1;32mc:\\Users\\joaom\\AppData\\Local\\Programs\\Python\\Python311\\Lib\\site-packages\\yfinance\\ticker.py:94\u001b[0m, in \u001b[0;36mTicker.option_chain\u001b[1;34m(self, date, proxy, tz)\u001b[0m\n\u001b[0;32m     90\u001b[0m     date \u001b[38;5;241m=\u001b[39m \u001b[38;5;28mself\u001b[39m\u001b[38;5;241m.\u001b[39m_expirations[date]\n\u001b[0;32m     91\u001b[0m     options \u001b[38;5;241m=\u001b[39m \u001b[38;5;28mself\u001b[39m\u001b[38;5;241m.\u001b[39m_download_options(date, proxy\u001b[38;5;241m=\u001b[39mproxy)\n\u001b[0;32m     93\u001b[0m \u001b[38;5;28;01mreturn\u001b[39;00m _namedtuple(\u001b[38;5;124m'\u001b[39m\u001b[38;5;124mOptions\u001b[39m\u001b[38;5;124m'\u001b[39m, [\u001b[38;5;124m'\u001b[39m\u001b[38;5;124mcalls\u001b[39m\u001b[38;5;124m'\u001b[39m, \u001b[38;5;124m'\u001b[39m\u001b[38;5;124mputs\u001b[39m\u001b[38;5;124m'\u001b[39m])(\u001b[38;5;241m*\u001b[39m\u001b[38;5;241m*\u001b[39m{\n\u001b[1;32m---> 94\u001b[0m     \u001b[38;5;124m\"\u001b[39m\u001b[38;5;124mcalls\u001b[39m\u001b[38;5;124m\"\u001b[39m: \u001b[38;5;28mself\u001b[39m\u001b[38;5;241m.\u001b[39m_options2df(\u001b[43moptions\u001b[49m\u001b[43m[\u001b[49m\u001b[38;5;124;43m'\u001b[39;49m\u001b[38;5;124;43mcalls\u001b[39;49m\u001b[38;5;124;43m'\u001b[39;49m\u001b[43m]\u001b[49m, tz\u001b[38;5;241m=\u001b[39mtz),\n\u001b[0;32m     95\u001b[0m     \u001b[38;5;124m\"\u001b[39m\u001b[38;5;124mputs\u001b[39m\u001b[38;5;124m\"\u001b[39m: \u001b[38;5;28mself\u001b[39m\u001b[38;5;241m.\u001b[39m_options2df(options[\u001b[38;5;124m'\u001b[39m\u001b[38;5;124mputs\u001b[39m\u001b[38;5;124m'\u001b[39m], tz\u001b[38;5;241m=\u001b[39mtz)\n\u001b[0;32m     96\u001b[0m })\n",
      "\u001b[1;31mTypeError\u001b[0m: 'NoneType' object is not subscriptable"
     ]
    }
   ],
   "source": [
    "# Dividendos\n",
    "dividends = ticker_data.cashflow\n",
    "print(\"Dividendos:\", dividends)\n"
   ]
  },
  {
   "cell_type": "markdown",
   "metadata": {},
   "source": [
    "Obtenha informações sobre dividendos pagos e divisões de ações."
   ]
  },
  {
   "cell_type": "code",
   "execution_count": 35,
   "metadata": {},
   "outputs": [
    {
     "name": "stdout",
     "output_type": "stream",
     "text": [
      "exchange: NMS\n",
      "lastVolume: 29983256\n",
      "marketCap: 3748113758399.3906\n",
      "quoteType: EQUITY\n",
      "regularMarketPreviousClose: 246.49000549316406\n",
      "shares: 15115799552\n"
     ]
    }
   ],
   "source": [
    "# Criar objeto do ticker\n",
    "ticker_data = yf.Ticker(\"AAPL\")\n",
    "\n",
    "# Acessar fast_info\n",
    "recommendations = ticker_data.fast_info\n",
    "\n",
    "# Exemplo de acesso às informações\n",
    "print(\"exchange:\", recommendations['exchange'])\n",
    "\n",
    "print(\"marketCap:\", recommendations['marketCap'])\n",
    "print(\"quoteType:\", recommendations['quoteType'])\n",
    "print(\"regularMarketPreviousClose:\", recommendations['regularMarketPreviousClose'])\n",
    "print(\"shares:\", recommendations['shares'])"
   ]
  },
  {
   "cell_type": "markdown",
   "metadata": {},
   "source": [
    "exchange\n",
    "lastVolume\n",
    "marketCap\n",
    "quoteType\n",
    "regularMarketPreviousClose\n",
    "shares"
   ]
  },
  {
   "cell_type": "code",
   "execution_count": null,
   "metadata": {},
   "outputs": [],
   "source": [
    "# Notícias\n",
    "news = ticker_data.news\n",
    "print(news)"
   ]
  },
  {
   "cell_type": "markdown",
   "metadata": {},
   "source": [
    "Acessar notícias relacionadas ao ativo (se disponíveis)."
   ]
  },
  {
   "cell_type": "code",
   "execution_count": null,
   "metadata": {},
   "outputs": [],
   "source": [
    "# Eventos corporativos\n",
    "calendar = ticker_data.calendar\n",
    "print(calendar)"
   ]
  },
  {
   "cell_type": "markdown",
   "metadata": {},
   "source": [
    "Inclui datas de divulgação de resultados."
   ]
  },
  {
   "cell_type": "code",
   "execution_count": null,
   "metadata": {},
   "outputs": [],
   "source": [
    "# Datas disponíveis para opções\n",
    "options_dates = ticker_data.options\n",
    "print(\"Datas de opções:\", options_dates)\n",
    "\n",
    "# Obter opções para uma data específica\n",
    "options = ticker_data.option_chain(options_dates[0])\n",
    "print(\"Opções de compra (calls):\", options.calls)\n",
    "print(\"Opções de venda (puts):\", options.puts)"
   ]
  },
  {
   "cell_type": "markdown",
   "metadata": {},
   "source": [
    "Obtenha informações sobre opções de compra e venda (calls e puts)."
   ]
  },
  {
   "cell_type": "code",
   "execution_count": null,
   "metadata": {},
   "outputs": [],
   "source": [
    "# Demonstrativo financeiro\n",
    "financials = ticker_data.financials\n",
    "print(\"Demonstrativo financeiro:\", financials)\n",
    "\n",
    "# Balanço patrimonial\n",
    "balance_sheet = ticker_data.balance_sheet\n",
    "print(\"Balanço patrimonial:\", balance_sheet)\n",
    "\n",
    "# Fluxo de caixa\n",
    "cashflow = ticker_data.cashflow\n",
    "print(\"Fluxo de caixa:\", cashflow)"
   ]
  },
  {
   "cell_type": "markdown",
   "metadata": {},
   "source": [
    "Informações financeiras mais detalhadas da empresa."
   ]
  },
  {
   "cell_type": "code",
   "execution_count": null,
   "metadata": {},
   "outputs": [],
   "source": [
    "# Dados de sustentabilidade\n",
    "sustainability = ticker_data.sustainability\n",
    "print(sustainability)"
   ]
  },
  {
   "cell_type": "markdown",
   "metadata": {},
   "source": [
    "Informações de ESG (Environmental, Social, Governance)."
   ]
  },
  {
   "cell_type": "code",
   "execution_count": null,
   "metadata": {},
   "outputs": [],
   "source": [
    "# Ações em circulação\n",
    "shares = ticker_data.shares\n",
    "print(\"Ações em circulação:\", shares)"
   ]
  },
  {
   "cell_type": "markdown",
   "metadata": {},
   "source": [
    "Obtenha informações sobre ações em circulação e histórico de splits."
   ]
  },
  {
   "cell_type": "code",
   "execution_count": null,
   "metadata": {},
   "outputs": [],
   "source": [
    "# Principais investidores institucionais\n",
    "holders = ticker_data.institutional_holders\n",
    "print(\"Instituições investidoras:\", holders)\n"
   ]
  },
  {
   "cell_type": "markdown",
   "metadata": {},
   "source": [
    "Dados sobre investidores institucionais e sua participação."
   ]
  }
 ],
 "metadata": {
  "kernelspec": {
   "display_name": "Python 3",
   "language": "python",
   "name": "python3"
  },
  "language_info": {
   "codemirror_mode": {
    "name": "ipython",
    "version": 3
   },
   "file_extension": ".py",
   "mimetype": "text/x-python",
   "name": "python",
   "nbconvert_exporter": "python",
   "pygments_lexer": "ipython3",
   "version": "3.11.4"
  }
 },
 "nbformat": 4,
 "nbformat_minor": 2
}
